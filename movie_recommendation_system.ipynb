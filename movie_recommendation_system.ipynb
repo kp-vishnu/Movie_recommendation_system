{
 "cells": [
  {
   "cell_type": "markdown",
   "id": "e80b97e1",
   "metadata": {},
   "source": [
    "####                                 Importing relevant libraries :"
   ]
  },
  {
   "cell_type": "code",
   "execution_count": 1,
   "id": "e14d15b4",
   "metadata": {},
   "outputs": [],
   "source": [
    "import numpy as np          # For complicated mathematical alculaions\n",
    "import pandas as pd,datetime as dt    # For Data Manipulations\n",
    "import matplotlib.pyplot as plt      # For plotting the graphs and figures\n",
    "import seaborn as sns       # For Visualization  \n",
    "import ast                   # to interact with the Python code itself and can modify it.\n",
    "\n",
    "from scipy import stats         ## to use statistics module functions\n",
    "from ast import literal_eval     ## evaluate strings containing Python code\n",
    "\n",
    "import warnings             #  disable warning \n",
    "warnings.filterwarnings(\"ignore\")"
   ]
  },
  {
   "cell_type": "code",
   "execution_count": 2,
   "id": "b9ede854",
   "metadata": {},
   "outputs": [],
   "source": [
    "from sklearn.linear_model import LogisticRegression\n",
    "from sklearn.model_selection import train_test_split, cross_val_score\n",
    "from sklearn.metrics import confusion_matrix, accuracy_score, precision_score, recall_score, f1_score\n",
    "\n",
    "\n",
    "from sklearn.neighbors import KNeighborsClassifier\n",
    "from sklearn.svm import SVC\n",
    "from sklearn.tree import DecisionTreeClassifier\n",
    "from sklearn.ensemble import RandomForestClassifier\n"
   ]
  },
  {
   "cell_type": "markdown",
   "id": "589b1d4d",
   "metadata": {},
   "source": [
    "##### Reading the dataset into Python Environment :"
   ]
  },
  {
   "cell_type": "code",
   "execution_count": 3,
   "id": "9a95cc34",
   "metadata": {},
   "outputs": [
    {
     "data": {
      "text/html": [
       "<div>\n",
       "<style scoped>\n",
       "    .dataframe tbody tr th:only-of-type {\n",
       "        vertical-align: middle;\n",
       "    }\n",
       "\n",
       "    .dataframe tbody tr th {\n",
       "        vertical-align: top;\n",
       "    }\n",
       "\n",
       "    .dataframe thead th {\n",
       "        text-align: right;\n",
       "    }\n",
       "</style>\n",
       "<table border=\"1\" class=\"dataframe\">\n",
       "  <thead>\n",
       "    <tr style=\"text-align: right;\">\n",
       "      <th></th>\n",
       "      <th>adult</th>\n",
       "      <th>belongs_to_collection</th>\n",
       "      <th>budget</th>\n",
       "      <th>genres</th>\n",
       "      <th>homepage</th>\n",
       "      <th>id</th>\n",
       "      <th>imdb_id</th>\n",
       "      <th>original_language</th>\n",
       "      <th>original_title</th>\n",
       "      <th>overview</th>\n",
       "      <th>...</th>\n",
       "      <th>release_date</th>\n",
       "      <th>revenue</th>\n",
       "      <th>runtime</th>\n",
       "      <th>spoken_languages</th>\n",
       "      <th>status</th>\n",
       "      <th>tagline</th>\n",
       "      <th>title</th>\n",
       "      <th>video</th>\n",
       "      <th>vote_average</th>\n",
       "      <th>vote_count</th>\n",
       "    </tr>\n",
       "  </thead>\n",
       "  <tbody>\n",
       "    <tr>\n",
       "      <th>0</th>\n",
       "      <td>False</td>\n",
       "      <td>{'id': 10194, 'name': 'Toy Story Collection', ...</td>\n",
       "      <td>30000000</td>\n",
       "      <td>[{'id': 16, 'name': 'Animation'}, {'id': 35, '...</td>\n",
       "      <td>http://toystory.disney.com/toy-story</td>\n",
       "      <td>862</td>\n",
       "      <td>tt0114709</td>\n",
       "      <td>en</td>\n",
       "      <td>Toy Story</td>\n",
       "      <td>Led by Woody, Andy's toys live happily in his ...</td>\n",
       "      <td>...</td>\n",
       "      <td>1995-10-30</td>\n",
       "      <td>373554033.0</td>\n",
       "      <td>81.0</td>\n",
       "      <td>[{'iso_639_1': 'en', 'name': 'English'}]</td>\n",
       "      <td>Released</td>\n",
       "      <td>NaN</td>\n",
       "      <td>Toy Story</td>\n",
       "      <td>False</td>\n",
       "      <td>7.7</td>\n",
       "      <td>5415.0</td>\n",
       "    </tr>\n",
       "    <tr>\n",
       "      <th>1</th>\n",
       "      <td>False</td>\n",
       "      <td>NaN</td>\n",
       "      <td>65000000</td>\n",
       "      <td>[{'id': 12, 'name': 'Adventure'}, {'id': 14, '...</td>\n",
       "      <td>NaN</td>\n",
       "      <td>8844</td>\n",
       "      <td>tt0113497</td>\n",
       "      <td>en</td>\n",
       "      <td>Jumanji</td>\n",
       "      <td>When siblings Judy and Peter discover an encha...</td>\n",
       "      <td>...</td>\n",
       "      <td>1995-12-15</td>\n",
       "      <td>262797249.0</td>\n",
       "      <td>104.0</td>\n",
       "      <td>[{'iso_639_1': 'en', 'name': 'English'}, {'iso...</td>\n",
       "      <td>Released</td>\n",
       "      <td>Roll the dice and unleash the excitement!</td>\n",
       "      <td>Jumanji</td>\n",
       "      <td>False</td>\n",
       "      <td>6.9</td>\n",
       "      <td>2413.0</td>\n",
       "    </tr>\n",
       "    <tr>\n",
       "      <th>2</th>\n",
       "      <td>False</td>\n",
       "      <td>{'id': 119050, 'name': 'Grumpy Old Men Collect...</td>\n",
       "      <td>0</td>\n",
       "      <td>[{'id': 10749, 'name': 'Romance'}, {'id': 35, ...</td>\n",
       "      <td>NaN</td>\n",
       "      <td>15602</td>\n",
       "      <td>tt0113228</td>\n",
       "      <td>en</td>\n",
       "      <td>Grumpier Old Men</td>\n",
       "      <td>A family wedding reignites the ancient feud be...</td>\n",
       "      <td>...</td>\n",
       "      <td>1995-12-22</td>\n",
       "      <td>0.0</td>\n",
       "      <td>101.0</td>\n",
       "      <td>[{'iso_639_1': 'en', 'name': 'English'}]</td>\n",
       "      <td>Released</td>\n",
       "      <td>Still Yelling. Still Fighting. Still Ready for...</td>\n",
       "      <td>Grumpier Old Men</td>\n",
       "      <td>False</td>\n",
       "      <td>6.5</td>\n",
       "      <td>92.0</td>\n",
       "    </tr>\n",
       "    <tr>\n",
       "      <th>3</th>\n",
       "      <td>False</td>\n",
       "      <td>NaN</td>\n",
       "      <td>16000000</td>\n",
       "      <td>[{'id': 35, 'name': 'Comedy'}, {'id': 18, 'nam...</td>\n",
       "      <td>NaN</td>\n",
       "      <td>31357</td>\n",
       "      <td>tt0114885</td>\n",
       "      <td>en</td>\n",
       "      <td>Waiting to Exhale</td>\n",
       "      <td>Cheated on, mistreated and stepped on, the wom...</td>\n",
       "      <td>...</td>\n",
       "      <td>1995-12-22</td>\n",
       "      <td>81452156.0</td>\n",
       "      <td>127.0</td>\n",
       "      <td>[{'iso_639_1': 'en', 'name': 'English'}]</td>\n",
       "      <td>Released</td>\n",
       "      <td>Friends are the people who let you be yourself...</td>\n",
       "      <td>Waiting to Exhale</td>\n",
       "      <td>False</td>\n",
       "      <td>6.1</td>\n",
       "      <td>34.0</td>\n",
       "    </tr>\n",
       "    <tr>\n",
       "      <th>4</th>\n",
       "      <td>False</td>\n",
       "      <td>{'id': 96871, 'name': 'Father of the Bride Col...</td>\n",
       "      <td>0</td>\n",
       "      <td>[{'id': 35, 'name': 'Comedy'}]</td>\n",
       "      <td>NaN</td>\n",
       "      <td>11862</td>\n",
       "      <td>tt0113041</td>\n",
       "      <td>en</td>\n",
       "      <td>Father of the Bride Part II</td>\n",
       "      <td>Just when George Banks has recovered from his ...</td>\n",
       "      <td>...</td>\n",
       "      <td>1995-02-10</td>\n",
       "      <td>76578911.0</td>\n",
       "      <td>106.0</td>\n",
       "      <td>[{'iso_639_1': 'en', 'name': 'English'}]</td>\n",
       "      <td>Released</td>\n",
       "      <td>Just When His World Is Back To Normal... He's ...</td>\n",
       "      <td>Father of the Bride Part II</td>\n",
       "      <td>False</td>\n",
       "      <td>5.7</td>\n",
       "      <td>173.0</td>\n",
       "    </tr>\n",
       "  </tbody>\n",
       "</table>\n",
       "<p>5 rows × 24 columns</p>\n",
       "</div>"
      ],
      "text/plain": [
       "   adult                              belongs_to_collection    budget  \\\n",
       "0  False  {'id': 10194, 'name': 'Toy Story Collection', ...  30000000   \n",
       "1  False                                                NaN  65000000   \n",
       "2  False  {'id': 119050, 'name': 'Grumpy Old Men Collect...         0   \n",
       "3  False                                                NaN  16000000   \n",
       "4  False  {'id': 96871, 'name': 'Father of the Bride Col...         0   \n",
       "\n",
       "                                              genres  \\\n",
       "0  [{'id': 16, 'name': 'Animation'}, {'id': 35, '...   \n",
       "1  [{'id': 12, 'name': 'Adventure'}, {'id': 14, '...   \n",
       "2  [{'id': 10749, 'name': 'Romance'}, {'id': 35, ...   \n",
       "3  [{'id': 35, 'name': 'Comedy'}, {'id': 18, 'nam...   \n",
       "4                     [{'id': 35, 'name': 'Comedy'}]   \n",
       "\n",
       "                               homepage     id    imdb_id original_language  \\\n",
       "0  http://toystory.disney.com/toy-story    862  tt0114709                en   \n",
       "1                                   NaN   8844  tt0113497                en   \n",
       "2                                   NaN  15602  tt0113228                en   \n",
       "3                                   NaN  31357  tt0114885                en   \n",
       "4                                   NaN  11862  tt0113041                en   \n",
       "\n",
       "                original_title  \\\n",
       "0                    Toy Story   \n",
       "1                      Jumanji   \n",
       "2             Grumpier Old Men   \n",
       "3            Waiting to Exhale   \n",
       "4  Father of the Bride Part II   \n",
       "\n",
       "                                            overview  ... release_date  \\\n",
       "0  Led by Woody, Andy's toys live happily in his ...  ...   1995-10-30   \n",
       "1  When siblings Judy and Peter discover an encha...  ...   1995-12-15   \n",
       "2  A family wedding reignites the ancient feud be...  ...   1995-12-22   \n",
       "3  Cheated on, mistreated and stepped on, the wom...  ...   1995-12-22   \n",
       "4  Just when George Banks has recovered from his ...  ...   1995-02-10   \n",
       "\n",
       "       revenue runtime                                   spoken_languages  \\\n",
       "0  373554033.0    81.0           [{'iso_639_1': 'en', 'name': 'English'}]   \n",
       "1  262797249.0   104.0  [{'iso_639_1': 'en', 'name': 'English'}, {'iso...   \n",
       "2          0.0   101.0           [{'iso_639_1': 'en', 'name': 'English'}]   \n",
       "3   81452156.0   127.0           [{'iso_639_1': 'en', 'name': 'English'}]   \n",
       "4   76578911.0   106.0           [{'iso_639_1': 'en', 'name': 'English'}]   \n",
       "\n",
       "     status                                            tagline  \\\n",
       "0  Released                                                NaN   \n",
       "1  Released          Roll the dice and unleash the excitement!   \n",
       "2  Released  Still Yelling. Still Fighting. Still Ready for...   \n",
       "3  Released  Friends are the people who let you be yourself...   \n",
       "4  Released  Just When His World Is Back To Normal... He's ...   \n",
       "\n",
       "                         title  video vote_average vote_count  \n",
       "0                    Toy Story  False          7.7     5415.0  \n",
       "1                      Jumanji  False          6.9     2413.0  \n",
       "2             Grumpier Old Men  False          6.5       92.0  \n",
       "3            Waiting to Exhale  False          6.1       34.0  \n",
       "4  Father of the Bride Part II  False          5.7      173.0  \n",
       "\n",
       "[5 rows x 24 columns]"
      ]
     },
     "execution_count": 3,
     "metadata": {},
     "output_type": "execute_result"
    }
   ],
   "source": [
    "# Using movies metadataset \n",
    "\n",
    "dataset = pd.read_csv(\"movies_metadata.csv\")\n",
    "\n",
    "dataset.head()"
   ]
  },
  {
   "cell_type": "markdown",
   "id": "2ff38af1",
   "metadata": {},
   "source": [
    "##### Checking the basic details of the dataset :"
   ]
  },
  {
   "cell_type": "code",
   "execution_count": 4,
   "id": "0e6da311",
   "metadata": {},
   "outputs": [
    {
     "name": "stdout",
     "output_type": "stream",
     "text": [
      "<class 'pandas.core.frame.DataFrame'>\n",
      "RangeIndex: 45466 entries, 0 to 45465\n",
      "Data columns (total 24 columns):\n",
      " #   Column                 Non-Null Count  Dtype  \n",
      "---  ------                 --------------  -----  \n",
      " 0   adult                  45466 non-null  object \n",
      " 1   belongs_to_collection  4494 non-null   object \n",
      " 2   budget                 45466 non-null  object \n",
      " 3   genres                 45466 non-null  object \n",
      " 4   homepage               7782 non-null   object \n",
      " 5   id                     45466 non-null  object \n",
      " 6   imdb_id                45449 non-null  object \n",
      " 7   original_language      45455 non-null  object \n",
      " 8   original_title         45466 non-null  object \n",
      " 9   overview               44512 non-null  object \n",
      " 10  popularity             45461 non-null  object \n",
      " 11  poster_path            45080 non-null  object \n",
      " 12  production_companies   45463 non-null  object \n",
      " 13  production_countries   45463 non-null  object \n",
      " 14  release_date           45379 non-null  object \n",
      " 15  revenue                45460 non-null  float64\n",
      " 16  runtime                45203 non-null  float64\n",
      " 17  spoken_languages       45460 non-null  object \n",
      " 18  status                 45379 non-null  object \n",
      " 19  tagline                20412 non-null  object \n",
      " 20  title                  45460 non-null  object \n",
      " 21  video                  45460 non-null  object \n",
      " 22  vote_average           45460 non-null  float64\n",
      " 23  vote_count             45460 non-null  float64\n",
      "dtypes: float64(4), object(20)\n",
      "memory usage: 8.3+ MB\n"
     ]
    }
   ],
   "source": [
    "### Displaying information about the dataframe including the index,dtype and columns, non-null values and memory usages.\n",
    "\n",
    "dataset.info()"
   ]
  },
  {
   "cell_type": "code",
   "execution_count": 5,
   "id": "45f1043d",
   "metadata": {},
   "outputs": [
    {
     "data": {
      "text/html": [
       "<div>\n",
       "<style scoped>\n",
       "    .dataframe tbody tr th:only-of-type {\n",
       "        vertical-align: middle;\n",
       "    }\n",
       "\n",
       "    .dataframe tbody tr th {\n",
       "        vertical-align: top;\n",
       "    }\n",
       "\n",
       "    .dataframe thead th {\n",
       "        text-align: right;\n",
       "    }\n",
       "</style>\n",
       "<table border=\"1\" class=\"dataframe\">\n",
       "  <thead>\n",
       "    <tr style=\"text-align: right;\">\n",
       "      <th></th>\n",
       "      <th>adult</th>\n",
       "      <th>belongs_to_collection</th>\n",
       "      <th>budget</th>\n",
       "      <th>genres</th>\n",
       "      <th>homepage</th>\n",
       "      <th>id</th>\n",
       "      <th>imdb_id</th>\n",
       "      <th>original_language</th>\n",
       "      <th>original_title</th>\n",
       "      <th>overview</th>\n",
       "      <th>...</th>\n",
       "      <th>release_date</th>\n",
       "      <th>revenue</th>\n",
       "      <th>runtime</th>\n",
       "      <th>spoken_languages</th>\n",
       "      <th>status</th>\n",
       "      <th>tagline</th>\n",
       "      <th>title</th>\n",
       "      <th>video</th>\n",
       "      <th>vote_average</th>\n",
       "      <th>vote_count</th>\n",
       "    </tr>\n",
       "  </thead>\n",
       "  <tbody>\n",
       "    <tr>\n",
       "      <th>38899</th>\n",
       "      <td>False</td>\n",
       "      <td>NaN</td>\n",
       "      <td>0</td>\n",
       "      <td>[{'id': 18, 'name': 'Drama'}]</td>\n",
       "      <td>http://www.idanielblake.co.uk/</td>\n",
       "      <td>374473</td>\n",
       "      <td>tt5168192</td>\n",
       "      <td>en</td>\n",
       "      <td>I, Daniel Blake</td>\n",
       "      <td>A middle aged carpenter, who requires state we...</td>\n",
       "      <td>...</td>\n",
       "      <td>2016-10-21</td>\n",
       "      <td>260354.0</td>\n",
       "      <td>100.0</td>\n",
       "      <td>[{'iso_639_1': 'en', 'name': 'English'}]</td>\n",
       "      <td>Released</td>\n",
       "      <td>NaN</td>\n",
       "      <td>I, Daniel Blake</td>\n",
       "      <td>False</td>\n",
       "      <td>7.7</td>\n",
       "      <td>264.0</td>\n",
       "    </tr>\n",
       "    <tr>\n",
       "      <th>35264</th>\n",
       "      <td>False</td>\n",
       "      <td>NaN</td>\n",
       "      <td>0</td>\n",
       "      <td>[{'id': 53, 'name': 'Thriller'}, {'id': 80, 'n...</td>\n",
       "      <td>NaN</td>\n",
       "      <td>253286</td>\n",
       "      <td>tt3288948</td>\n",
       "      <td>en</td>\n",
       "      <td>Two Step</td>\n",
       "      <td>Two Step is a fast-paced Texas thriller in whi...</td>\n",
       "      <td>...</td>\n",
       "      <td>2015-07-31</td>\n",
       "      <td>0.0</td>\n",
       "      <td>93.0</td>\n",
       "      <td>[{'iso_639_1': 'en', 'name': 'English'}]</td>\n",
       "      <td>Released</td>\n",
       "      <td>NaN</td>\n",
       "      <td>Two Step</td>\n",
       "      <td>False</td>\n",
       "      <td>5.3</td>\n",
       "      <td>6.0</td>\n",
       "    </tr>\n",
       "    <tr>\n",
       "      <th>15793</th>\n",
       "      <td>False</td>\n",
       "      <td>NaN</td>\n",
       "      <td>0</td>\n",
       "      <td>[{'id': 27, 'name': 'Horror'}, {'id': 9648, 'n...</td>\n",
       "      <td>NaN</td>\n",
       "      <td>31428</td>\n",
       "      <td>tt0078295</td>\n",
       "      <td>en</td>\n",
       "      <td>Someone's Watching Me!</td>\n",
       "      <td>A woman is being watched in her apartment by a...</td>\n",
       "      <td>...</td>\n",
       "      <td>1978-11-27</td>\n",
       "      <td>0.0</td>\n",
       "      <td>97.0</td>\n",
       "      <td>[{'iso_639_1': 'en', 'name': 'English'}]</td>\n",
       "      <td>Released</td>\n",
       "      <td>NaN</td>\n",
       "      <td>Someone's Watching Me!</td>\n",
       "      <td>False</td>\n",
       "      <td>6.0</td>\n",
       "      <td>22.0</td>\n",
       "    </tr>\n",
       "    <tr>\n",
       "      <th>41225</th>\n",
       "      <td>False</td>\n",
       "      <td>NaN</td>\n",
       "      <td>0</td>\n",
       "      <td>[{'id': 10749, 'name': 'Romance'}, {'id': 35, ...</td>\n",
       "      <td>NaN</td>\n",
       "      <td>81178</td>\n",
       "      <td>tt0029761</td>\n",
       "      <td>en</td>\n",
       "      <td>When You're in Love</td>\n",
       "      <td>When You're in Love is a 1937 musical film sta...</td>\n",
       "      <td>...</td>\n",
       "      <td>1937-02-12</td>\n",
       "      <td>0.0</td>\n",
       "      <td>110.0</td>\n",
       "      <td>[{'iso_639_1': 'en', 'name': 'English'}]</td>\n",
       "      <td>Released</td>\n",
       "      <td>NaN</td>\n",
       "      <td>When You're in Love</td>\n",
       "      <td>False</td>\n",
       "      <td>3.5</td>\n",
       "      <td>2.0</td>\n",
       "    </tr>\n",
       "    <tr>\n",
       "      <th>4806</th>\n",
       "      <td>False</td>\n",
       "      <td>NaN</td>\n",
       "      <td>0</td>\n",
       "      <td>[{'id': 18, 'name': 'Drama'}]</td>\n",
       "      <td>NaN</td>\n",
       "      <td>3537</td>\n",
       "      <td>tt0080716</td>\n",
       "      <td>en</td>\n",
       "      <td>Fame</td>\n",
       "      <td>A chronicle of the lives of several teenagers ...</td>\n",
       "      <td>...</td>\n",
       "      <td>1980-05-16</td>\n",
       "      <td>21202829.0</td>\n",
       "      <td>134.0</td>\n",
       "      <td>[{'iso_639_1': 'ru', 'name': 'Pусский'}, {'iso...</td>\n",
       "      <td>Released</td>\n",
       "      <td>If they've really got what it takes, it's goin...</td>\n",
       "      <td>Fame</td>\n",
       "      <td>False</td>\n",
       "      <td>6.0</td>\n",
       "      <td>97.0</td>\n",
       "    </tr>\n",
       "    <tr>\n",
       "      <th>25795</th>\n",
       "      <td>False</td>\n",
       "      <td>NaN</td>\n",
       "      <td>8000000</td>\n",
       "      <td>[{'id': 35, 'name': 'Comedy'}, {'id': 12, 'nam...</td>\n",
       "      <td>NaN</td>\n",
       "      <td>303542</td>\n",
       "      <td>tt3078296</td>\n",
       "      <td>it</td>\n",
       "      <td>Il ragazzo invisibile</td>\n",
       "      <td>Michele is thirteen year old, shy, unpopular a...</td>\n",
       "      <td>...</td>\n",
       "      <td>2014-12-18</td>\n",
       "      <td>0.0</td>\n",
       "      <td>0.0</td>\n",
       "      <td>[{'iso_639_1': 'it', 'name': 'Italiano'}, {'is...</td>\n",
       "      <td>Released</td>\n",
       "      <td>NaN</td>\n",
       "      <td>The Invisible Boy</td>\n",
       "      <td>False</td>\n",
       "      <td>6.0</td>\n",
       "      <td>170.0</td>\n",
       "    </tr>\n",
       "    <tr>\n",
       "      <th>24053</th>\n",
       "      <td>False</td>\n",
       "      <td>NaN</td>\n",
       "      <td>0</td>\n",
       "      <td>[{'id': 80, 'name': 'Crime'}, {'id': 18, 'name...</td>\n",
       "      <td>NaN</td>\n",
       "      <td>56364</td>\n",
       "      <td>tt0070578</td>\n",
       "      <td>en</td>\n",
       "      <td>The Pyx</td>\n",
       "      <td>A detective investigating the death of a heroi...</td>\n",
       "      <td>...</td>\n",
       "      <td>1973-09-08</td>\n",
       "      <td>0.0</td>\n",
       "      <td>108.0</td>\n",
       "      <td>[{'iso_639_1': 'en', 'name': 'English'}, {'iso...</td>\n",
       "      <td>Released</td>\n",
       "      <td>See It...Find Out What It Means!</td>\n",
       "      <td>The Pyx</td>\n",
       "      <td>False</td>\n",
       "      <td>5.6</td>\n",
       "      <td>8.0</td>\n",
       "    </tr>\n",
       "    <tr>\n",
       "      <th>35397</th>\n",
       "      <td>False</td>\n",
       "      <td>NaN</td>\n",
       "      <td>0</td>\n",
       "      <td>[]</td>\n",
       "      <td>NaN</td>\n",
       "      <td>72443</td>\n",
       "      <td>tt0416881</td>\n",
       "      <td>ja</td>\n",
       "      <td>ジョゼと虎と魚たち</td>\n",
       "      <td>Tsuneo is a university student working part-ti...</td>\n",
       "      <td>...</td>\n",
       "      <td>2003-12-13</td>\n",
       "      <td>0.0</td>\n",
       "      <td>116.0</td>\n",
       "      <td>[{'iso_639_1': 'ja', 'name': '日本語'}]</td>\n",
       "      <td>Released</td>\n",
       "      <td>NaN</td>\n",
       "      <td>Josee, the Tiger and the Fish</td>\n",
       "      <td>False</td>\n",
       "      <td>6.2</td>\n",
       "      <td>10.0</td>\n",
       "    </tr>\n",
       "    <tr>\n",
       "      <th>31462</th>\n",
       "      <td>False</td>\n",
       "      <td>NaN</td>\n",
       "      <td>0</td>\n",
       "      <td>[]</td>\n",
       "      <td>NaN</td>\n",
       "      <td>297173</td>\n",
       "      <td>tt1457759</td>\n",
       "      <td>en</td>\n",
       "      <td>The Expedition</td>\n",
       "      <td>A Documentary crew entered an asylum to shoot ...</td>\n",
       "      <td>...</td>\n",
       "      <td>NaN</td>\n",
       "      <td>0.0</td>\n",
       "      <td>107.0</td>\n",
       "      <td>[]</td>\n",
       "      <td>Released</td>\n",
       "      <td>On Halloween night five filmmakers enter a hau...</td>\n",
       "      <td>The Expedition</td>\n",
       "      <td>True</td>\n",
       "      <td>2.0</td>\n",
       "      <td>1.0</td>\n",
       "    </tr>\n",
       "    <tr>\n",
       "      <th>42869</th>\n",
       "      <td>False</td>\n",
       "      <td>NaN</td>\n",
       "      <td>0</td>\n",
       "      <td>[{'id': 18, 'name': 'Drama'}, {'id': 53, 'name...</td>\n",
       "      <td>NaN</td>\n",
       "      <td>347882</td>\n",
       "      <td>tt4573516</td>\n",
       "      <td>en</td>\n",
       "      <td>Sleight</td>\n",
       "      <td>A young street magician is left to take care o...</td>\n",
       "      <td>...</td>\n",
       "      <td>2017-04-28</td>\n",
       "      <td>0.0</td>\n",
       "      <td>89.0</td>\n",
       "      <td>[{'iso_639_1': 'en', 'name': 'English'}]</td>\n",
       "      <td>Released</td>\n",
       "      <td>You can change the cards you're dealt</td>\n",
       "      <td>Sleight</td>\n",
       "      <td>False</td>\n",
       "      <td>5.8</td>\n",
       "      <td>64.0</td>\n",
       "    </tr>\n",
       "  </tbody>\n",
       "</table>\n",
       "<p>10 rows × 24 columns</p>\n",
       "</div>"
      ],
      "text/plain": [
       "       adult belongs_to_collection   budget  \\\n",
       "38899  False                   NaN        0   \n",
       "35264  False                   NaN        0   \n",
       "15793  False                   NaN        0   \n",
       "41225  False                   NaN        0   \n",
       "4806   False                   NaN        0   \n",
       "25795  False                   NaN  8000000   \n",
       "24053  False                   NaN        0   \n",
       "35397  False                   NaN        0   \n",
       "31462  False                   NaN        0   \n",
       "42869  False                   NaN        0   \n",
       "\n",
       "                                                  genres  \\\n",
       "38899                      [{'id': 18, 'name': 'Drama'}]   \n",
       "35264  [{'id': 53, 'name': 'Thriller'}, {'id': 80, 'n...   \n",
       "15793  [{'id': 27, 'name': 'Horror'}, {'id': 9648, 'n...   \n",
       "41225  [{'id': 10749, 'name': 'Romance'}, {'id': 35, ...   \n",
       "4806                       [{'id': 18, 'name': 'Drama'}]   \n",
       "25795  [{'id': 35, 'name': 'Comedy'}, {'id': 12, 'nam...   \n",
       "24053  [{'id': 80, 'name': 'Crime'}, {'id': 18, 'name...   \n",
       "35397                                                 []   \n",
       "31462                                                 []   \n",
       "42869  [{'id': 18, 'name': 'Drama'}, {'id': 53, 'name...   \n",
       "\n",
       "                             homepage      id    imdb_id original_language  \\\n",
       "38899  http://www.idanielblake.co.uk/  374473  tt5168192                en   \n",
       "35264                             NaN  253286  tt3288948                en   \n",
       "15793                             NaN   31428  tt0078295                en   \n",
       "41225                             NaN   81178  tt0029761                en   \n",
       "4806                              NaN    3537  tt0080716                en   \n",
       "25795                             NaN  303542  tt3078296                it   \n",
       "24053                             NaN   56364  tt0070578                en   \n",
       "35397                             NaN   72443  tt0416881                ja   \n",
       "31462                             NaN  297173  tt1457759                en   \n",
       "42869                             NaN  347882  tt4573516                en   \n",
       "\n",
       "               original_title  \\\n",
       "38899         I, Daniel Blake   \n",
       "35264                Two Step   \n",
       "15793  Someone's Watching Me!   \n",
       "41225     When You're in Love   \n",
       "4806                     Fame   \n",
       "25795   Il ragazzo invisibile   \n",
       "24053                 The Pyx   \n",
       "35397               ジョゼと虎と魚たち   \n",
       "31462          The Expedition   \n",
       "42869                 Sleight   \n",
       "\n",
       "                                                overview  ... release_date  \\\n",
       "38899  A middle aged carpenter, who requires state we...  ...   2016-10-21   \n",
       "35264  Two Step is a fast-paced Texas thriller in whi...  ...   2015-07-31   \n",
       "15793  A woman is being watched in her apartment by a...  ...   1978-11-27   \n",
       "41225  When You're in Love is a 1937 musical film sta...  ...   1937-02-12   \n",
       "4806   A chronicle of the lives of several teenagers ...  ...   1980-05-16   \n",
       "25795  Michele is thirteen year old, shy, unpopular a...  ...   2014-12-18   \n",
       "24053  A detective investigating the death of a heroi...  ...   1973-09-08   \n",
       "35397  Tsuneo is a university student working part-ti...  ...   2003-12-13   \n",
       "31462  A Documentary crew entered an asylum to shoot ...  ...          NaN   \n",
       "42869  A young street magician is left to take care o...  ...   2017-04-28   \n",
       "\n",
       "          revenue runtime                                   spoken_languages  \\\n",
       "38899    260354.0   100.0           [{'iso_639_1': 'en', 'name': 'English'}]   \n",
       "35264         0.0    93.0           [{'iso_639_1': 'en', 'name': 'English'}]   \n",
       "15793         0.0    97.0           [{'iso_639_1': 'en', 'name': 'English'}]   \n",
       "41225         0.0   110.0           [{'iso_639_1': 'en', 'name': 'English'}]   \n",
       "4806   21202829.0   134.0  [{'iso_639_1': 'ru', 'name': 'Pусский'}, {'iso...   \n",
       "25795         0.0     0.0  [{'iso_639_1': 'it', 'name': 'Italiano'}, {'is...   \n",
       "24053         0.0   108.0  [{'iso_639_1': 'en', 'name': 'English'}, {'iso...   \n",
       "35397         0.0   116.0               [{'iso_639_1': 'ja', 'name': '日本語'}]   \n",
       "31462         0.0   107.0                                                 []   \n",
       "42869         0.0    89.0           [{'iso_639_1': 'en', 'name': 'English'}]   \n",
       "\n",
       "         status                                            tagline  \\\n",
       "38899  Released                                                NaN   \n",
       "35264  Released                                                NaN   \n",
       "15793  Released                                                NaN   \n",
       "41225  Released                                                NaN   \n",
       "4806   Released  If they've really got what it takes, it's goin...   \n",
       "25795  Released                                                NaN   \n",
       "24053  Released                   See It...Find Out What It Means!   \n",
       "35397  Released                                                NaN   \n",
       "31462  Released  On Halloween night five filmmakers enter a hau...   \n",
       "42869  Released              You can change the cards you're dealt   \n",
       "\n",
       "                               title  video vote_average vote_count  \n",
       "38899                I, Daniel Blake  False          7.7      264.0  \n",
       "35264                       Two Step  False          5.3        6.0  \n",
       "15793         Someone's Watching Me!  False          6.0       22.0  \n",
       "41225            When You're in Love  False          3.5        2.0  \n",
       "4806                            Fame  False          6.0       97.0  \n",
       "25795              The Invisible Boy  False          6.0      170.0  \n",
       "24053                        The Pyx  False          5.6        8.0  \n",
       "35397  Josee, the Tiger and the Fish  False          6.2       10.0  \n",
       "31462                 The Expedition   True          2.0        1.0  \n",
       "42869                        Sleight  False          5.8       64.0  \n",
       "\n",
       "[10 rows x 24 columns]"
      ]
     },
     "execution_count": 5,
     "metadata": {},
     "output_type": "execute_result"
    }
   ],
   "source": [
    "## Generating a sample random of row or column.\n",
    "\n",
    "dataset.sample(10)"
   ]
  },
  {
   "cell_type": "markdown",
   "id": "612f00fd",
   "metadata": {},
   "source": [
    "##   Exploratory Data Analysis (EDA) :-\n",
    "\n",
    "                 \n",
    "####                  EDA is the critical process of performing initial investigations on data so as to discover patterns,to spot anomalies, to test hypothesis and to check assumptions with the help of summary statistics and graphical representations.\n"
   ]
  },
  {
   "cell_type": "code",
   "execution_count": 6,
   "id": "94e95638",
   "metadata": {},
   "outputs": [
    {
     "data": {
      "text/plain": [
       "adult                     object\n",
       "belongs_to_collection     object\n",
       "budget                    object\n",
       "genres                    object\n",
       "homepage                  object\n",
       "id                        object\n",
       "imdb_id                   object\n",
       "original_language         object\n",
       "original_title            object\n",
       "overview                  object\n",
       "popularity                object\n",
       "poster_path               object\n",
       "production_companies      object\n",
       "production_countries      object\n",
       "release_date              object\n",
       "revenue                  float64\n",
       "runtime                  float64\n",
       "spoken_languages          object\n",
       "status                    object\n",
       "tagline                   object\n",
       "title                     object\n",
       "video                     object\n",
       "vote_average             float64\n",
       "vote_count               float64\n",
       "dtype: object"
      ]
     },
     "execution_count": 6,
     "metadata": {},
     "output_type": "execute_result"
    }
   ],
   "source": [
    "## dtypes returns the data types of the columns.\n",
    "\n",
    "dataset.dtypes"
   ]
  },
  {
   "cell_type": "code",
   "execution_count": 7,
   "id": "bdc6b379",
   "metadata": {},
   "outputs": [
    {
     "name": "stdout",
     "output_type": "stream",
     "text": [
      "Shape of the dataset is  (45466, 24)\n",
      "The total number of movies are 45466\n"
     ]
    }
   ],
   "source": [
    "# Shape of the dataset, i.e displaying number of rows and columns\n",
    "\n",
    "print(\"Shape of the dataset is \",dataset.shape)\n",
    "\n",
    "print('The total number of movies are',dataset.shape[0])"
   ]
  },
  {
   "cell_type": "code",
   "execution_count": 8,
   "id": "b836df34",
   "metadata": {},
   "outputs": [
    {
     "data": {
      "text/plain": [
       "1091184"
      ]
     },
     "execution_count": 8,
     "metadata": {},
     "output_type": "execute_result"
    }
   ],
   "source": [
    "# To find the size of the dataset\n",
    "\n",
    "dataset.size"
   ]
  },
  {
   "cell_type": "code",
   "execution_count": 9,
   "id": "511377e8",
   "metadata": {},
   "outputs": [
    {
     "data": {
      "text/plain": [
       "Index(['adult', 'belongs_to_collection', 'budget', 'genres', 'homepage', 'id',\n",
       "       'imdb_id', 'original_language', 'original_title', 'overview',\n",
       "       'popularity', 'poster_path', 'production_companies',\n",
       "       'production_countries', 'release_date', 'revenue', 'runtime',\n",
       "       'spoken_languages', 'status', 'tagline', 'title', 'video',\n",
       "       'vote_average', 'vote_count'],\n",
       "      dtype='object')"
      ]
     },
     "execution_count": 9,
     "metadata": {},
     "output_type": "execute_result"
    }
   ],
   "source": [
    "# To display the columns\n",
    "\n",
    "dataset.columns"
   ]
  },
  {
   "cell_type": "code",
   "execution_count": 10,
   "id": "a891917a",
   "metadata": {},
   "outputs": [
    {
     "data": {
      "text/plain": [
       "adult                        5\n",
       "belongs_to_collection     1698\n",
       "budget                    1226\n",
       "genres                    4069\n",
       "homepage                  7673\n",
       "id                       45436\n",
       "imdb_id                  45417\n",
       "original_language           92\n",
       "original_title           43373\n",
       "overview                 44307\n",
       "popularity               44176\n",
       "poster_path              45024\n",
       "production_companies     22708\n",
       "production_countries      2393\n",
       "release_date             17336\n",
       "revenue                   6863\n",
       "runtime                    353\n",
       "spoken_languages          1931\n",
       "status                       6\n",
       "tagline                  20283\n",
       "title                    42277\n",
       "video                        2\n",
       "vote_average                92\n",
       "vote_count                1820\n",
       "dtype: int64"
      ]
     },
     "execution_count": 10,
     "metadata": {},
     "output_type": "execute_result"
    }
   ],
   "source": [
    "## nunique() returns the series with number of distinct observations over requested axis.\n",
    "\n",
    "dataset.nunique()"
   ]
  },
  {
   "cell_type": "markdown",
   "id": "3b68d15d",
   "metadata": {},
   "source": [
    "#####            The movie dataset consists of total 45466 (rows) and there and 24 columns. "
   ]
  },
  {
   "cell_type": "markdown",
   "id": "2e3c96ff",
   "metadata": {},
   "source": [
    "### Analysis of  Movies based on Producion Countries :-\n",
    "\n",
    "\n",
    "         From the dataset analysis, most of the films are in English langage i.e. more than 31000 films which are shot in various locations around the world. It would be interesting to know the most popular destinations for the filmmakers to shoot their films."
   ]
  },
  {
   "cell_type": "code",
   "execution_count": 11,
   "id": "84cc0b92",
   "metadata": {},
   "outputs": [],
   "source": [
    "dataset['production_countries'] = dataset['production_countries'].fillna('[]').apply(ast.literal_eval)\n",
    "dataset['production_countries'] = dataset['production_countries'].apply(lambda x: [i['name'] for i in x] if isinstance(x, list) else [])"
   ]
  },
  {
   "cell_type": "code",
   "execution_count": 12,
   "id": "582f1f45",
   "metadata": {},
   "outputs": [],
   "source": [
    "s = dataset.apply(lambda x: pd.Series(x['production_countries']),axis=1).stack().reset_index(level=1, drop=True)\n",
    "s.name = 'countries'"
   ]
  },
  {
   "cell_type": "code",
   "execution_count": 13,
   "id": "48c9491d",
   "metadata": {},
   "outputs": [
    {
     "data": {
      "text/html": [
       "<div>\n",
       "<style scoped>\n",
       "    .dataframe tbody tr th:only-of-type {\n",
       "        vertical-align: middle;\n",
       "    }\n",
       "\n",
       "    .dataframe tbody tr th {\n",
       "        vertical-align: top;\n",
       "    }\n",
       "\n",
       "    .dataframe thead th {\n",
       "        text-align: right;\n",
       "    }\n",
       "</style>\n",
       "<table border=\"1\" class=\"dataframe\">\n",
       "  <thead>\n",
       "    <tr style=\"text-align: right;\">\n",
       "      <th></th>\n",
       "      <th>num_movies</th>\n",
       "      <th>country</th>\n",
       "    </tr>\n",
       "  </thead>\n",
       "  <tbody>\n",
       "    <tr>\n",
       "      <th>0</th>\n",
       "      <td>21153</td>\n",
       "      <td>United States of America</td>\n",
       "    </tr>\n",
       "    <tr>\n",
       "      <th>1</th>\n",
       "      <td>4094</td>\n",
       "      <td>United Kingdom</td>\n",
       "    </tr>\n",
       "    <tr>\n",
       "      <th>2</th>\n",
       "      <td>3940</td>\n",
       "      <td>France</td>\n",
       "    </tr>\n",
       "    <tr>\n",
       "      <th>3</th>\n",
       "      <td>2254</td>\n",
       "      <td>Germany</td>\n",
       "    </tr>\n",
       "    <tr>\n",
       "      <th>4</th>\n",
       "      <td>2169</td>\n",
       "      <td>Italy</td>\n",
       "    </tr>\n",
       "    <tr>\n",
       "      <th>5</th>\n",
       "      <td>1765</td>\n",
       "      <td>Canada</td>\n",
       "    </tr>\n",
       "    <tr>\n",
       "      <th>6</th>\n",
       "      <td>1648</td>\n",
       "      <td>Japan</td>\n",
       "    </tr>\n",
       "    <tr>\n",
       "      <th>7</th>\n",
       "      <td>964</td>\n",
       "      <td>Spain</td>\n",
       "    </tr>\n",
       "    <tr>\n",
       "      <th>8</th>\n",
       "      <td>912</td>\n",
       "      <td>Russia</td>\n",
       "    </tr>\n",
       "    <tr>\n",
       "      <th>9</th>\n",
       "      <td>828</td>\n",
       "      <td>India</td>\n",
       "    </tr>\n",
       "  </tbody>\n",
       "</table>\n",
       "</div>"
      ],
      "text/plain": [
       "   num_movies                   country\n",
       "0       21153  United States of America\n",
       "1        4094            United Kingdom\n",
       "2        3940                    France\n",
       "3        2254                   Germany\n",
       "4        2169                     Italy\n",
       "5        1765                    Canada\n",
       "6        1648                     Japan\n",
       "7         964                     Spain\n",
       "8         912                    Russia\n",
       "9         828                     India"
      ]
     },
     "execution_count": 13,
     "metadata": {},
     "output_type": "execute_result"
    }
   ],
   "source": [
    "con_dif = dataset.drop('production_countries', axis=1).join(s)\n",
    "con_dif = pd.DataFrame(con_dif['countries'].value_counts())\n",
    "con_dif['country'] = con_dif.index\n",
    "con_dif.columns = ['num_movies', 'country']\n",
    "con_dif = con_dif.reset_index().drop('index', axis=1)\n",
    "con_dif.head(10)"
   ]
  },
  {
   "cell_type": "markdown",
   "id": "36c912e7",
   "metadata": {},
   "source": [
    "The United States is the most popular destination of production for movies given in our dataset. Second production country is the Europe accompanied by France, Germany and Italy in the top 5. Japan and India are the most popular Asian countries when it comes to movie production."
   ]
  },
  {
   "cell_type": "markdown",
   "id": "6c710fe2",
   "metadata": {},
   "source": [
    "### Movie Analysis based on Production Companies :-\n",
    "\n",
    "##### To find out the highest earning production company"
   ]
  },
  {
   "cell_type": "code",
   "execution_count": 14,
   "id": "d43843d9",
   "metadata": {},
   "outputs": [],
   "source": [
    "dataset['production_companies'] = dataset['production_companies'].fillna('[]').apply(ast.literal_eval)\n",
    "dataset['production_companies'] = dataset['production_companies'].apply(lambda x: [i['name'] for i in x] if isinstance(x, list) else [])"
   ]
  },
  {
   "cell_type": "code",
   "execution_count": 15,
   "id": "b592563b",
   "metadata": {},
   "outputs": [],
   "source": [
    "s = dataset.apply(lambda x: pd.Series(x['production_companies']),axis=1).stack().reset_index(level=1, drop=True)\n",
    "s.name = 'companies'"
   ]
  },
  {
   "cell_type": "code",
   "execution_count": 16,
   "id": "074d64bf",
   "metadata": {},
   "outputs": [],
   "source": [
    "com_dif = dataset.drop('production_companies', axis=1).join(s)"
   ]
  },
  {
   "cell_type": "code",
   "execution_count": 17,
   "id": "a1417b86",
   "metadata": {},
   "outputs": [],
   "source": [
    "comp_sum = pd.DataFrame(com_dif.groupby('companies')['revenue'].sum().sort_values(ascending=False))\n",
    "comp_sum.columns = ['Total']\n",
    "comp_mean = pd.DataFrame(com_dif.groupby('companies')['revenue'].mean().sort_values(ascending=False))\n",
    "comp_mean.columns = ['Average']\n",
    "comp_count = pd.DataFrame(com_dif.groupby('companies')['revenue'].count().sort_values(ascending=False))\n",
    "comp_count.columns = ['Number']\n",
    "\n",
    "comp_pivot = pd.concat((comp_sum, comp_mean, comp_count), axis=1)"
   ]
  },
  {
   "cell_type": "code",
   "execution_count": 18,
   "id": "3a01aad5",
   "metadata": {},
   "outputs": [
    {
     "data": {
      "text/html": [
       "<div>\n",
       "<style scoped>\n",
       "    .dataframe tbody tr th:only-of-type {\n",
       "        vertical-align: middle;\n",
       "    }\n",
       "\n",
       "    .dataframe tbody tr th {\n",
       "        vertical-align: top;\n",
       "    }\n",
       "\n",
       "    .dataframe thead th {\n",
       "        text-align: right;\n",
       "    }\n",
       "</style>\n",
       "<table border=\"1\" class=\"dataframe\">\n",
       "  <thead>\n",
       "    <tr style=\"text-align: right;\">\n",
       "      <th></th>\n",
       "      <th>Total</th>\n",
       "      <th>Average</th>\n",
       "      <th>Number</th>\n",
       "    </tr>\n",
       "    <tr>\n",
       "      <th>companies</th>\n",
       "      <th></th>\n",
       "      <th></th>\n",
       "      <th></th>\n",
       "    </tr>\n",
       "  </thead>\n",
       "  <tbody>\n",
       "    <tr>\n",
       "      <th>Warner Bros.</th>\n",
       "      <td>6.352519e+10</td>\n",
       "      <td>5.082015e+07</td>\n",
       "      <td>1250</td>\n",
       "    </tr>\n",
       "    <tr>\n",
       "      <th>Universal Pictures</th>\n",
       "      <td>5.525919e+10</td>\n",
       "      <td>6.657734e+07</td>\n",
       "      <td>830</td>\n",
       "    </tr>\n",
       "    <tr>\n",
       "      <th>Paramount Pictures</th>\n",
       "      <td>4.880819e+10</td>\n",
       "      <td>4.866221e+07</td>\n",
       "      <td>1003</td>\n",
       "    </tr>\n",
       "    <tr>\n",
       "      <th>Twentieth Century Fox Film Corporation</th>\n",
       "      <td>4.768775e+10</td>\n",
       "      <td>5.704276e+07</td>\n",
       "      <td>836</td>\n",
       "    </tr>\n",
       "    <tr>\n",
       "      <th>Walt Disney Pictures</th>\n",
       "      <td>4.083727e+10</td>\n",
       "      <td>1.552748e+08</td>\n",
       "      <td>263</td>\n",
       "    </tr>\n",
       "    <tr>\n",
       "      <th>Columbia Pictures</th>\n",
       "      <td>3.227974e+10</td>\n",
       "      <td>7.489498e+07</td>\n",
       "      <td>431</td>\n",
       "    </tr>\n",
       "    <tr>\n",
       "      <th>New Line Cinema</th>\n",
       "      <td>2.217339e+10</td>\n",
       "      <td>8.004834e+07</td>\n",
       "      <td>277</td>\n",
       "    </tr>\n",
       "    <tr>\n",
       "      <th>Amblin Entertainment</th>\n",
       "      <td>1.734372e+10</td>\n",
       "      <td>2.282068e+08</td>\n",
       "      <td>76</td>\n",
       "    </tr>\n",
       "    <tr>\n",
       "      <th>DreamWorks SKG</th>\n",
       "      <td>1.547575e+10</td>\n",
       "      <td>1.629027e+08</td>\n",
       "      <td>95</td>\n",
       "    </tr>\n",
       "    <tr>\n",
       "      <th>Dune Entertainment</th>\n",
       "      <td>1.500379e+10</td>\n",
       "      <td>2.308275e+08</td>\n",
       "      <td>65</td>\n",
       "    </tr>\n",
       "  </tbody>\n",
       "</table>\n",
       "</div>"
      ],
      "text/plain": [
       "                                               Total       Average  Number\n",
       "companies                                                                 \n",
       "Warner Bros.                            6.352519e+10  5.082015e+07    1250\n",
       "Universal Pictures                      5.525919e+10  6.657734e+07     830\n",
       "Paramount Pictures                      4.880819e+10  4.866221e+07    1003\n",
       "Twentieth Century Fox Film Corporation  4.768775e+10  5.704276e+07     836\n",
       "Walt Disney Pictures                    4.083727e+10  1.552748e+08     263\n",
       "Columbia Pictures                       3.227974e+10  7.489498e+07     431\n",
       "New Line Cinema                         2.217339e+10  8.004834e+07     277\n",
       "Amblin Entertainment                    1.734372e+10  2.282068e+08      76\n",
       "DreamWorks SKG                          1.547575e+10  1.629027e+08      95\n",
       "Dune Entertainment                      1.500379e+10  2.308275e+08      65"
      ]
     },
     "execution_count": 18,
     "metadata": {},
     "output_type": "execute_result"
    }
   ],
   "source": [
    "comp_pivot.sort_values('Total', ascending=False).head(10)"
   ]
  },
  {
   "cell_type": "markdown",
   "id": "9e0d8f86",
   "metadata": {},
   "source": [
    " ###### Warner Bros is the highest earning production company of all time earning a staggering 63.5 billion dollars from close to 500 movies.\n",
    "     \n",
    "######      Universal Pictures and Paramaount Pictures are the second and the third highest earning companies with 55 billion dollars and 48 billion dollars in revenue respectively."
   ]
  },
  {
   "cell_type": "markdown",
   "id": "417434a7",
   "metadata": {},
   "source": [
    "##### Most Successful Production Companies : -"
   ]
  },
  {
   "cell_type": "code",
   "execution_count": 19,
   "id": "ca201063",
   "metadata": {},
   "outputs": [
    {
     "data": {
      "text/html": [
       "<div>\n",
       "<style scoped>\n",
       "    .dataframe tbody tr th:only-of-type {\n",
       "        vertical-align: middle;\n",
       "    }\n",
       "\n",
       "    .dataframe tbody tr th {\n",
       "        vertical-align: top;\n",
       "    }\n",
       "\n",
       "    .dataframe thead th {\n",
       "        text-align: right;\n",
       "    }\n",
       "</style>\n",
       "<table border=\"1\" class=\"dataframe\">\n",
       "  <thead>\n",
       "    <tr style=\"text-align: right;\">\n",
       "      <th></th>\n",
       "      <th>Total</th>\n",
       "      <th>Average</th>\n",
       "      <th>Number</th>\n",
       "    </tr>\n",
       "    <tr>\n",
       "      <th>companies</th>\n",
       "      <th></th>\n",
       "      <th></th>\n",
       "      <th></th>\n",
       "    </tr>\n",
       "  </thead>\n",
       "  <tbody>\n",
       "    <tr>\n",
       "      <th>Revolution Sun Studios</th>\n",
       "      <td>8.120339e+09</td>\n",
       "      <td>5.413559e+08</td>\n",
       "      <td>15</td>\n",
       "    </tr>\n",
       "    <tr>\n",
       "      <th>WingNut Films</th>\n",
       "      <td>7.111004e+09</td>\n",
       "      <td>4.444378e+08</td>\n",
       "      <td>16</td>\n",
       "    </tr>\n",
       "    <tr>\n",
       "      <th>Heyday Films</th>\n",
       "      <td>7.920012e+09</td>\n",
       "      <td>4.400007e+08</td>\n",
       "      <td>18</td>\n",
       "    </tr>\n",
       "    <tr>\n",
       "      <th>Twentieth Century Fox Animation</th>\n",
       "      <td>5.572269e+09</td>\n",
       "      <td>3.714846e+08</td>\n",
       "      <td>15</td>\n",
       "    </tr>\n",
       "    <tr>\n",
       "      <th>Marvel Studios</th>\n",
       "      <td>1.169964e+10</td>\n",
       "      <td>3.656136e+08</td>\n",
       "      <td>32</td>\n",
       "    </tr>\n",
       "    <tr>\n",
       "      <th>Lucasfilm</th>\n",
       "      <td>9.898421e+09</td>\n",
       "      <td>3.413249e+08</td>\n",
       "      <td>29</td>\n",
       "    </tr>\n",
       "    <tr>\n",
       "      <th>Jerry Bruckheimer Films</th>\n",
       "      <td>8.957441e+09</td>\n",
       "      <td>3.317571e+08</td>\n",
       "      <td>27</td>\n",
       "    </tr>\n",
       "    <tr>\n",
       "      <th>Marvel Enterprises</th>\n",
       "      <td>6.538067e+09</td>\n",
       "      <td>3.269034e+08</td>\n",
       "      <td>20</td>\n",
       "    </tr>\n",
       "    <tr>\n",
       "      <th>Legendary Pictures</th>\n",
       "      <td>1.346866e+10</td>\n",
       "      <td>3.206825e+08</td>\n",
       "      <td>42</td>\n",
       "    </tr>\n",
       "    <tr>\n",
       "      <th>Temple Hill Entertainment</th>\n",
       "      <td>4.679748e+09</td>\n",
       "      <td>3.119832e+08</td>\n",
       "      <td>15</td>\n",
       "    </tr>\n",
       "  </tbody>\n",
       "</table>\n",
       "</div>"
      ],
      "text/plain": [
       "                                        Total       Average  Number\n",
       "companies                                                          \n",
       "Revolution Sun Studios           8.120339e+09  5.413559e+08      15\n",
       "WingNut Films                    7.111004e+09  4.444378e+08      16\n",
       "Heyday Films                     7.920012e+09  4.400007e+08      18\n",
       "Twentieth Century Fox Animation  5.572269e+09  3.714846e+08      15\n",
       "Marvel Studios                   1.169964e+10  3.656136e+08      32\n",
       "Lucasfilm                        9.898421e+09  3.413249e+08      29\n",
       "Jerry Bruckheimer Films          8.957441e+09  3.317571e+08      27\n",
       "Marvel Enterprises               6.538067e+09  3.269034e+08      20\n",
       "Legendary Pictures               1.346866e+10  3.206825e+08      42\n",
       "Temple Hill Entertainment        4.679748e+09  3.119832e+08      15"
      ]
     },
     "execution_count": 19,
     "metadata": {},
     "output_type": "execute_result"
    }
   ],
   "source": [
    "comp_pivot[comp_pivot['Number'] >= 15].sort_values('Average', ascending=False).head(10)"
   ]
  },
  {
   "cell_type": "markdown",
   "id": "16d30b47",
   "metadata": {},
   "source": [
    "       Revolution Sun Studios has been the most succesful Production Companies by producing more successfull movies based on average."
   ]
  },
  {
   "cell_type": "markdown",
   "id": "643767bb",
   "metadata": {},
   "source": [
    "### Movie Analysis based on Original Language :-"
   ]
  },
  {
   "cell_type": "code",
   "execution_count": 20,
   "id": "b3ed1d32",
   "metadata": {},
   "outputs": [
    {
     "data": {
      "text/plain": [
       "93"
      ]
     },
     "execution_count": 20,
     "metadata": {},
     "output_type": "execute_result"
    }
   ],
   "source": [
    "dataset['original_language'].drop_duplicates().shape[0]"
   ]
  },
  {
   "cell_type": "code",
   "execution_count": 21,
   "id": "1c7c5e5e",
   "metadata": {},
   "outputs": [
    {
     "data": {
      "text/html": [
       "<div>\n",
       "<style scoped>\n",
       "    .dataframe tbody tr th:only-of-type {\n",
       "        vertical-align: middle;\n",
       "    }\n",
       "\n",
       "    .dataframe tbody tr th {\n",
       "        vertical-align: top;\n",
       "    }\n",
       "\n",
       "    .dataframe thead th {\n",
       "        text-align: right;\n",
       "    }\n",
       "</style>\n",
       "<table border=\"1\" class=\"dataframe\">\n",
       "  <thead>\n",
       "    <tr style=\"text-align: right;\">\n",
       "      <th></th>\n",
       "      <th>number</th>\n",
       "      <th>language</th>\n",
       "    </tr>\n",
       "  </thead>\n",
       "  <tbody>\n",
       "    <tr>\n",
       "      <th>en</th>\n",
       "      <td>32269</td>\n",
       "      <td>en</td>\n",
       "    </tr>\n",
       "    <tr>\n",
       "      <th>fr</th>\n",
       "      <td>2438</td>\n",
       "      <td>fr</td>\n",
       "    </tr>\n",
       "    <tr>\n",
       "      <th>it</th>\n",
       "      <td>1529</td>\n",
       "      <td>it</td>\n",
       "    </tr>\n",
       "    <tr>\n",
       "      <th>ja</th>\n",
       "      <td>1350</td>\n",
       "      <td>ja</td>\n",
       "    </tr>\n",
       "    <tr>\n",
       "      <th>de</th>\n",
       "      <td>1080</td>\n",
       "      <td>de</td>\n",
       "    </tr>\n",
       "  </tbody>\n",
       "</table>\n",
       "</div>"
      ],
      "text/plain": [
       "    number language\n",
       "en   32269       en\n",
       "fr    2438       fr\n",
       "it    1529       it\n",
       "ja    1350       ja\n",
       "de    1080       de"
      ]
     },
     "execution_count": 21,
     "metadata": {},
     "output_type": "execute_result"
    }
   ],
   "source": [
    "lang_dif = pd.DataFrame(dataset['original_language'].value_counts())\n",
    "lang_dif['language'] = lang_dif.index\n",
    "lang_dif.columns = ['number', 'language']\n",
    "lang_dif.head()"
   ]
  },
  {
   "cell_type": "markdown",
   "id": "acf5da9d",
   "metadata": {},
   "source": [
    "\n",
    "######  1. Ploting the number of movies made based on their languages."
   ]
  },
  {
   "cell_type": "code",
   "execution_count": 22,
   "id": "08f15c14",
   "metadata": {},
   "outputs": [
    {
     "data": {
      "image/png": "[encoded data removed]",
      "text/plain": [
       "<Figure size 1872x1440 with 1 Axes>"
      ]
     },
     "metadata": {
      "needs_background": "light"
     },
     "output_type": "display_data"
    }
   ],
   "source": [
    "count = dataset['original_language'].value_counts()\n",
    "plt.figure(figsize=(26,20))\n",
    "sns.barplot(count.index, count.values, alpha=0.8, palette=\"prism\")\n",
    "plt.ylabel('Count', fontsize=16)\n",
    "plt.xlabel('original_language', fontsize=18)\n",
    "plt.title('Number of Movies based on languages', fontsize = 20)\n",
    "plt.show()"
   ]
  },
  {
   "cell_type": "markdown",
   "id": "da08abb6",
   "metadata": {},
   "source": [
    "######  2. Ploting the majority of movies made based on languages other than English :-"
   ]
  },
  {
   "cell_type": "code",
   "execution_count": 23,
   "id": "19de45da",
   "metadata": {},
   "outputs": [
    {
     "data": {
      "image/png": "[encoded data removed]",
      "text/plain": [
       "<Figure size 864x360 with 1 Axes>"
      ]
     },
     "metadata": {
      "needs_background": "light"
     },
     "output_type": "display_data"
    }
   ],
   "source": [
    "plt.figure(figsize=(12,5))\n",
    "sns.barplot(x='language', y='number', data=lang_dif.iloc[1:11])\n",
    "plt.show()"
   ]
  },
  {
   "cell_type": "markdown",
   "id": "402ddacd",
   "metadata": {},
   "source": [
    "There are total 93 distinct languages from the dataset of 45466 movies.\n",
    "From 93 languages, majority of the movies are made in English followed by French, Italian, Japanese and deuteche languages. Hindi language also has a good contribution in the movies dataset."
   ]
  },
  {
   "cell_type": "code",
   "execution_count": 24,
   "id": "0b7cf440",
   "metadata": {},
   "outputs": [],
   "source": [
    "# Creating a feature 'year' column with datetime object for each movie.\n",
    "\n",
    "dataset['year'] = pd.to_datetime(dataset['release_date'], errors='coerce').apply(lambda x: x.year)"
   ]
  },
  {
   "cell_type": "code",
   "execution_count": 25,
   "id": "40082b4d",
   "metadata": {},
   "outputs": [
    {
     "data": {
      "text/html": [
       "<div>\n",
       "<style scoped>\n",
       "    .dataframe tbody tr th:only-of-type {\n",
       "        vertical-align: middle;\n",
       "    }\n",
       "\n",
       "    .dataframe tbody tr th {\n",
       "        vertical-align: top;\n",
       "    }\n",
       "\n",
       "    .dataframe thead th {\n",
       "        text-align: right;\n",
       "    }\n",
       "</style>\n",
       "<table border=\"1\" class=\"dataframe\">\n",
       "  <thead>\n",
       "    <tr style=\"text-align: right;\">\n",
       "      <th></th>\n",
       "      <th>adult</th>\n",
       "      <th>belongs_to_collection</th>\n",
       "      <th>budget</th>\n",
       "      <th>genres</th>\n",
       "      <th>homepage</th>\n",
       "      <th>id</th>\n",
       "      <th>imdb_id</th>\n",
       "      <th>original_language</th>\n",
       "      <th>original_title</th>\n",
       "      <th>overview</th>\n",
       "      <th>...</th>\n",
       "      <th>revenue</th>\n",
       "      <th>runtime</th>\n",
       "      <th>spoken_languages</th>\n",
       "      <th>status</th>\n",
       "      <th>tagline</th>\n",
       "      <th>title</th>\n",
       "      <th>video</th>\n",
       "      <th>vote_average</th>\n",
       "      <th>vote_count</th>\n",
       "      <th>year</th>\n",
       "    </tr>\n",
       "  </thead>\n",
       "  <tbody>\n",
       "    <tr>\n",
       "      <th>0</th>\n",
       "      <td>False</td>\n",
       "      <td>{'id': 10194, 'name': 'Toy Story Collection', ...</td>\n",
       "      <td>30000000</td>\n",
       "      <td>[{'id': 16, 'name': 'Animation'}, {'id': 35, '...</td>\n",
       "      <td>http://toystory.disney.com/toy-story</td>\n",
       "      <td>862</td>\n",
       "      <td>tt0114709</td>\n",
       "      <td>en</td>\n",
       "      <td>Toy Story</td>\n",
       "      <td>Led by Woody, Andy's toys live happily in his ...</td>\n",
       "      <td>...</td>\n",
       "      <td>373554033.0</td>\n",
       "      <td>81.0</td>\n",
       "      <td>[{'iso_639_1': 'en', 'name': 'English'}]</td>\n",
       "      <td>Released</td>\n",
       "      <td>NaN</td>\n",
       "      <td>Toy Story</td>\n",
       "      <td>False</td>\n",
       "      <td>7.7</td>\n",
       "      <td>5415.0</td>\n",
       "      <td>1995.0</td>\n",
       "    </tr>\n",
       "    <tr>\n",
       "      <th>1</th>\n",
       "      <td>False</td>\n",
       "      <td>NaN</td>\n",
       "      <td>65000000</td>\n",
       "      <td>[{'id': 12, 'name': 'Adventure'}, {'id': 14, '...</td>\n",
       "      <td>NaN</td>\n",
       "      <td>8844</td>\n",
       "      <td>tt0113497</td>\n",
       "      <td>en</td>\n",
       "      <td>Jumanji</td>\n",
       "      <td>When siblings Judy and Peter discover an encha...</td>\n",
       "      <td>...</td>\n",
       "      <td>262797249.0</td>\n",
       "      <td>104.0</td>\n",
       "      <td>[{'iso_639_1': 'en', 'name': 'English'}, {'iso...</td>\n",
       "      <td>Released</td>\n",
       "      <td>Roll the dice and unleash the excitement!</td>\n",
       "      <td>Jumanji</td>\n",
       "      <td>False</td>\n",
       "      <td>6.9</td>\n",
       "      <td>2413.0</td>\n",
       "      <td>1995.0</td>\n",
       "    </tr>\n",
       "    <tr>\n",
       "      <th>2</th>\n",
       "      <td>False</td>\n",
       "      <td>{'id': 119050, 'name': 'Grumpy Old Men Collect...</td>\n",
       "      <td>0</td>\n",
       "      <td>[{'id': 10749, 'name': 'Romance'}, {'id': 35, ...</td>\n",
       "      <td>NaN</td>\n",
       "      <td>15602</td>\n",
       "      <td>tt0113228</td>\n",
       "      <td>en</td>\n",
       "      <td>Grumpier Old Men</td>\n",
       "      <td>A family wedding reignites the ancient feud be...</td>\n",
       "      <td>...</td>\n",
       "      <td>0.0</td>\n",
       "      <td>101.0</td>\n",
       "      <td>[{'iso_639_1': 'en', 'name': 'English'}]</td>\n",
       "      <td>Released</td>\n",
       "      <td>Still Yelling. Still Fighting. Still Ready for...</td>\n",
       "      <td>Grumpier Old Men</td>\n",
       "      <td>False</td>\n",
       "      <td>6.5</td>\n",
       "      <td>92.0</td>\n",
       "      <td>1995.0</td>\n",
       "    </tr>\n",
       "    <tr>\n",
       "      <th>3</th>\n",
       "      <td>False</td>\n",
       "      <td>NaN</td>\n",
       "      <td>16000000</td>\n",
       "      <td>[{'id': 35, 'name': 'Comedy'}, {'id': 18, 'nam...</td>\n",
       "      <td>NaN</td>\n",
       "      <td>31357</td>\n",
       "      <td>tt0114885</td>\n",
       "      <td>en</td>\n",
       "      <td>Waiting to Exhale</td>\n",
       "      <td>Cheated on, mistreated and stepped on, the wom...</td>\n",
       "      <td>...</td>\n",
       "      <td>81452156.0</td>\n",
       "      <td>127.0</td>\n",
       "      <td>[{'iso_639_1': 'en', 'name': 'English'}]</td>\n",
       "      <td>Released</td>\n",
       "      <td>Friends are the people who let you be yourself...</td>\n",
       "      <td>Waiting to Exhale</td>\n",
       "      <td>False</td>\n",
       "      <td>6.1</td>\n",
       "      <td>34.0</td>\n",
       "      <td>1995.0</td>\n",
       "    </tr>\n",
       "    <tr>\n",
       "      <th>4</th>\n",
       "      <td>False</td>\n",
       "      <td>{'id': 96871, 'name': 'Father of the Bride Col...</td>\n",
       "      <td>0</td>\n",
       "      <td>[{'id': 35, 'name': 'Comedy'}]</td>\n",
       "      <td>NaN</td>\n",
       "      <td>11862</td>\n",
       "      <td>tt0113041</td>\n",
       "      <td>en</td>\n",
       "      <td>Father of the Bride Part II</td>\n",
       "      <td>Just when George Banks has recovered from his ...</td>\n",
       "      <td>...</td>\n",
       "      <td>76578911.0</td>\n",
       "      <td>106.0</td>\n",
       "      <td>[{'iso_639_1': 'en', 'name': 'English'}]</td>\n",
       "      <td>Released</td>\n",
       "      <td>Just When His World Is Back To Normal... He's ...</td>\n",
       "      <td>Father of the Bride Part II</td>\n",
       "      <td>False</td>\n",
       "      <td>5.7</td>\n",
       "      <td>173.0</td>\n",
       "      <td>1995.0</td>\n",
       "    </tr>\n",
       "  </tbody>\n",
       "</table>\n",
       "<p>5 rows × 25 columns</p>\n",
       "</div>"
      ],
      "text/plain": [
       "   adult                              belongs_to_collection    budget  \\\n",
       "0  False  {'id': 10194, 'name': 'Toy Story Collection', ...  30000000   \n",
       "1  False                                                NaN  65000000   \n",
       "2  False  {'id': 119050, 'name': 'Grumpy Old Men Collect...         0   \n",
       "3  False                                                NaN  16000000   \n",
       "4  False  {'id': 96871, 'name': 'Father of the Bride Col...         0   \n",
       "\n",
       "                                              genres  \\\n",
       "0  [{'id': 16, 'name': 'Animation'}, {'id': 35, '...   \n",
       "1  [{'id': 12, 'name': 'Adventure'}, {'id': 14, '...   \n",
       "2  [{'id': 10749, 'name': 'Romance'}, {'id': 35, ...   \n",
       "3  [{'id': 35, 'name': 'Comedy'}, {'id': 18, 'nam...   \n",
       "4                     [{'id': 35, 'name': 'Comedy'}]   \n",
       "\n",
       "                               homepage     id    imdb_id original_language  \\\n",
       "0  http://toystory.disney.com/toy-story    862  tt0114709                en   \n",
       "1                                   NaN   8844  tt0113497                en   \n",
       "2                                   NaN  15602  tt0113228                en   \n",
       "3                                   NaN  31357  tt0114885                en   \n",
       "4                                   NaN  11862  tt0113041                en   \n",
       "\n",
       "                original_title  \\\n",
       "0                    Toy Story   \n",
       "1                      Jumanji   \n",
       "2             Grumpier Old Men   \n",
       "3            Waiting to Exhale   \n",
       "4  Father of the Bride Part II   \n",
       "\n",
       "                                            overview  ...      revenue  \\\n",
       "0  Led by Woody, Andy's toys live happily in his ...  ...  373554033.0   \n",
       "1  When siblings Judy and Peter discover an encha...  ...  262797249.0   \n",
       "2  A family wedding reignites the ancient feud be...  ...          0.0   \n",
       "3  Cheated on, mistreated and stepped on, the wom...  ...   81452156.0   \n",
       "4  Just when George Banks has recovered from his ...  ...   76578911.0   \n",
       "\n",
       "  runtime                                   spoken_languages    status  \\\n",
       "0    81.0           [{'iso_639_1': 'en', 'name': 'English'}]  Released   \n",
       "1   104.0  [{'iso_639_1': 'en', 'name': 'English'}, {'iso...  Released   \n",
       "2   101.0           [{'iso_639_1': 'en', 'name': 'English'}]  Released   \n",
       "3   127.0           [{'iso_639_1': 'en', 'name': 'English'}]  Released   \n",
       "4   106.0           [{'iso_639_1': 'en', 'name': 'English'}]  Released   \n",
       "\n",
       "                                             tagline  \\\n",
       "0                                                NaN   \n",
       "1          Roll the dice and unleash the excitement!   \n",
       "2  Still Yelling. Still Fighting. Still Ready for...   \n",
       "3  Friends are the people who let you be yourself...   \n",
       "4  Just When His World Is Back To Normal... He's ...   \n",
       "\n",
       "                         title  video vote_average vote_count    year  \n",
       "0                    Toy Story  False          7.7     5415.0  1995.0  \n",
       "1                      Jumanji  False          6.9     2413.0  1995.0  \n",
       "2             Grumpier Old Men  False          6.5       92.0  1995.0  \n",
       "3            Waiting to Exhale  False          6.1       34.0  1995.0  \n",
       "4  Father of the Bride Part II  False          5.7      173.0  1995.0  \n",
       "\n",
       "[5 rows x 25 columns]"
      ]
     },
     "execution_count": 25,
     "metadata": {},
     "output_type": "execute_result"
    }
   ],
   "source": [
    "dataset.head()"
   ]
  },
  {
   "cell_type": "code",
   "execution_count": 26,
   "id": "cc4e2b29",
   "metadata": {},
   "outputs": [
    {
     "data": {
      "text/html": [
       "<div>\n",
       "<style scoped>\n",
       "    .dataframe tbody tr th:only-of-type {\n",
       "        vertical-align: middle;\n",
       "    }\n",
       "\n",
       "    .dataframe tbody tr th {\n",
       "        vertical-align: top;\n",
       "    }\n",
       "\n",
       "    .dataframe thead th {\n",
       "        text-align: right;\n",
       "    }\n",
       "</style>\n",
       "<table border=\"1\" class=\"dataframe\">\n",
       "  <thead>\n",
       "    <tr style=\"text-align: right;\">\n",
       "      <th></th>\n",
       "      <th>adult</th>\n",
       "      <th>belongs_to_collection</th>\n",
       "      <th>budget</th>\n",
       "      <th>genres</th>\n",
       "      <th>homepage</th>\n",
       "      <th>id</th>\n",
       "      <th>imdb_id</th>\n",
       "      <th>original_language</th>\n",
       "      <th>original_title</th>\n",
       "      <th>overview</th>\n",
       "      <th>...</th>\n",
       "      <th>revenue</th>\n",
       "      <th>runtime</th>\n",
       "      <th>spoken_languages</th>\n",
       "      <th>status</th>\n",
       "      <th>tagline</th>\n",
       "      <th>title</th>\n",
       "      <th>video</th>\n",
       "      <th>vote_average</th>\n",
       "      <th>vote_count</th>\n",
       "      <th>year</th>\n",
       "    </tr>\n",
       "  </thead>\n",
       "  <tbody>\n",
       "    <tr>\n",
       "      <th>45461</th>\n",
       "      <td>False</td>\n",
       "      <td>NaN</td>\n",
       "      <td>0</td>\n",
       "      <td>[{'id': 18, 'name': 'Drama'}, {'id': 10751, 'n...</td>\n",
       "      <td>http://www.imdb.com/title/tt6209470/</td>\n",
       "      <td>439050</td>\n",
       "      <td>tt6209470</td>\n",
       "      <td>fa</td>\n",
       "      <td>رگ خواب</td>\n",
       "      <td>Rising and falling between a man and woman.</td>\n",
       "      <td>...</td>\n",
       "      <td>0.0</td>\n",
       "      <td>90.0</td>\n",
       "      <td>[{'iso_639_1': 'fa', 'name': 'فارسی'}]</td>\n",
       "      <td>Released</td>\n",
       "      <td>Rising and falling between a man and woman</td>\n",
       "      <td>Subdue</td>\n",
       "      <td>False</td>\n",
       "      <td>4.0</td>\n",
       "      <td>1.0</td>\n",
       "      <td>NaN</td>\n",
       "    </tr>\n",
       "    <tr>\n",
       "      <th>45462</th>\n",
       "      <td>False</td>\n",
       "      <td>NaN</td>\n",
       "      <td>0</td>\n",
       "      <td>[{'id': 18, 'name': 'Drama'}]</td>\n",
       "      <td>NaN</td>\n",
       "      <td>111109</td>\n",
       "      <td>tt2028550</td>\n",
       "      <td>tl</td>\n",
       "      <td>Siglo ng Pagluluwal</td>\n",
       "      <td>An artist struggles to finish his work while a...</td>\n",
       "      <td>...</td>\n",
       "      <td>0.0</td>\n",
       "      <td>360.0</td>\n",
       "      <td>[{'iso_639_1': 'tl', 'name': ''}]</td>\n",
       "      <td>Released</td>\n",
       "      <td>NaN</td>\n",
       "      <td>Century of Birthing</td>\n",
       "      <td>False</td>\n",
       "      <td>9.0</td>\n",
       "      <td>3.0</td>\n",
       "      <td>2011.0</td>\n",
       "    </tr>\n",
       "    <tr>\n",
       "      <th>45463</th>\n",
       "      <td>False</td>\n",
       "      <td>NaN</td>\n",
       "      <td>0</td>\n",
       "      <td>[{'id': 28, 'name': 'Action'}, {'id': 18, 'nam...</td>\n",
       "      <td>NaN</td>\n",
       "      <td>67758</td>\n",
       "      <td>tt0303758</td>\n",
       "      <td>en</td>\n",
       "      <td>Betrayal</td>\n",
       "      <td>When one of her hits goes wrong, a professiona...</td>\n",
       "      <td>...</td>\n",
       "      <td>0.0</td>\n",
       "      <td>90.0</td>\n",
       "      <td>[{'iso_639_1': 'en', 'name': 'English'}]</td>\n",
       "      <td>Released</td>\n",
       "      <td>A deadly game of wits.</td>\n",
       "      <td>Betrayal</td>\n",
       "      <td>False</td>\n",
       "      <td>3.8</td>\n",
       "      <td>6.0</td>\n",
       "      <td>2003.0</td>\n",
       "    </tr>\n",
       "    <tr>\n",
       "      <th>45464</th>\n",
       "      <td>False</td>\n",
       "      <td>NaN</td>\n",
       "      <td>0</td>\n",
       "      <td>[]</td>\n",
       "      <td>NaN</td>\n",
       "      <td>227506</td>\n",
       "      <td>tt0008536</td>\n",
       "      <td>en</td>\n",
       "      <td>Satana likuyushchiy</td>\n",
       "      <td>In a small town live two brothers, one a minis...</td>\n",
       "      <td>...</td>\n",
       "      <td>0.0</td>\n",
       "      <td>87.0</td>\n",
       "      <td>[]</td>\n",
       "      <td>Released</td>\n",
       "      <td>NaN</td>\n",
       "      <td>Satan Triumphant</td>\n",
       "      <td>False</td>\n",
       "      <td>0.0</td>\n",
       "      <td>0.0</td>\n",
       "      <td>1917.0</td>\n",
       "    </tr>\n",
       "    <tr>\n",
       "      <th>45465</th>\n",
       "      <td>False</td>\n",
       "      <td>NaN</td>\n",
       "      <td>0</td>\n",
       "      <td>[]</td>\n",
       "      <td>NaN</td>\n",
       "      <td>461257</td>\n",
       "      <td>tt6980792</td>\n",
       "      <td>en</td>\n",
       "      <td>Queerama</td>\n",
       "      <td>50 years after decriminalisation of homosexual...</td>\n",
       "      <td>...</td>\n",
       "      <td>0.0</td>\n",
       "      <td>75.0</td>\n",
       "      <td>[{'iso_639_1': 'en', 'name': 'English'}]</td>\n",
       "      <td>Released</td>\n",
       "      <td>NaN</td>\n",
       "      <td>Queerama</td>\n",
       "      <td>False</td>\n",
       "      <td>0.0</td>\n",
       "      <td>0.0</td>\n",
       "      <td>2017.0</td>\n",
       "    </tr>\n",
       "  </tbody>\n",
       "</table>\n",
       "<p>5 rows × 25 columns</p>\n",
       "</div>"
      ],
      "text/plain": [
       "       adult belongs_to_collection budget  \\\n",
       "45461  False                   NaN      0   \n",
       "45462  False                   NaN      0   \n",
       "45463  False                   NaN      0   \n",
       "45464  False                   NaN      0   \n",
       "45465  False                   NaN      0   \n",
       "\n",
       "                                                  genres  \\\n",
       "45461  [{'id': 18, 'name': 'Drama'}, {'id': 10751, 'n...   \n",
       "45462                      [{'id': 18, 'name': 'Drama'}]   \n",
       "45463  [{'id': 28, 'name': 'Action'}, {'id': 18, 'nam...   \n",
       "45464                                                 []   \n",
       "45465                                                 []   \n",
       "\n",
       "                                   homepage      id    imdb_id  \\\n",
       "45461  http://www.imdb.com/title/tt6209470/  439050  tt6209470   \n",
       "45462                                   NaN  111109  tt2028550   \n",
       "45463                                   NaN   67758  tt0303758   \n",
       "45464                                   NaN  227506  tt0008536   \n",
       "45465                                   NaN  461257  tt6980792   \n",
       "\n",
       "      original_language       original_title  \\\n",
       "45461                fa              رگ خواب   \n",
       "45462                tl  Siglo ng Pagluluwal   \n",
       "45463                en             Betrayal   \n",
       "45464                en  Satana likuyushchiy   \n",
       "45465                en             Queerama   \n",
       "\n",
       "                                                overview  ... revenue runtime  \\\n",
       "45461        Rising and falling between a man and woman.  ...     0.0    90.0   \n",
       "45462  An artist struggles to finish his work while a...  ...     0.0   360.0   \n",
       "45463  When one of her hits goes wrong, a professiona...  ...     0.0    90.0   \n",
       "45464  In a small town live two brothers, one a minis...  ...     0.0    87.0   \n",
       "45465  50 years after decriminalisation of homosexual...  ...     0.0    75.0   \n",
       "\n",
       "                               spoken_languages    status  \\\n",
       "45461    [{'iso_639_1': 'fa', 'name': 'فارسی'}]  Released   \n",
       "45462         [{'iso_639_1': 'tl', 'name': ''}]  Released   \n",
       "45463  [{'iso_639_1': 'en', 'name': 'English'}]  Released   \n",
       "45464                                        []  Released   \n",
       "45465  [{'iso_639_1': 'en', 'name': 'English'}]  Released   \n",
       "\n",
       "                                          tagline                title  video  \\\n",
       "45461  Rising and falling between a man and woman               Subdue  False   \n",
       "45462                                         NaN  Century of Birthing  False   \n",
       "45463                      A deadly game of wits.             Betrayal  False   \n",
       "45464                                         NaN     Satan Triumphant  False   \n",
       "45465                                         NaN             Queerama  False   \n",
       "\n",
       "      vote_average vote_count    year  \n",
       "45461          4.0        1.0     NaN  \n",
       "45462          9.0        3.0  2011.0  \n",
       "45463          3.8        6.0  2003.0  \n",
       "45464          0.0        0.0  1917.0  \n",
       "45465          0.0        0.0  2017.0  \n",
       "\n",
       "[5 rows x 25 columns]"
      ]
     },
     "execution_count": 26,
     "metadata": {},
     "output_type": "execute_result"
    }
   ],
   "source": [
    "dataset.tail(5)"
   ]
  },
  {
   "cell_type": "markdown",
   "id": "894b7eff",
   "metadata": {},
   "source": [
    "####  Finding the Most Voted Movies"
   ]
  },
  {
   "cell_type": "code",
   "execution_count": 27,
   "id": "039f1ef1",
   "metadata": {},
   "outputs": [
    {
     "data": {
      "text/html": [
       "<div>\n",
       "<style scoped>\n",
       "    .dataframe tbody tr th:only-of-type {\n",
       "        vertical-align: middle;\n",
       "    }\n",
       "\n",
       "    .dataframe tbody tr th {\n",
       "        vertical-align: top;\n",
       "    }\n",
       "\n",
       "    .dataframe thead th {\n",
       "        text-align: right;\n",
       "    }\n",
       "</style>\n",
       "<table border=\"1\" class=\"dataframe\">\n",
       "  <thead>\n",
       "    <tr style=\"text-align: right;\">\n",
       "      <th></th>\n",
       "      <th>title</th>\n",
       "      <th>vote_count</th>\n",
       "      <th>year</th>\n",
       "    </tr>\n",
       "  </thead>\n",
       "  <tbody>\n",
       "    <tr>\n",
       "      <th>15480</th>\n",
       "      <td>Inception</td>\n",
       "      <td>14075.0</td>\n",
       "      <td>2010.0</td>\n",
       "    </tr>\n",
       "    <tr>\n",
       "      <th>12481</th>\n",
       "      <td>The Dark Knight</td>\n",
       "      <td>12269.0</td>\n",
       "      <td>2008.0</td>\n",
       "    </tr>\n",
       "    <tr>\n",
       "      <th>14551</th>\n",
       "      <td>Avatar</td>\n",
       "      <td>12114.0</td>\n",
       "      <td>2009.0</td>\n",
       "    </tr>\n",
       "    <tr>\n",
       "      <th>17818</th>\n",
       "      <td>The Avengers</td>\n",
       "      <td>12000.0</td>\n",
       "      <td>2012.0</td>\n",
       "    </tr>\n",
       "    <tr>\n",
       "      <th>26564</th>\n",
       "      <td>Deadpool</td>\n",
       "      <td>11444.0</td>\n",
       "      <td>2016.0</td>\n",
       "    </tr>\n",
       "    <tr>\n",
       "      <th>22879</th>\n",
       "      <td>Interstellar</td>\n",
       "      <td>11187.0</td>\n",
       "      <td>2014.0</td>\n",
       "    </tr>\n",
       "    <tr>\n",
       "      <th>20051</th>\n",
       "      <td>Django Unchained</td>\n",
       "      <td>10297.0</td>\n",
       "      <td>2012.0</td>\n",
       "    </tr>\n",
       "    <tr>\n",
       "      <th>23753</th>\n",
       "      <td>Guardians of the Galaxy</td>\n",
       "      <td>10014.0</td>\n",
       "      <td>2014.0</td>\n",
       "    </tr>\n",
       "    <tr>\n",
       "      <th>2843</th>\n",
       "      <td>Fight Club</td>\n",
       "      <td>9678.0</td>\n",
       "      <td>1999.0</td>\n",
       "    </tr>\n",
       "    <tr>\n",
       "      <th>18244</th>\n",
       "      <td>The Hunger Games</td>\n",
       "      <td>9634.0</td>\n",
       "      <td>2012.0</td>\n",
       "    </tr>\n",
       "  </tbody>\n",
       "</table>\n",
       "</div>"
      ],
      "text/plain": [
       "                         title  vote_count    year\n",
       "15480                Inception     14075.0  2010.0\n",
       "12481          The Dark Knight     12269.0  2008.0\n",
       "14551                   Avatar     12114.0  2009.0\n",
       "17818             The Avengers     12000.0  2012.0\n",
       "26564                 Deadpool     11444.0  2016.0\n",
       "22879             Interstellar     11187.0  2014.0\n",
       "20051         Django Unchained     10297.0  2012.0\n",
       "23753  Guardians of the Galaxy     10014.0  2014.0\n",
       "2843                Fight Club      9678.0  1999.0\n",
       "18244         The Hunger Games      9634.0  2012.0"
      ]
     },
     "execution_count": 27,
     "metadata": {},
     "output_type": "execute_result"
    }
   ],
   "source": [
    "dataset[['title', 'vote_count', 'year']].sort_values('vote_count', ascending=False).head(10)"
   ]
  },
  {
   "cell_type": "markdown",
   "id": "927b90cb",
   "metadata": {},
   "source": [
    "                   Inception, The Dark Knight and Avatar movies are the most voted movies by the audience in the dataset based on the vote counts."
   ]
  },
  {
   "cell_type": "markdown",
   "id": "b046608d",
   "metadata": {},
   "source": [
    "### Finding the list of movies based on Release Dates :-"
   ]
  },
  {
   "cell_type": "markdown",
   "id": "3724a3df",
   "metadata": {},
   "source": [
    "#### Movie analysis based on released year :-"
   ]
  },
  {
   "cell_type": "code",
   "execution_count": 28,
   "id": "566ab5bc",
   "metadata": {},
   "outputs": [
    {
     "data": {
      "text/plain": [
       "<AxesSubplot:title={'center':'Movies Produced '}, xlabel='year', ylabel='Count'>"
      ]
     },
     "execution_count": 28,
     "metadata": {},
     "output_type": "execute_result"
    },
    {
     "data": {
      "image/png": "[encoded data removed]",
      "text/plain": [
       "<Figure size 1296x360 with 1 Axes>"
      ]
     },
     "metadata": {
      "needs_background": "light"
     },
     "output_type": "display_data"
    }
   ],
   "source": [
    "year_count = dataset.groupby('year')['title'].count()\n",
    "plt.figure(figsize=(18,5))\n",
    "plt.ylabel('Count', fontsize=14)\n",
    "plt.xlabel('Released Year', fontsize=14)\n",
    "plt.title('Movies Produced ')\n",
    "year_count.plot()"
   ]
  },
  {
   "cell_type": "code",
   "execution_count": 29,
   "id": "8108636e",
   "metadata": {},
   "outputs": [
    {
     "data": {
      "text/html": [
       "<div>\n",
       "<style scoped>\n",
       "    .dataframe tbody tr th:only-of-type {\n",
       "        vertical-align: middle;\n",
       "    }\n",
       "\n",
       "    .dataframe tbody tr th {\n",
       "        vertical-align: top;\n",
       "    }\n",
       "\n",
       "    .dataframe thead th {\n",
       "        text-align: right;\n",
       "    }\n",
       "</style>\n",
       "<table border=\"1\" class=\"dataframe\">\n",
       "  <thead>\n",
       "    <tr style=\"text-align: right;\">\n",
       "      <th></th>\n",
       "      <th>title</th>\n",
       "      <th>year</th>\n",
       "      <th>original_language</th>\n",
       "    </tr>\n",
       "  </thead>\n",
       "  <tbody>\n",
       "    <tr>\n",
       "      <th>34940</th>\n",
       "      <td>Passage of Venus</td>\n",
       "      <td>1874.0</td>\n",
       "      <td>xx</td>\n",
       "    </tr>\n",
       "    <tr>\n",
       "      <th>34937</th>\n",
       "      <td>Sallie Gardner at a Gallop</td>\n",
       "      <td>1878.0</td>\n",
       "      <td>en</td>\n",
       "    </tr>\n",
       "    <tr>\n",
       "      <th>41602</th>\n",
       "      <td>Buffalo Running</td>\n",
       "      <td>1883.0</td>\n",
       "      <td>en</td>\n",
       "    </tr>\n",
       "    <tr>\n",
       "      <th>34933</th>\n",
       "      <td>Man Walking Around a Corner</td>\n",
       "      <td>1887.0</td>\n",
       "      <td>xx</td>\n",
       "    </tr>\n",
       "    <tr>\n",
       "      <th>34934</th>\n",
       "      <td>Accordion Player</td>\n",
       "      <td>1888.0</td>\n",
       "      <td>xx</td>\n",
       "    </tr>\n",
       "    <tr>\n",
       "      <th>34938</th>\n",
       "      <td>Traffic Crossing Leeds Bridge</td>\n",
       "      <td>1888.0</td>\n",
       "      <td>xx</td>\n",
       "    </tr>\n",
       "    <tr>\n",
       "      <th>34936</th>\n",
       "      <td>Monkeyshines, No. 2</td>\n",
       "      <td>1890.0</td>\n",
       "      <td>xx</td>\n",
       "    </tr>\n",
       "    <tr>\n",
       "      <th>34939</th>\n",
       "      <td>London's Trafalgar Square</td>\n",
       "      <td>1890.0</td>\n",
       "      <td>xx</td>\n",
       "    </tr>\n",
       "    <tr>\n",
       "      <th>34935</th>\n",
       "      <td>Monkeyshines, No. 1</td>\n",
       "      <td>1890.0</td>\n",
       "      <td>en</td>\n",
       "    </tr>\n",
       "    <tr>\n",
       "      <th>41194</th>\n",
       "      <td>Mosquinha</td>\n",
       "      <td>1890.0</td>\n",
       "      <td>en</td>\n",
       "    </tr>\n",
       "  </tbody>\n",
       "</table>\n",
       "</div>"
      ],
      "text/plain": [
       "                               title    year original_language\n",
       "34940               Passage of Venus  1874.0                xx\n",
       "34937     Sallie Gardner at a Gallop  1878.0                en\n",
       "41602                Buffalo Running  1883.0                en\n",
       "34933    Man Walking Around a Corner  1887.0                xx\n",
       "34934               Accordion Player  1888.0                xx\n",
       "34938  Traffic Crossing Leeds Bridge  1888.0                xx\n",
       "34936            Monkeyshines, No. 2  1890.0                xx\n",
       "34939      London's Trafalgar Square  1890.0                xx\n",
       "34935            Monkeyshines, No. 1  1890.0                en\n",
       "41194                      Mosquinha  1890.0                en"
      ]
     },
     "execution_count": 29,
     "metadata": {},
     "output_type": "execute_result"
    }
   ],
   "source": [
    "######  Earliest Movies represented :-\n",
    "\n",
    "dataset[dataset['year'] != 'NaT'][['title', 'year', 'original_language']].sort_values('year', ascending = True).head(10)"
   ]
  },
  {
   "cell_type": "markdown",
   "id": "ef229b81",
   "metadata": {},
   "source": [
    "The movie \"Passage of Venus\" is the oldest among the list in IMDb movies. It is a series of photographs of the transit of the planet Venus across the Sun on 9 December 1874. "
   ]
  },
  {
   "cell_type": "markdown",
   "id": "7bf5cf7f",
   "metadata": {},
   "source": [
    "#### Finding the released date in terms of years, months and days of the week. \n",
    "\n",
    "            Release Dates can often play a very important role in determining the success and the revenue generated by a particular movie. So it can be considered as a specific feature for this dataset."
   ]
  },
  {
   "cell_type": "code",
   "execution_count": 30,
   "id": "f03488cc",
   "metadata": {},
   "outputs": [],
   "source": [
    "monthwise = ['Jan', 'Feb', 'Mar', 'Apr', 'May', 'Jun', 'Jul', 'Aug', 'Sep', 'Oct', 'Nov', 'Dec']\n",
    "daywise = ['Mon', 'Tue', 'Wed', 'Thu', 'Fri', 'Sat', 'Sun']"
   ]
  },
  {
   "cell_type": "code",
   "execution_count": 31,
   "id": "3f499fef",
   "metadata": {},
   "outputs": [],
   "source": [
    "def get_month(x):\n",
    "    try:\n",
    "        return monthwise[int(str(x).split('-')[1]) - 1]\n",
    "    except:\n",
    "        return np.nan"
   ]
  },
  {
   "cell_type": "code",
   "execution_count": 32,
   "id": "67028788",
   "metadata": {},
   "outputs": [],
   "source": [
    "def get_day(x):\n",
    "    try:\n",
    "        year, month, day = (int(i) for i in x.split('-'))    \n",
    "        answer = datetime.date(year, month, day).weekday()\n",
    "        return daywise[answer]\n",
    "    except:\n",
    "        return np.nan"
   ]
  },
  {
   "cell_type": "code",
   "execution_count": 33,
   "id": "3e0cb060",
   "metadata": {},
   "outputs": [],
   "source": [
    "# Adding the features month and day\n",
    "\n",
    "dataset['day'] = dataset['release_date'].apply(get_day)\n",
    "dataset['month'] = dataset['release_date'].apply(get_month)"
   ]
  },
  {
   "cell_type": "markdown",
   "id": "289ceb24",
   "metadata": {},
   "source": [
    "###### Ploting most successful/popular months of movie releasing :-"
   ]
  },
  {
   "cell_type": "code",
   "execution_count": 34,
   "id": "14db6138",
   "metadata": {},
   "outputs": [
    {
     "data": {
      "text/plain": [
       "<AxesSubplot:title={'center':'Number of Movies released in a particular month.'}, xlabel='month', ylabel='count'>"
      ]
     },
     "execution_count": 34,
     "metadata": {},
     "output_type": "execute_result"
    },
    {
     "data": {
      "image/png": "[encoded data removed]",
      "text/plain": [
       "<Figure size 864x432 with 1 Axes>"
      ]
     },
     "metadata": {
      "needs_background": "light"
     },
     "output_type": "display_data"
    }
   ],
   "source": [
    "plt.figure(figsize=(12,6))\n",
    "plt.title(\"Number of Movies released in a particular month.\")\n",
    "sns.countplot(x='month', data=dataset, order=monthwise)"
   ]
  },
  {
   "cell_type": "markdown",
   "id": "851301d8",
   "metadata": {},
   "source": [
    "   When it comes in movie release, January is the most popular month as it is consideed as dump month."
   ]
  },
  {
   "cell_type": "markdown",
   "id": "de84b5bf",
   "metadata": {},
   "source": [
    " Ploting the most popular day for releasing movies :-"
   ]
  },
  {
   "cell_type": "markdown",
   "id": "da5d0255",
   "metadata": {},
   "source": [
    "plt.figure(figsize=(12,6))\n",
    "plt.title(\"Number of Movies released on a particular day.\")\n",
    "sns.countplot(x='day', data=dataset, order= daywise)"
   ]
  },
  {
   "cell_type": "markdown",
   "id": "53605194",
   "metadata": {},
   "source": [
    "### Movie Status :-"
   ]
  },
  {
   "cell_type": "code",
   "execution_count": 35,
   "id": "e72f7404",
   "metadata": {},
   "outputs": [
    {
     "data": {
      "text/plain": [
       "Released           45014\n",
       "Rumored              230\n",
       "Post Production       98\n",
       "In Production         20\n",
       "Planned               15\n",
       "Canceled               2\n",
       "Name: status, dtype: int64"
      ]
     },
     "execution_count": 35,
     "metadata": {},
     "output_type": "execute_result"
    }
   ],
   "source": [
    "dataset['status'].value_counts()"
   ]
  },
  {
   "cell_type": "markdown",
   "id": "fc4a08c8",
   "metadata": {},
   "source": [
    "            Although not relevant feature, I have gathered the information of all the movies based on their status that provides interesting insights of the nature of movies in this dataset. Almost all of the movies has been released."
   ]
  },
  {
   "cell_type": "markdown",
   "id": "fd2c5953",
   "metadata": {},
   "source": [
    "#### Spoken Languages :-"
   ]
  },
  {
   "cell_type": "code",
   "execution_count": 36,
   "id": "f6103170",
   "metadata": {},
   "outputs": [],
   "source": [
    "# Converting spoken languages into numeric for finding the maximum number of languages spoken in a film.\n",
    "\n",
    "dataset['spoken_languages'] = dataset['spoken_languages'].fillna('[]').apply(ast.literal_eval).apply(lambda x: len(x) if isinstance(x, list) else np.nan)"
   ]
  },
  {
   "cell_type": "code",
   "execution_count": 37,
   "id": "d6fb8f92",
   "metadata": {},
   "outputs": [
    {
     "data": {
      "text/plain": [
       "1     33736\n",
       "2      5371\n",
       "0      3835\n",
       "3      1705\n",
       "4       550\n",
       "5       178\n",
       "6        62\n",
       "7        14\n",
       "8         6\n",
       "9         5\n",
       "10        1\n",
       "12        1\n",
       "19        1\n",
       "13        1\n",
       "Name: spoken_languages, dtype: int64"
      ]
     },
     "execution_count": 37,
     "metadata": {},
     "output_type": "execute_result"
    }
   ],
   "source": [
    "dataset['spoken_languages'].value_counts()"
   ]
  },
  {
   "cell_type": "markdown",
   "id": "080791c4",
   "metadata": {},
   "source": [
    "            From this, 19 is the highest number of languages spoken in a film."
   ]
  },
  {
   "cell_type": "markdown",
   "id": "0862dd2a",
   "metadata": {},
   "source": [
    "######  Finding the films with more than 10 spoken languages."
   ]
  },
  {
   "cell_type": "code",
   "execution_count": 38,
   "id": "53b6ec68",
   "metadata": {},
   "outputs": [
    {
     "data": {
      "text/html": [
       "<div>\n",
       "<style scoped>\n",
       "    .dataframe tbody tr th:only-of-type {\n",
       "        vertical-align: middle;\n",
       "    }\n",
       "\n",
       "    .dataframe tbody tr th {\n",
       "        vertical-align: top;\n",
       "    }\n",
       "\n",
       "    .dataframe thead th {\n",
       "        text-align: right;\n",
       "    }\n",
       "</style>\n",
       "<table border=\"1\" class=\"dataframe\">\n",
       "  <thead>\n",
       "    <tr style=\"text-align: right;\">\n",
       "      <th></th>\n",
       "      <th>title</th>\n",
       "      <th>year</th>\n",
       "      <th>spoken_languages</th>\n",
       "    </tr>\n",
       "  </thead>\n",
       "  <tbody>\n",
       "    <tr>\n",
       "      <th>22235</th>\n",
       "      <td>Visions of Europe</td>\n",
       "      <td>2004.0</td>\n",
       "      <td>19</td>\n",
       "    </tr>\n",
       "    <tr>\n",
       "      <th>35288</th>\n",
       "      <td>The Testaments</td>\n",
       "      <td>2000.0</td>\n",
       "      <td>13</td>\n",
       "    </tr>\n",
       "    <tr>\n",
       "      <th>14093</th>\n",
       "      <td>To Each His Own Cinema</td>\n",
       "      <td>2007.0</td>\n",
       "      <td>12</td>\n",
       "    </tr>\n",
       "    <tr>\n",
       "      <th>8789</th>\n",
       "      <td>The Adventures of Picasso</td>\n",
       "      <td>1978.0</td>\n",
       "      <td>10</td>\n",
       "    </tr>\n",
       "  </tbody>\n",
       "</table>\n",
       "</div>"
      ],
      "text/plain": [
       "                           title    year  spoken_languages\n",
       "22235          Visions of Europe  2004.0                19\n",
       "35288             The Testaments  2000.0                13\n",
       "14093     To Each His Own Cinema  2007.0                12\n",
       "8789   The Adventures of Picasso  1978.0                10"
      ]
     },
     "execution_count": 38,
     "metadata": {},
     "output_type": "execute_result"
    }
   ],
   "source": [
    "dataset[dataset['spoken_languages'] >= 10][['title', 'year', 'spoken_languages']].sort_values('spoken_languages', ascending=False)"
   ]
  },
  {
   "cell_type": "markdown",
   "id": "4c0449d1",
   "metadata": {},
   "source": [
    "        The movie \"Vision of Europe\" has the highest number of spoken languages of 19 which shows the diversity of the movie in terms of languages."
   ]
  },
  {
   "cell_type": "markdown",
   "id": "22513928",
   "metadata": {},
   "source": [
    "#### Movies Analysis based on RunTime :-"
   ]
  },
  {
   "cell_type": "code",
   "execution_count": 39,
   "id": "a9c7dbc6",
   "metadata": {},
   "outputs": [
    {
     "data": {
      "text/plain": [
       "count    45203.000000\n",
       "mean        94.128199\n",
       "std         38.407810\n",
       "min          0.000000\n",
       "25%         85.000000\n",
       "50%         95.000000\n",
       "75%        107.000000\n",
       "max       1256.000000\n",
       "Name: runtime, dtype: float64"
      ]
     },
     "execution_count": 39,
     "metadata": {},
     "output_type": "execute_result"
    }
   ],
   "source": [
    "dataset['runtime'].describe()"
   ]
  },
  {
   "cell_type": "markdown",
   "id": "b1145751",
   "metadata": {},
   "source": [
    "                The average length of a movie is about 1 hour and 30 minutes. The longest movie on record in this dataset is about 1256 minutes (or 20 hours) long."
   ]
  },
  {
   "cell_type": "code",
   "execution_count": 40,
   "id": "5c4e126b",
   "metadata": {},
   "outputs": [],
   "source": [
    "dataset['runtime'] = dataset['runtime'].astype('float')"
   ]
  },
  {
   "cell_type": "code",
   "execution_count": 41,
   "id": "715b47eb",
   "metadata": {},
   "outputs": [
    {
     "data": {
      "text/plain": [
       "<AxesSubplot:xlabel='runtime', ylabel='Density'>"
      ]
     },
     "execution_count": 41,
     "metadata": {},
     "output_type": "execute_result"
    },
    {
     "data": {
      "image/png": "[encoded data removed]",
      "text/plain": [
       "<Figure size 864x432 with 1 Axes>"
      ]
     },
     "metadata": {
      "needs_background": "light"
     },
     "output_type": "display_data"
    }
   ],
   "source": [
    "######  Ploting a distribution of mainstream movies.\n",
    "\n",
    "plt.figure(figsize=(12,6))\n",
    "sns.distplot(dataset[(dataset['runtime'] < 300) & (dataset['runtime'] > 0)]['runtime'])"
   ]
  },
  {
   "cell_type": "markdown",
   "id": "d922054e",
   "metadata": {},
   "source": [
    " Finding the longest movies and shortest movie based on runtime :-"
   ]
  },
  {
   "cell_type": "code",
   "execution_count": 42,
   "id": "1a5476c8",
   "metadata": {},
   "outputs": [
    {
     "data": {
      "text/html": [
       "<div>\n",
       "<style scoped>\n",
       "    .dataframe tbody tr th:only-of-type {\n",
       "        vertical-align: middle;\n",
       "    }\n",
       "\n",
       "    .dataframe tbody tr th {\n",
       "        vertical-align: top;\n",
       "    }\n",
       "\n",
       "    .dataframe thead th {\n",
       "        text-align: right;\n",
       "    }\n",
       "</style>\n",
       "<table border=\"1\" class=\"dataframe\">\n",
       "  <thead>\n",
       "    <tr style=\"text-align: right;\">\n",
       "      <th></th>\n",
       "      <th>runtime</th>\n",
       "      <th>title</th>\n",
       "      <th>year</th>\n",
       "    </tr>\n",
       "  </thead>\n",
       "  <tbody>\n",
       "    <tr>\n",
       "      <th>24178</th>\n",
       "      <td>1256.0</td>\n",
       "      <td>Centennial</td>\n",
       "      <td>1978.0</td>\n",
       "    </tr>\n",
       "    <tr>\n",
       "      <th>40938</th>\n",
       "      <td>1140.0</td>\n",
       "      <td>Baseball</td>\n",
       "      <td>1994.0</td>\n",
       "    </tr>\n",
       "    <tr>\n",
       "      <th>19965</th>\n",
       "      <td>1140.0</td>\n",
       "      <td>Jazz</td>\n",
       "      <td>2001.0</td>\n",
       "    </tr>\n",
       "    <tr>\n",
       "      <th>13767</th>\n",
       "      <td>931.0</td>\n",
       "      <td>Berlin Alexanderplatz</td>\n",
       "      <td>1980.0</td>\n",
       "    </tr>\n",
       "    <tr>\n",
       "      <th>13953</th>\n",
       "      <td>925.0</td>\n",
       "      <td>Heimat: A Chronicle of Germany</td>\n",
       "      <td>1984.0</td>\n",
       "    </tr>\n",
       "    <tr>\n",
       "      <th>27855</th>\n",
       "      <td>900.0</td>\n",
       "      <td>The Story of Film: An Odyssey</td>\n",
       "      <td>2011.0</td>\n",
       "    </tr>\n",
       "    <tr>\n",
       "      <th>26682</th>\n",
       "      <td>877.0</td>\n",
       "      <td>Taken</td>\n",
       "      <td>2002.0</td>\n",
       "    </tr>\n",
       "    <tr>\n",
       "      <th>19158</th>\n",
       "      <td>874.0</td>\n",
       "      <td>The War</td>\n",
       "      <td>2007.0</td>\n",
       "    </tr>\n",
       "    <tr>\n",
       "      <th>34667</th>\n",
       "      <td>840.0</td>\n",
       "      <td>The Roosevelts: An Intimate History</td>\n",
       "      <td>2014.0</td>\n",
       "    </tr>\n",
       "    <tr>\n",
       "      <th>34732</th>\n",
       "      <td>840.0</td>\n",
       "      <td>Seventeen Moments in Spring</td>\n",
       "      <td>1973.0</td>\n",
       "    </tr>\n",
       "  </tbody>\n",
       "</table>\n",
       "</div>"
      ],
      "text/plain": [
       "       runtime                                title    year\n",
       "24178   1256.0                           Centennial  1978.0\n",
       "40938   1140.0                             Baseball  1994.0\n",
       "19965   1140.0                                 Jazz  2001.0\n",
       "13767    931.0                Berlin Alexanderplatz  1980.0\n",
       "13953    925.0       Heimat: A Chronicle of Germany  1984.0\n",
       "27855    900.0        The Story of Film: An Odyssey  2011.0\n",
       "26682    877.0                                Taken  2002.0\n",
       "19158    874.0                              The War  2007.0\n",
       "34667    840.0  The Roosevelts: An Intimate History  2014.0\n",
       "34732    840.0          Seventeen Moments in Spring  1973.0"
      ]
     },
     "execution_count": 42,
     "metadata": {},
     "output_type": "execute_result"
    }
   ],
   "source": [
    "dataset[dataset['runtime'] > 0][['runtime', 'title', 'year']].sort_values('runtime', ascending=False).head(10)"
   ]
  },
  {
   "cell_type": "code",
   "execution_count": 43,
   "id": "d7a85de7",
   "metadata": {},
   "outputs": [
    {
     "data": {
      "text/html": [
       "<div>\n",
       "<style scoped>\n",
       "    .dataframe tbody tr th:only-of-type {\n",
       "        vertical-align: middle;\n",
       "    }\n",
       "\n",
       "    .dataframe tbody tr th {\n",
       "        vertical-align: top;\n",
       "    }\n",
       "\n",
       "    .dataframe thead th {\n",
       "        text-align: right;\n",
       "    }\n",
       "</style>\n",
       "<table border=\"1\" class=\"dataframe\">\n",
       "  <thead>\n",
       "    <tr style=\"text-align: right;\">\n",
       "      <th></th>\n",
       "      <th>runtime</th>\n",
       "      <th>title</th>\n",
       "      <th>year</th>\n",
       "    </tr>\n",
       "  </thead>\n",
       "  <tbody>\n",
       "    <tr>\n",
       "      <th>35146</th>\n",
       "      <td>1.0</td>\n",
       "      <td>La Vague</td>\n",
       "      <td>1891.0</td>\n",
       "    </tr>\n",
       "    <tr>\n",
       "      <th>36577</th>\n",
       "      <td>1.0</td>\n",
       "      <td>Champs de Mars</td>\n",
       "      <td>1900.0</td>\n",
       "    </tr>\n",
       "    <tr>\n",
       "      <th>36576</th>\n",
       "      <td>1.0</td>\n",
       "      <td>Palace of Electricity</td>\n",
       "      <td>1900.0</td>\n",
       "    </tr>\n",
       "    <tr>\n",
       "      <th>44965</th>\n",
       "      <td>1.0</td>\n",
       "      <td>Luis Martinetti, Contortionist</td>\n",
       "      <td>1894.0</td>\n",
       "    </tr>\n",
       "    <tr>\n",
       "      <th>42357</th>\n",
       "      <td>1.0</td>\n",
       "      <td>A Gathering of Cats</td>\n",
       "      <td>2007.0</td>\n",
       "    </tr>\n",
       "    <tr>\n",
       "      <th>36575</th>\n",
       "      <td>1.0</td>\n",
       "      <td>Eiffel Tower from Trocadero Palace</td>\n",
       "      <td>1900.0</td>\n",
       "    </tr>\n",
       "    <tr>\n",
       "      <th>36574</th>\n",
       "      <td>1.0</td>\n",
       "      <td>Panorama of Eiffel Tower</td>\n",
       "      <td>1900.0</td>\n",
       "    </tr>\n",
       "    <tr>\n",
       "      <th>44714</th>\n",
       "      <td>1.0</td>\n",
       "      <td>The Infernal Caldron</td>\n",
       "      <td>1903.0</td>\n",
       "    </tr>\n",
       "    <tr>\n",
       "      <th>19244</th>\n",
       "      <td>1.0</td>\n",
       "      <td>The Kiss</td>\n",
       "      <td>1896.0</td>\n",
       "    </tr>\n",
       "    <tr>\n",
       "      <th>44646</th>\n",
       "      <td>1.0</td>\n",
       "      <td>The Vanishing Lady</td>\n",
       "      <td>1896.0</td>\n",
       "    </tr>\n",
       "  </tbody>\n",
       "</table>\n",
       "</div>"
      ],
      "text/plain": [
       "       runtime                               title    year\n",
       "35146      1.0                            La Vague  1891.0\n",
       "36577      1.0                      Champs de Mars  1900.0\n",
       "36576      1.0               Palace of Electricity  1900.0\n",
       "44965      1.0      Luis Martinetti, Contortionist  1894.0\n",
       "42357      1.0                 A Gathering of Cats  2007.0\n",
       "36575      1.0  Eiffel Tower from Trocadero Palace  1900.0\n",
       "36574      1.0            Panorama of Eiffel Tower  1900.0\n",
       "44714      1.0                The Infernal Caldron  1903.0\n",
       "19244      1.0                            The Kiss  1896.0\n",
       "44646      1.0                  The Vanishing Lady  1896.0"
      ]
     },
     "execution_count": 43,
     "metadata": {},
     "output_type": "execute_result"
    }
   ],
   "source": [
    "dataset[dataset['runtime'] > 0][['runtime', 'title', 'year']].sort_values('runtime').head(10)"
   ]
  },
  {
   "cell_type": "markdown",
   "id": "526ae558",
   "metadata": {},
   "source": [
    "###### Creating a dataframe of voteaverage with the title :-"
   ]
  },
  {
   "cell_type": "code",
   "execution_count": 44,
   "id": "ce571788",
   "metadata": {},
   "outputs": [
    {
     "data": {
      "text/plain": [
       "title\n",
       "An Apology to Elephants                   10.0\n",
       "Mera Naam Joker                           10.0\n",
       "Patient Zero                              10.0\n",
       "Looking for Grace                         10.0\n",
       "Big Jay Oakerson: Live at Webster Hall    10.0\n",
       "Name: vote_average, dtype: float64"
      ]
     },
     "execution_count": 44,
     "metadata": {},
     "output_type": "execute_result"
    }
   ],
   "source": [
    "dataset.groupby('title')['vote_average'].mean().sort_values(ascending = False).head()"
   ]
  },
  {
   "cell_type": "code",
   "execution_count": 45,
   "id": "fb5e0afc",
   "metadata": {},
   "outputs": [
    {
     "data": {
      "text/plain": [
       "title\n",
       "Cinderella              11\n",
       "Alice in Wonderland      9\n",
       "Hamlet                   9\n",
       "Les Misérables           8\n",
       "Beauty and the Beast     8\n",
       "Name: vote_average, dtype: int64"
      ]
     },
     "execution_count": 45,
     "metadata": {},
     "output_type": "execute_result"
    }
   ],
   "source": [
    "dataset.groupby('title')['vote_average'].count().sort_values(ascending = False).head()"
   ]
  },
  {
   "cell_type": "code",
   "execution_count": 46,
   "id": "ce9692bc",
   "metadata": {},
   "outputs": [
    {
     "data": {
      "text/plain": [
       "title\n",
       "ファンタスティポ                                0.0\n",
       "Saturday's Hero                         0.0\n",
       "Freedom Song                            0.0\n",
       "Satan's Sword: The Dragon God           0.0\n",
       "Satan's Sword III: The Final Chapter    0.0\n",
       "Name: vote_average, dtype: float64"
      ]
     },
     "execution_count": 46,
     "metadata": {},
     "output_type": "execute_result"
    }
   ],
   "source": [
    "dataset.groupby('title')['vote_average'].mean().sort_values(ascending = True).head()"
   ]
  },
  {
   "cell_type": "markdown",
   "id": "7dccf8a3",
   "metadata": {},
   "source": [
    "         There are many films that have got a vote averages of 9.5 and there are many films with 0 vote aaverages in this movies dataset."
   ]
  },
  {
   "cell_type": "markdown",
   "id": "7221c87e",
   "metadata": {},
   "source": [
    "#####  Movie Analysis based on Revenue :-"
   ]
  },
  {
   "cell_type": "markdown",
   "id": "03c9304a",
   "metadata": {},
   "source": [
    "\n",
    "##### Ploting the movies based on their revenues."
   ]
  },
  {
   "cell_type": "code",
   "execution_count": 47,
   "id": "9f0371a2",
   "metadata": {},
   "outputs": [
    {
     "data": {
      "image/png": "[encoded data removed]",
      "text/plain": [
       "<Figure size 1008x576 with 1 Axes>"
      ]
     },
     "metadata": {
      "needs_background": "light"
     },
     "output_type": "display_data"
    }
   ],
   "source": [
    "fig = plt.figure(figsize=(14,8))\n",
    "gs = fig.add_gridspec(1,1)\n",
    "\n",
    "pal = sns.light_palette('#79c6e8', reverse=True, n_colors=50)\n",
    "pal.insert(0,'#9c9a9a')\n",
    "\n",
    "cars = dataset.groupby('original_title')['revenue'].mean().sort_values(ascending=False).head(10)\n",
    "color = ['skyblue' for i in range(15)]\n",
    "color[0] = 'red'\n",
    "ax = fig.add_subplot(gs[0,0])\n",
    "ax=sns.barplot(x=cars.index, y=cars.values, edgecolor='k', linewidth=0.7, palette=pal)\n",
    "ax.tick_params(axis='x', labelsize=10, rotation=90)\n",
    "ax.tick_params(axis='y', labelsize=10, left=False)\n",
    "ax.set_xlabel(xlabel=None)\n",
    "ax.set_ylabel(ylabel='max revenue', fontsize=10, weight='bold')\n",
    "for p in ax.patches:\n",
    "    value = f'{p.get_height():,.0f}'\n",
    "    x = p.get_x() + p.get_width()/2\n",
    "    y = p.get_y() + p.get_height()+38\n",
    "    ax.text(x=x, y=y, s=value, fontsize=8, ha='center', va='center',\n",
    "           bbox=dict(fc='white', edgecolor='k', boxstyle='round', linewidth=1.5))\n",
    "    \n",
    "fig.suptitle(t='Top 10 Movies with highest revenue', fontsize=12, weight='bold')\n",
    "sns.despine()\n",
    "plt.show()"
   ]
  },
  {
   "cell_type": "markdown",
   "id": "65a70220",
   "metadata": {},
   "source": [
    "The movie 'Avatar' is the top most movie based on revenue. Second is the Star Wars: The Force Awakens accompanied by Jurassic World, Furious 7 etc. and so on."
   ]
  },
  {
   "cell_type": "markdown",
   "id": "48ec2e2e",
   "metadata": {},
   "source": [
    "####  Top most critically Praised Movies :-"
   ]
  },
  {
   "cell_type": "code",
   "execution_count": 48,
   "id": "d02227b9",
   "metadata": {},
   "outputs": [
    {
     "data": {
      "text/html": [
       "<div>\n",
       "<style scoped>\n",
       "    .dataframe tbody tr th:only-of-type {\n",
       "        vertical-align: middle;\n",
       "    }\n",
       "\n",
       "    .dataframe tbody tr th {\n",
       "        vertical-align: top;\n",
       "    }\n",
       "\n",
       "    .dataframe thead th {\n",
       "        text-align: right;\n",
       "    }\n",
       "</style>\n",
       "<table border=\"1\" class=\"dataframe\">\n",
       "  <thead>\n",
       "    <tr style=\"text-align: right;\">\n",
       "      <th></th>\n",
       "      <th>title</th>\n",
       "      <th>vote_average</th>\n",
       "      <th>vote_count</th>\n",
       "      <th>year</th>\n",
       "    </tr>\n",
       "  </thead>\n",
       "  <tbody>\n",
       "    <tr>\n",
       "      <th>314</th>\n",
       "      <td>The Shawshank Redemption</td>\n",
       "      <td>8.5</td>\n",
       "      <td>8358.0</td>\n",
       "      <td>1994.0</td>\n",
       "    </tr>\n",
       "    <tr>\n",
       "      <th>834</th>\n",
       "      <td>The Godfather</td>\n",
       "      <td>8.5</td>\n",
       "      <td>6024.0</td>\n",
       "      <td>1972.0</td>\n",
       "    </tr>\n",
       "    <tr>\n",
       "      <th>2211</th>\n",
       "      <td>Life Is Beautiful</td>\n",
       "      <td>8.3</td>\n",
       "      <td>3643.0</td>\n",
       "      <td>1997.0</td>\n",
       "    </tr>\n",
       "    <tr>\n",
       "      <th>5481</th>\n",
       "      <td>Spirited Away</td>\n",
       "      <td>8.3</td>\n",
       "      <td>3968.0</td>\n",
       "      <td>2001.0</td>\n",
       "    </tr>\n",
       "    <tr>\n",
       "      <th>1152</th>\n",
       "      <td>One Flew Over the Cuckoo's Nest</td>\n",
       "      <td>8.3</td>\n",
       "      <td>3001.0</td>\n",
       "      <td>1975.0</td>\n",
       "    </tr>\n",
       "    <tr>\n",
       "      <th>1176</th>\n",
       "      <td>Psycho</td>\n",
       "      <td>8.3</td>\n",
       "      <td>2405.0</td>\n",
       "      <td>1960.0</td>\n",
       "    </tr>\n",
       "    <tr>\n",
       "      <th>2843</th>\n",
       "      <td>Fight Club</td>\n",
       "      <td>8.3</td>\n",
       "      <td>9678.0</td>\n",
       "      <td>1999.0</td>\n",
       "    </tr>\n",
       "    <tr>\n",
       "      <th>1178</th>\n",
       "      <td>The Godfather: Part II</td>\n",
       "      <td>8.3</td>\n",
       "      <td>3418.0</td>\n",
       "      <td>1974.0</td>\n",
       "    </tr>\n",
       "    <tr>\n",
       "      <th>12481</th>\n",
       "      <td>The Dark Knight</td>\n",
       "      <td>8.3</td>\n",
       "      <td>12269.0</td>\n",
       "      <td>2008.0</td>\n",
       "    </tr>\n",
       "    <tr>\n",
       "      <th>292</th>\n",
       "      <td>Pulp Fiction</td>\n",
       "      <td>8.3</td>\n",
       "      <td>8670.0</td>\n",
       "      <td>1994.0</td>\n",
       "    </tr>\n",
       "  </tbody>\n",
       "</table>\n",
       "</div>"
      ],
      "text/plain": [
       "                                 title  vote_average  vote_count    year\n",
       "314           The Shawshank Redemption           8.5      8358.0  1994.0\n",
       "834                      The Godfather           8.5      6024.0  1972.0\n",
       "2211                 Life Is Beautiful           8.3      3643.0  1997.0\n",
       "5481                     Spirited Away           8.3      3968.0  2001.0\n",
       "1152   One Flew Over the Cuckoo's Nest           8.3      3001.0  1975.0\n",
       "1176                            Psycho           8.3      2405.0  1960.0\n",
       "2843                        Fight Club           8.3      9678.0  1999.0\n",
       "1178            The Godfather: Part II           8.3      3418.0  1974.0\n",
       "12481                  The Dark Knight           8.3     12269.0  2008.0\n",
       "292                       Pulp Fiction           8.3      8670.0  1994.0"
      ]
     },
     "execution_count": 48,
     "metadata": {},
     "output_type": "execute_result"
    }
   ],
   "source": [
    "dataset[dataset['vote_count'] > 2000][['title', 'vote_average', 'vote_count' ,'year']].sort_values('vote_average', ascending=False).head(10)"
   ]
  },
  {
   "cell_type": "markdown",
   "id": "90e0c538",
   "metadata": {},
   "source": [
    "             In the dataset , the movies like The Shawshank Redemption and The Godfather  with 8.5 TMDb ratings and Life is beautiful with 8.3 are the most acclaimed movies in the dataset."
   ]
  },
  {
   "cell_type": "markdown",
   "id": "13db17e0",
   "metadata": {},
   "source": [
    "####  Movies based on Budget :-"
   ]
  },
  {
   "cell_type": "code",
   "execution_count": 49,
   "id": "c3958dcf",
   "metadata": {},
   "outputs": [
    {
     "data": {
      "text/html": [
       "<div>\n",
       "<style scoped>\n",
       "    .dataframe tbody tr th:only-of-type {\n",
       "        vertical-align: middle;\n",
       "    }\n",
       "\n",
       "    .dataframe tbody tr th {\n",
       "        vertical-align: top;\n",
       "    }\n",
       "\n",
       "    .dataframe thead th {\n",
       "        text-align: right;\n",
       "    }\n",
       "</style>\n",
       "<table border=\"1\" class=\"dataframe\">\n",
       "  <thead>\n",
       "    <tr style=\"text-align: right;\">\n",
       "      <th></th>\n",
       "      <th>title</th>\n",
       "      <th>budget</th>\n",
       "      <th>revenue</th>\n",
       "      <th>year</th>\n",
       "    </tr>\n",
       "  </thead>\n",
       "  <tbody>\n",
       "    <tr>\n",
       "      <th>9247</th>\n",
       "      <td>Revolutionary Girl Utena: The Movie</td>\n",
       "      <td>998000</td>\n",
       "      <td>0.0</td>\n",
       "      <td>1999.0</td>\n",
       "    </tr>\n",
       "    <tr>\n",
       "      <th>39203</th>\n",
       "      <td>Life Feels Good</td>\n",
       "      <td>996519</td>\n",
       "      <td>0.0</td>\n",
       "      <td>2013.0</td>\n",
       "    </tr>\n",
       "    <tr>\n",
       "      <th>11609</th>\n",
       "      <td>Kidulthood</td>\n",
       "      <td>994000</td>\n",
       "      <td>165000.0</td>\n",
       "      <td>2006.0</td>\n",
       "    </tr>\n",
       "    <tr>\n",
       "      <th>34215</th>\n",
       "      <td>The Peanuts Movie</td>\n",
       "      <td>99000000</td>\n",
       "      <td>246233113.0</td>\n",
       "      <td>2015.0</td>\n",
       "    </tr>\n",
       "    <tr>\n",
       "      <th>39688</th>\n",
       "      <td>Don't Breathe</td>\n",
       "      <td>9900000</td>\n",
       "      <td>157100845.0</td>\n",
       "      <td>2016.0</td>\n",
       "    </tr>\n",
       "    <tr>\n",
       "      <th>39842</th>\n",
       "      <td>Friend Request</td>\n",
       "      <td>9900000</td>\n",
       "      <td>2400000.0</td>\n",
       "      <td>2016.0</td>\n",
       "    </tr>\n",
       "    <tr>\n",
       "      <th>39793</th>\n",
       "      <td>Elle</td>\n",
       "      <td>9804690</td>\n",
       "      <td>2341534.0</td>\n",
       "      <td>2016.0</td>\n",
       "    </tr>\n",
       "    <tr>\n",
       "      <th>30179</th>\n",
       "      <td>BMX Bandits</td>\n",
       "      <td>980385</td>\n",
       "      <td>0.0</td>\n",
       "      <td>1983.0</td>\n",
       "    </tr>\n",
       "    <tr>\n",
       "      <th>14</th>\n",
       "      <td>Cutthroat Island</td>\n",
       "      <td>98000000</td>\n",
       "      <td>10017322.0</td>\n",
       "      <td>1995.0</td>\n",
       "    </tr>\n",
       "    <tr>\n",
       "      <th>4142</th>\n",
       "      <td>The Mummy Returns</td>\n",
       "      <td>98000000</td>\n",
       "      <td>433013274.0</td>\n",
       "      <td>2001.0</td>\n",
       "    </tr>\n",
       "  </tbody>\n",
       "</table>\n",
       "</div>"
      ],
      "text/plain": [
       "                                     title    budget      revenue    year\n",
       "9247   Revolutionary Girl Utena: The Movie    998000          0.0  1999.0\n",
       "39203                      Life Feels Good    996519          0.0  2013.0\n",
       "11609                           Kidulthood    994000     165000.0  2006.0\n",
       "34215                    The Peanuts Movie  99000000  246233113.0  2015.0\n",
       "39688                        Don't Breathe   9900000  157100845.0  2016.0\n",
       "39842                       Friend Request   9900000    2400000.0  2016.0\n",
       "39793                                 Elle   9804690    2341534.0  2016.0\n",
       "30179                          BMX Bandits    980385          0.0  1983.0\n",
       "14                        Cutthroat Island  98000000   10017322.0  1995.0\n",
       "4142                     The Mummy Returns  98000000  433013274.0  2001.0"
      ]
     },
     "execution_count": 49,
     "metadata": {},
     "output_type": "execute_result"
    }
   ],
   "source": [
    "dataset[dataset['budget'].notnull()][['title', 'budget', 'revenue', 'year']].sort_values('budget', ascending=False).head(10)"
   ]
  },
  {
   "cell_type": "markdown",
   "id": "30d5f7c2",
   "metadata": {},
   "source": [
    "### Movies based on Genres : -"
   ]
  },
  {
   "cell_type": "code",
   "execution_count": 50,
   "id": "61f2e381",
   "metadata": {},
   "outputs": [],
   "source": [
    "dataset['genres'] = dataset['genres'].fillna('[]').apply(ast.literal_eval).apply(lambda x: [i['name'] for i in x] if isinstance(x, list) else [])"
   ]
  },
  {
   "cell_type": "code",
   "execution_count": 51,
   "id": "6cd1c113",
   "metadata": {},
   "outputs": [],
   "source": [
    "s = dataset.apply(lambda x: pd.Series(x['genres']),axis=1).stack().reset_index(level=1, drop=True)\n",
    "s.name = 'genre'"
   ]
  },
  {
   "cell_type": "code",
   "execution_count": 52,
   "id": "8762a918",
   "metadata": {},
   "outputs": [],
   "source": [
    "gen_df = dataset.drop('genres', axis=1).join(s)"
   ]
  },
  {
   "cell_type": "code",
   "execution_count": 53,
   "id": "a1cd646e",
   "metadata": {},
   "outputs": [
    {
     "data": {
      "text/plain": [
       "32"
      ]
     },
     "execution_count": 53,
     "metadata": {},
     "output_type": "execute_result"
    }
   ],
   "source": [
    "gen_df['genre'].value_counts().shape[0]"
   ]
  },
  {
   "cell_type": "markdown",
   "id": "44745a88",
   "metadata": {},
   "source": [
    "#####  To find the most popular occuring genre among the 45466 movies in he dataset. "
   ]
  },
  {
   "cell_type": "code",
   "execution_count": 54,
   "id": "8561939b",
   "metadata": {},
   "outputs": [
    {
     "data": {
      "text/html": [
       "<div>\n",
       "<style scoped>\n",
       "    .dataframe tbody tr th:only-of-type {\n",
       "        vertical-align: middle;\n",
       "    }\n",
       "\n",
       "    .dataframe tbody tr th {\n",
       "        vertical-align: top;\n",
       "    }\n",
       "\n",
       "    .dataframe thead th {\n",
       "        text-align: right;\n",
       "    }\n",
       "</style>\n",
       "<table border=\"1\" class=\"dataframe\">\n",
       "  <thead>\n",
       "    <tr style=\"text-align: right;\">\n",
       "      <th></th>\n",
       "      <th>genre</th>\n",
       "      <th>movies</th>\n",
       "    </tr>\n",
       "  </thead>\n",
       "  <tbody>\n",
       "    <tr>\n",
       "      <th>0</th>\n",
       "      <td>Drama</td>\n",
       "      <td>20265</td>\n",
       "    </tr>\n",
       "    <tr>\n",
       "      <th>1</th>\n",
       "      <td>Comedy</td>\n",
       "      <td>13182</td>\n",
       "    </tr>\n",
       "    <tr>\n",
       "      <th>2</th>\n",
       "      <td>Thriller</td>\n",
       "      <td>7624</td>\n",
       "    </tr>\n",
       "    <tr>\n",
       "      <th>3</th>\n",
       "      <td>Romance</td>\n",
       "      <td>6735</td>\n",
       "    </tr>\n",
       "    <tr>\n",
       "      <th>4</th>\n",
       "      <td>Action</td>\n",
       "      <td>6596</td>\n",
       "    </tr>\n",
       "    <tr>\n",
       "      <th>5</th>\n",
       "      <td>Horror</td>\n",
       "      <td>4673</td>\n",
       "    </tr>\n",
       "    <tr>\n",
       "      <th>6</th>\n",
       "      <td>Crime</td>\n",
       "      <td>4307</td>\n",
       "    </tr>\n",
       "    <tr>\n",
       "      <th>7</th>\n",
       "      <td>Documentary</td>\n",
       "      <td>3932</td>\n",
       "    </tr>\n",
       "    <tr>\n",
       "      <th>8</th>\n",
       "      <td>Adventure</td>\n",
       "      <td>3496</td>\n",
       "    </tr>\n",
       "    <tr>\n",
       "      <th>9</th>\n",
       "      <td>Science Fiction</td>\n",
       "      <td>3049</td>\n",
       "    </tr>\n",
       "  </tbody>\n",
       "</table>\n",
       "</div>"
      ],
      "text/plain": [
       "             genre  movies\n",
       "0            Drama   20265\n",
       "1           Comedy   13182\n",
       "2         Thriller    7624\n",
       "3          Romance    6735\n",
       "4           Action    6596\n",
       "5           Horror    4673\n",
       "6            Crime    4307\n",
       "7      Documentary    3932\n",
       "8        Adventure    3496\n",
       "9  Science Fiction    3049"
      ]
     },
     "execution_count": 54,
     "metadata": {},
     "output_type": "execute_result"
    }
   ],
   "source": [
    "pop_gen = pd.DataFrame(gen_df['genre'].value_counts()).reset_index()\n",
    "pop_gen.columns = ['genre', 'movies']\n",
    "pop_gen.head(10)"
   ]
  },
  {
   "cell_type": "code",
   "execution_count": 55,
   "id": "62bc6a71",
   "metadata": {},
   "outputs": [
    {
     "data": {
      "image/png": "[encoded data removed]",
      "text/plain": [
       "<Figure size 1296x576 with 1 Axes>"
      ]
     },
     "metadata": {
      "needs_background": "light"
     },
     "output_type": "display_data"
    }
   ],
   "source": [
    "plt.figure(figsize=(18,8))\n",
    "sns.barplot(x='genre', y='movies', data=pop_gen.head(15))\n",
    "plt.title(\"Top Movies based on Genres\")\n",
    "plt.show()"
   ]
  },
  {
   "cell_type": "markdown",
   "id": "a56d1e15",
   "metadata": {},
   "source": [
    "                       Drama is the most commonly occurring genre with almost half the movies of about 20265 films identifying itself as a drama film. Comedy comes in at a distant second with 25% of the movies having adequate doses of humor. Other major genres represented in the top 10 are Comedy, Thriller,Romance, Action, Horror, Crime, Mystery,etc. and so on."
   ]
  },
  {
   "cell_type": "markdown",
   "id": "a9cd4375",
   "metadata": {},
   "source": [
    "###### Ploting the graph of float variables in the dataset like revenue, runtime, vote_average and vote_count of the movies."
   ]
  },
  {
   "cell_type": "code",
   "execution_count": 56,
   "id": "7e8fe3c5",
   "metadata": {},
   "outputs": [
    {
     "data": {
      "image/png": "[encoded data removed]",
      "text/plain": [
       "<Figure size 1080x1080 with 6 Axes>"
      ]
     },
     "metadata": {
      "needs_background": "light"
     },
     "output_type": "display_data"
    }
   ],
   "source": [
    "freqgraph=dataset.select_dtypes(include=['float'])\n",
    "freqgraph.hist(figsize=(15,15))\n",
    "plt.show()"
   ]
  },
  {
   "cell_type": "code",
   "execution_count": 57,
   "id": "d1bf4854",
   "metadata": {},
   "outputs": [
    {
     "data": {
      "text/plain": [
       "<AxesSubplot:>"
      ]
     },
     "execution_count": 57,
     "metadata": {},
     "output_type": "execute_result"
    },
    {
     "data": {
      "image/png": "[encoded data removed]",
      "text/plain": [
       "<Figure size 1440x576 with 2 Axes>"
      ]
     },
     "metadata": {
      "needs_background": "light"
     },
     "output_type": "display_data"
    }
   ],
   "source": [
    "corrmatrix=dataset.corr()\n",
    "plt.subplots(figsize=(20,8))\n",
    "sns.heatmap(corrmatrix,annot=True,vmin=-0.2,vmax=0.8,linewidth=0.2,cmap='Blues')"
   ]
  },
  {
   "cell_type": "markdown",
   "id": "ad944b54",
   "metadata": {},
   "source": [
    "The movies with highest revenue has the highest correlation with vote_count, so we can assume that movies with highest revenues have the highest votecounts. \n"
   ]
  },
  {
   "cell_type": "code",
   "execution_count": 58,
   "id": "70ffb8f3",
   "metadata": {},
   "outputs": [
    {
     "data": {
      "text/plain": [
       "adult                     object\n",
       "belongs_to_collection     object\n",
       "budget                    object\n",
       "genres                    object\n",
       "homepage                  object\n",
       "id                        object\n",
       "imdb_id                   object\n",
       "original_language         object\n",
       "original_title            object\n",
       "overview                  object\n",
       "popularity                object\n",
       "poster_path               object\n",
       "production_companies      object\n",
       "production_countries      object\n",
       "release_date              object\n",
       "revenue                  float64\n",
       "runtime                  float64\n",
       "spoken_languages           int64\n",
       "status                    object\n",
       "tagline                   object\n",
       "title                     object\n",
       "video                     object\n",
       "vote_average             float64\n",
       "vote_count               float64\n",
       "year                     float64\n",
       "day                      float64\n",
       "month                     object\n",
       "dtype: object"
      ]
     },
     "execution_count": 58,
     "metadata": {},
     "output_type": "execute_result"
    }
   ],
   "source": [
    "dataset.dtypes\n"
   ]
  },
  {
   "cell_type": "markdown",
   "id": "ee66a8ca",
   "metadata": {},
   "source": [
    "#  Data Preprocessing :-\n",
    "\n",
    "  \n",
    "  #### As already seen, the data set is not a clean dataset. Necessary preprocessing activities are to be done\n",
    "\n",
    "\n",
    "\n",
    "  #####       In Data Science, the performance of the model is depending on data preprocessing and data handling. Suppose if we build a model without Handling data, we get an accuracy of around 70%. By applying the Feature engineering on the same model there is a chance to increase the performance from 70% to more. So by using Feature Engineering we can improve the performance of the model."
   ]
  },
  {
   "cell_type": "markdown",
   "id": "545ff4e9",
   "metadata": {},
   "source": [
    "####  Necessary Preprocessing steps are to be done on the movies dataset for a better Recommendation System model to transform the unstructured data into structured data."
   ]
  },
  {
   "cell_type": "markdown",
   "id": "59dc585e",
   "metadata": {},
   "source": [
    "###  1. Checking the Null/Missing values in the dataset :-"
   ]
  },
  {
   "cell_type": "code",
   "execution_count": 59,
   "id": "c232b610",
   "metadata": {},
   "outputs": [
    {
     "data": {
      "text/plain": [
       "adult                        0\n",
       "belongs_to_collection    40972\n",
       "budget                       0\n",
       "genres                       0\n",
       "homepage                 37684\n",
       "id                           0\n",
       "imdb_id                     17\n",
       "original_language           11\n",
       "original_title               0\n",
       "overview                   954\n",
       "popularity                   5\n",
       "poster_path                386\n",
       "production_companies         0\n",
       "production_countries         0\n",
       "release_date                87\n",
       "revenue                      6\n",
       "runtime                    263\n",
       "spoken_languages             0\n",
       "status                      87\n",
       "tagline                  25054\n",
       "title                        6\n",
       "video                        6\n",
       "vote_average                 6\n",
       "vote_count                   6\n",
       "year                        90\n",
       "day                      45466\n",
       "month                       90\n",
       "dtype: int64"
      ]
     },
     "execution_count": 59,
     "metadata": {},
     "output_type": "execute_result"
    }
   ],
   "source": [
    "dataset.isna().sum()"
   ]
  },
  {
   "cell_type": "markdown",
   "id": "e4ed5baa",
   "metadata": {},
   "source": [
    "       There are so many missing values in the dataset. \n",
    "       So we need to fill the null values first by replacing them with some values of their own using fillna(), replace() or by  interpolate() like functions."
   ]
  },
  {
   "cell_type": "markdown",
   "id": "c71b49c1",
   "metadata": {},
   "source": [
    "###  1(1).  Filling / Handling the null values \n",
    "\n",
    "\n",
    "\n",
    "             The null values in the dataset are imputed using mean/median or mode based on the type of data that is missing:\n",
    "\n",
    "Numerical Data:   \n",
    "                If a numerical value is missing, then replace that NaN value with mean or median. It is preferred to impute using the median value as the average or the mean values are influenced by the outliers and skewness present in the data and are pulled in their respective direction.\n",
    "\n",
    "\n",
    "Categorical Data:\n",
    "                 When categorical data is missing, replace that with the value which is most occurring i.e. by mode. "
   ]
  },
  {
   "cell_type": "code",
   "execution_count": 60,
   "id": "f1b4cb9b",
   "metadata": {
    "scrolled": false
   },
   "outputs": [
    {
     "data": {
      "text/plain": [
       "belongs_to_collection    40972\n",
       "homepage                 37684\n",
       "imdb_id                     17\n",
       "original_language           11\n",
       "overview                   954\n",
       "popularity                   5\n",
       "poster_path                386\n",
       "production_companies         0\n",
       "production_countries         0\n",
       "release_date                87\n",
       "status                      87\n",
       "title                        6\n",
       "tagline                  25054\n",
       "video                        6\n",
       "month                       90\n",
       "dtype: int64"
      ]
     },
     "execution_count": 60,
     "metadata": {},
     "output_type": "execute_result"
    }
   ],
   "source": [
    "### Handling the Categorical features in the dataset.\n",
    "\n",
    "## Missing values of categorical values:\n",
    "\n",
    "dataset[['belongs_to_collection','homepage','imdb_id','original_language','overview','popularity','poster_path','production_companies','production_countries','release_date','status','title','tagline','video','month']].isna().sum()"
   ]
  },
  {
   "cell_type": "code",
   "execution_count": 61,
   "id": "498b4203",
   "metadata": {},
   "outputs": [],
   "source": [
    "## We can also fill null values of categorical values by,\n",
    "\n",
    "obj_cols = list(dataset.select_dtypes('object').columns)\n",
    "for o in obj_cols:\n",
    "    dataset[o].fillna(\"NULL\",inplace = True)\n",
    "    "
   ]
  },
  {
   "cell_type": "code",
   "execution_count": 62,
   "id": "59c4d353",
   "metadata": {},
   "outputs": [
    {
     "data": {
      "text/plain": [
       "imdb_id                 0\n",
       "original_language       0\n",
       "overview                0\n",
       "popularity              0\n",
       "production_companies    0\n",
       "production_countries    0\n",
       "release_date            0\n",
       "status                  0\n",
       "title                   0\n",
       "video                   0\n",
       "month                   0\n",
       "dtype: int64"
      ]
     },
     "execution_count": 62,
     "metadata": {},
     "output_type": "execute_result"
    }
   ],
   "source": [
    "## Filled missing values of categorical values :-\n",
    "\n",
    "dataset[['imdb_id','original_language','overview','popularity','production_companies','production_countries','release_date','status','title','video','month']].isna().sum()"
   ]
  },
  {
   "cell_type": "markdown",
   "id": "acdeb2f2",
   "metadata": {},
   "source": [
    "#### 1(2). Numeric Data :-     Imputing with Mean/Median/Mode/Backward fill/ Forward fill\n",
    "\n",
    "\n",
    "\n",
    "###### Null values are replaced with mean/median.mode in this method. This is the statistical method of handling Null values. This method yields good results when compared to removing null values.\n",
    "\n",
    "\n",
    "\n",
    "###### The mean of the numerical column data is used to replace null values when the data is normally distributed. Median is used if the data comprised of outliers. Mode is used when the data having more occurences of a particular value or more frequent value."
   ]
  },
  {
   "cell_type": "code",
   "execution_count": 63,
   "id": "661262c3",
   "metadata": {
    "scrolled": true
   },
   "outputs": [
    {
     "data": {
      "text/plain": [
       "runtime         263\n",
       "revenue           6\n",
       "vote_average      6\n",
       "vote_count        6\n",
       "year             90\n",
       "dtype: int64"
      ]
     },
     "execution_count": 63,
     "metadata": {},
     "output_type": "execute_result"
    }
   ],
   "source": [
    "# Handling missing values of numerical variables,\n",
    "\n",
    "dataset[['runtime','revenue','vote_average','vote_count','year']].isna().sum()"
   ]
  },
  {
   "cell_type": "code",
   "execution_count": 64,
   "id": "c6708dea",
   "metadata": {},
   "outputs": [
    {
     "data": {
      "text/plain": [
       "11209348.539265288"
      ]
     },
     "execution_count": 64,
     "metadata": {},
     "output_type": "execute_result"
    }
   ],
   "source": [
    "dataset['revenue'].mean()"
   ]
  },
  {
   "cell_type": "code",
   "execution_count": 65,
   "id": "b430571c",
   "metadata": {},
   "outputs": [
    {
     "data": {
      "text/plain": [
       "0.0"
      ]
     },
     "execution_count": 65,
     "metadata": {},
     "output_type": "execute_result"
    }
   ],
   "source": [
    "dataset['revenue'].median()"
   ]
  },
  {
   "cell_type": "code",
   "execution_count": 66,
   "id": "5eee02b6",
   "metadata": {},
   "outputs": [
    {
     "data": {
      "text/plain": [
       "0    90.0\n",
       "dtype: float64"
      ]
     },
     "execution_count": 66,
     "metadata": {},
     "output_type": "execute_result"
    }
   ],
   "source": [
    "dataset['runtime'].mode()"
   ]
  },
  {
   "cell_type": "code",
   "execution_count": 67,
   "id": "b2508f52",
   "metadata": {},
   "outputs": [
    {
     "data": {
      "text/plain": [
       "10.0"
      ]
     },
     "execution_count": 67,
     "metadata": {},
     "output_type": "execute_result"
    }
   ],
   "source": [
    "dataset['vote_count'].median()"
   ]
  },
  {
   "cell_type": "code",
   "execution_count": 68,
   "id": "2b8f369a",
   "metadata": {},
   "outputs": [
    {
     "data": {
      "text/plain": [
       "109.89733831940167"
      ]
     },
     "execution_count": 68,
     "metadata": {},
     "output_type": "execute_result"
    }
   ],
   "source": [
    "dataset['vote_count'].mean()"
   ]
  },
  {
   "cell_type": "code",
   "execution_count": 69,
   "id": "362afee1",
   "metadata": {},
   "outputs": [
    {
     "data": {
      "text/plain": [
       "0    1.0\n",
       "dtype: float64"
      ]
     },
     "execution_count": 69,
     "metadata": {},
     "output_type": "execute_result"
    }
   ],
   "source": [
    "dataset['vote_count'].mode()"
   ]
  },
  {
   "cell_type": "code",
   "execution_count": 70,
   "id": "667b833a",
   "metadata": {},
   "outputs": [
    {
     "data": {
      "text/plain": [
       "6.0"
      ]
     },
     "execution_count": 70,
     "metadata": {},
     "output_type": "execute_result"
    }
   ],
   "source": [
    "dataset['vote_average'].median()"
   ]
  },
  {
   "cell_type": "code",
   "execution_count": 71,
   "id": "87def6b4",
   "metadata": {},
   "outputs": [
    {
     "data": {
      "text/plain": [
       "0    0.0\n",
       "dtype: float64"
      ]
     },
     "execution_count": 71,
     "metadata": {},
     "output_type": "execute_result"
    }
   ],
   "source": [
    "dataset['vote_average'].mode()"
   ]
  },
  {
   "cell_type": "code",
   "execution_count": 72,
   "id": "8e2f4873",
   "metadata": {},
   "outputs": [
    {
     "data": {
      "text/plain": [
       "2001.0"
      ]
     },
     "execution_count": 72,
     "metadata": {},
     "output_type": "execute_result"
    }
   ],
   "source": [
    "dataset['year'].median()"
   ]
  },
  {
   "cell_type": "code",
   "execution_count": 73,
   "id": "26025bd3",
   "metadata": {},
   "outputs": [
    {
     "data": {
      "text/plain": [
       "1991.8811927009874"
      ]
     },
     "execution_count": 73,
     "metadata": {},
     "output_type": "execute_result"
    }
   ],
   "source": [
    "dataset['year'].mean()"
   ]
  },
  {
   "cell_type": "code",
   "execution_count": 74,
   "id": "5b92e8eb",
   "metadata": {},
   "outputs": [
    {
     "data": {
      "text/plain": [
       "0    2014.0\n",
       "dtype: float64"
      ]
     },
     "execution_count": 74,
     "metadata": {},
     "output_type": "execute_result"
    }
   ],
   "source": [
    "dataset['year'].mode()"
   ]
  },
  {
   "cell_type": "code",
   "execution_count": 75,
   "id": "6030df87",
   "metadata": {},
   "outputs": [],
   "source": [
    "dataset['runtime'] = dataset['runtime'].fillna(dataset['runtime'].mean())"
   ]
  },
  {
   "cell_type": "code",
   "execution_count": 76,
   "id": "e5edca66",
   "metadata": {},
   "outputs": [
    {
     "data": {
      "text/plain": [
       "0"
      ]
     },
     "execution_count": 76,
     "metadata": {},
     "output_type": "execute_result"
    }
   ],
   "source": [
    "dataset['runtime'].isnull().sum()"
   ]
  },
  {
   "cell_type": "code",
   "execution_count": 77,
   "id": "19f6faf0",
   "metadata": {},
   "outputs": [],
   "source": [
    "dataset['revenue'] = dataset['revenue'].fillna(dataset['revenue'].median())"
   ]
  },
  {
   "cell_type": "code",
   "execution_count": 78,
   "id": "af806756",
   "metadata": {},
   "outputs": [
    {
     "data": {
      "text/plain": [
       "0"
      ]
     },
     "execution_count": 78,
     "metadata": {},
     "output_type": "execute_result"
    }
   ],
   "source": [
    "dataset['revenue'].isnull().sum()"
   ]
  },
  {
   "cell_type": "code",
   "execution_count": 79,
   "id": "7e9b3771",
   "metadata": {},
   "outputs": [],
   "source": [
    "dataset['vote_count'] = dataset['vote_count'].fillna(dataset['vote_count'].mean())"
   ]
  },
  {
   "cell_type": "code",
   "execution_count": 80,
   "id": "371feb4d",
   "metadata": {},
   "outputs": [
    {
     "data": {
      "text/plain": [
       "0"
      ]
     },
     "execution_count": 80,
     "metadata": {},
     "output_type": "execute_result"
    }
   ],
   "source": [
    "dataset['vote_count'].isnull().sum()"
   ]
  },
  {
   "cell_type": "code",
   "execution_count": 81,
   "id": "e4a79e40",
   "metadata": {},
   "outputs": [],
   "source": [
    "dataset['vote_average'] = dataset['vote_average'].fillna(dataset['vote_average'].mean())"
   ]
  },
  {
   "cell_type": "code",
   "execution_count": 82,
   "id": "42514581",
   "metadata": {},
   "outputs": [
    {
     "data": {
      "text/plain": [
       "0"
      ]
     },
     "execution_count": 82,
     "metadata": {},
     "output_type": "execute_result"
    }
   ],
   "source": [
    "dataset['vote_average'].isna().sum()"
   ]
  },
  {
   "cell_type": "code",
   "execution_count": 83,
   "id": "8e14c348",
   "metadata": {},
   "outputs": [],
   "source": [
    "dataset['year'] = dataset['year'].fillna(dataset['year'].mean())"
   ]
  },
  {
   "cell_type": "code",
   "execution_count": 84,
   "id": "114177c3",
   "metadata": {},
   "outputs": [
    {
     "data": {
      "text/plain": [
       "0"
      ]
     },
     "execution_count": 84,
     "metadata": {},
     "output_type": "execute_result"
    }
   ],
   "source": [
    "dataset['year'].isna().sum()"
   ]
  },
  {
   "cell_type": "code",
   "execution_count": 85,
   "id": "aa7143d3",
   "metadata": {},
   "outputs": [
    {
     "data": {
      "text/plain": [
       "nan"
      ]
     },
     "execution_count": 85,
     "metadata": {},
     "output_type": "execute_result"
    }
   ],
   "source": [
    "dataset['day'].median()"
   ]
  },
  {
   "cell_type": "code",
   "execution_count": 86,
   "id": "56f72828",
   "metadata": {},
   "outputs": [
    {
     "data": {
      "text/plain": [
       "Series([], dtype: float64)"
      ]
     },
     "execution_count": 86,
     "metadata": {},
     "output_type": "execute_result"
    }
   ],
   "source": [
    "dataset['day'].mode()"
   ]
  },
  {
   "cell_type": "code",
   "execution_count": 87,
   "id": "a1a1d322",
   "metadata": {},
   "outputs": [
    {
     "data": {
      "text/plain": [
       "nan"
      ]
     },
     "execution_count": 87,
     "metadata": {},
     "output_type": "execute_result"
    }
   ],
   "source": [
    "dataset['day'].mean()"
   ]
  },
  {
   "cell_type": "code",
   "execution_count": 88,
   "id": "bebb44cf",
   "metadata": {},
   "outputs": [
    {
     "data": {
      "text/plain": [
       "adult                        0\n",
       "belongs_to_collection        0\n",
       "budget                       0\n",
       "genres                       0\n",
       "homepage                     0\n",
       "id                           0\n",
       "imdb_id                      0\n",
       "original_language            0\n",
       "original_title               0\n",
       "overview                     0\n",
       "popularity                   0\n",
       "poster_path                  0\n",
       "production_companies         0\n",
       "production_countries         0\n",
       "release_date                 0\n",
       "revenue                      0\n",
       "runtime                      0\n",
       "spoken_languages             0\n",
       "status                       0\n",
       "tagline                      0\n",
       "title                        0\n",
       "video                        0\n",
       "vote_average                 0\n",
       "vote_count                   0\n",
       "year                         0\n",
       "day                      45466\n",
       "month                        0\n",
       "dtype: int64"
      ]
     },
     "execution_count": 88,
     "metadata": {},
     "output_type": "execute_result"
    }
   ],
   "source": [
    "dataset.isna().sum()"
   ]
  },
  {
   "cell_type": "markdown",
   "id": "69e7ac7e",
   "metadata": {},
   "source": [
    "Here in the feature day, there are so many missing values. So we can delete or ignore the column day from the dataset which is least sigificant for the modeling."
   ]
  },
  {
   "cell_type": "markdown",
   "id": "751bac28",
   "metadata": {},
   "source": [
    "####   Alternative way:    Deleting the columns with missing data\n",
    " If there is certain columns with missing data, then you can delete the entire column.\n",
    "\n",
    "         axis=1 is used to drop the column with `NaN` values.\n",
    "         axis=0 is used to drop the row with `NaN` values.\n",
    "\n",
    "The problem with this method is that we may lose valuable information on that feature, as we have deleted it completely due to some null values.Hence, it should only be used if there are too many null values.\n",
    "\n",
    "We can set a limit to 70 percent, so that the columns having null values more than or equal to 70 percent are dropped from the dataframe. Viewing columns to see which column in the dataset has been dropped."
   ]
  },
  {
   "cell_type": "code",
   "execution_count": 89,
   "id": "625a0e3a",
   "metadata": {},
   "outputs": [
    {
     "data": {
      "text/plain": [
       "adult                     object\n",
       "belongs_to_collection     object\n",
       "budget                    object\n",
       "genres                    object\n",
       "homepage                  object\n",
       "id                        object\n",
       "imdb_id                   object\n",
       "original_language         object\n",
       "original_title            object\n",
       "overview                  object\n",
       "popularity                object\n",
       "poster_path               object\n",
       "production_companies      object\n",
       "production_countries      object\n",
       "release_date              object\n",
       "revenue                  float64\n",
       "runtime                  float64\n",
       "spoken_languages           int64\n",
       "status                    object\n",
       "tagline                   object\n",
       "title                     object\n",
       "video                     object\n",
       "vote_average             float64\n",
       "vote_count               float64\n",
       "year                     float64\n",
       "day                      float64\n",
       "month                     object\n",
       "dtype: object"
      ]
     },
     "execution_count": 89,
     "metadata": {},
     "output_type": "execute_result"
    }
   ],
   "source": [
    "dataset.dtypes"
   ]
  },
  {
   "cell_type": "markdown",
   "id": "82c1b144",
   "metadata": {},
   "source": [
    "## 2. Feature Engineering :-\n",
    "\n",
    "                \n",
    " ####         Feature Engineering is a process of extracting useful features from raw data using math, statistics and domain knowledge. It is a method of making data easier to analyze. Data in the real world can be extremely messy and chaotic.\n",
    "           \n",
    "        \n",
    "#####          It helps in data cleaning for a better model. It deals with inappropriate data, missing values, human interruption, general errors,etc.    \n",
    "\n",
    "######           Feature engineering efforts mainly have two goals. They are :-  \n",
    "\n",
    "                1. Preparing the proper input dataset, compatible with the machine learning algorithm requirements. \n",
    "                \n",
    "                2. Improving the performance of machine learning models.\n",
    "            \n",
    "               "
   ]
  },
  {
   "cell_type": "code",
   "execution_count": 90,
   "id": "8b541d10",
   "metadata": {},
   "outputs": [
    {
     "data": {
      "text/plain": [
       "False                                                                                                                             45454\n",
       "True                                                                                                                                  9\n",
       " - Written by Ørnås                                                                                                                   1\n",
       " Rune Balot goes to a casino connected to the October corporation to try to wrap up her case once and for all.                        1\n",
       " Avalanche Sharks tells the story of a bikini contest that turns into a horrifying affair when it is hit by a shark avalanche.        1\n",
       "Name: adult, dtype: int64"
      ]
     },
     "execution_count": 90,
     "metadata": {},
     "output_type": "execute_result"
    }
   ],
   "source": [
    "##Checking the distinct values in adult field\n",
    "dataset.adult.value_counts()"
   ]
  },
  {
   "cell_type": "markdown",
   "id": "2b2111ca",
   "metadata": {},
   "source": [
    "##### From the above, it is evident that the values other than True and False are not expected, so the other 3 lines can be dropped."
   ]
  },
  {
   "cell_type": "code",
   "execution_count": 91,
   "id": "48a9cc8c",
   "metadata": {},
   "outputs": [
    {
     "data": {
      "text/plain": [
       "Int64Index([35587], dtype='int64')"
      ]
     },
     "execution_count": 91,
     "metadata": {},
     "output_type": "execute_result"
    }
   ],
   "source": [
    "i = dataset[((dataset.adult == ' Avalanche Sharks tells the story of a bikini contest that turns into a horrifying affair when it is hit by a shark avalanche.') )].index\n",
    "i"
   ]
  },
  {
   "cell_type": "code",
   "execution_count": 92,
   "id": "3e45ee3d",
   "metadata": {},
   "outputs": [],
   "source": [
    "dataset=dataset.drop(i)"
   ]
  },
  {
   "cell_type": "code",
   "execution_count": 93,
   "id": "98d3fc08",
   "metadata": {},
   "outputs": [
    {
     "data": {
      "text/plain": [
       "False                                                                                                             45454\n",
       "True                                                                                                                  9\n",
       " - Written by Ørnås                                                                                                   1\n",
       " Rune Balot goes to a casino connected to the October corporation to try to wrap up her case once and for all.        1\n",
       "Name: adult, dtype: int64"
      ]
     },
     "execution_count": 93,
     "metadata": {},
     "output_type": "execute_result"
    }
   ],
   "source": [
    "dataset.adult.value_counts()"
   ]
  },
  {
   "cell_type": "code",
   "execution_count": 94,
   "id": "3722ccf4",
   "metadata": {},
   "outputs": [
    {
     "data": {
      "text/plain": [
       "(45465, 27)"
      ]
     },
     "execution_count": 94,
     "metadata": {},
     "output_type": "execute_result"
    }
   ],
   "source": [
    "dataset.shape"
   ]
  },
  {
   "cell_type": "code",
   "execution_count": 95,
   "id": "4c42d346",
   "metadata": {},
   "outputs": [
    {
     "data": {
      "text/plain": [
       "Int64Index([19730], dtype='int64')"
      ]
     },
     "execution_count": 95,
     "metadata": {},
     "output_type": "execute_result"
    }
   ],
   "source": [
    "i = dataset[((dataset.adult == ' - Written by Ørnås') )].index\n",
    "i"
   ]
  },
  {
   "cell_type": "code",
   "execution_count": 96,
   "id": "616f5dcd",
   "metadata": {},
   "outputs": [
    {
     "data": {
      "text/plain": [
       "False                                                                                                             45454\n",
       "True                                                                                                                  9\n",
       " Rune Balot goes to a casino connected to the October corporation to try to wrap up her case once and for all.        1\n",
       "Name: adult, dtype: int64"
      ]
     },
     "execution_count": 96,
     "metadata": {},
     "output_type": "execute_result"
    }
   ],
   "source": [
    "dataset=dataset.drop(i)\n",
    "dataset.adult.value_counts()"
   ]
  },
  {
   "cell_type": "code",
   "execution_count": 97,
   "id": "6c71b941",
   "metadata": {},
   "outputs": [
    {
     "data": {
      "text/plain": [
       "Int64Index([29503], dtype='int64')"
      ]
     },
     "execution_count": 97,
     "metadata": {},
     "output_type": "execute_result"
    }
   ],
   "source": [
    "i = dataset[((dataset.adult == ' Rune Balot goes to a casino connected to the October corporation to try to wrap up her case once and for all.') )].index\n",
    "i"
   ]
  },
  {
   "cell_type": "code",
   "execution_count": 98,
   "id": "23ff0ba0",
   "metadata": {},
   "outputs": [],
   "source": [
    "dataset=dataset.drop(i)"
   ]
  },
  {
   "cell_type": "code",
   "execution_count": 99,
   "id": "48caaa43",
   "metadata": {},
   "outputs": [
    {
     "data": {
      "text/plain": [
       "False    45454\n",
       "True         9\n",
       "Name: adult, dtype: int64"
      ]
     },
     "execution_count": 99,
     "metadata": {},
     "output_type": "execute_result"
    }
   ],
   "source": [
    "dataset.adult.value_counts()"
   ]
  },
  {
   "cell_type": "markdown",
   "id": "2ad3213e",
   "metadata": {},
   "source": [
    "#### 2(1). Feature Selection : -\n",
    "\n",
    "       It is the selection of required independent features. Selecting the important independent features which have more relation with the dependent features will help to build a good model.The performance of a network can be improved by reducing the number of inputs, even sometimes at the cost of losing some input information.It explicitly identify the input variables that do notcontribute significantly to the performance of networks, then by suggesting to remove them."
   ]
  },
  {
   "cell_type": "markdown",
   "id": "46d50a74",
   "metadata": {},
   "source": [
    "Creation of new derived features like year, month and day"
   ]
  },
  {
   "cell_type": "markdown",
   "id": "32f94d41",
   "metadata": {},
   "source": [
    "#### 2(2). Feature Reduction :-\n",
    "\n",
    "            Dropping the Columns with more null values and which is unnecessary for the model."
   ]
  },
  {
   "cell_type": "code",
   "execution_count": 100,
   "id": "bd1d7834",
   "metadata": {},
   "outputs": [],
   "source": [
    "dataset.drop('belongs_to_collection', inplace=True,axis=1)"
   ]
  },
  {
   "cell_type": "code",
   "execution_count": 101,
   "id": "77750292",
   "metadata": {},
   "outputs": [],
   "source": [
    "dataset.drop('homepage', inplace=True,axis=1)\n",
    "dataset.drop('tagline', inplace=True,axis=1)\n",
    "dataset.drop('poster_path', inplace=True,axis=1)\n",
    "dataset.drop('spoken_languages', inplace=True,axis=1)\n",
    "dataset.drop('day', inplace=True,axis=1)"
   ]
  },
  {
   "cell_type": "code",
   "execution_count": 102,
   "id": "00236c80",
   "metadata": {},
   "outputs": [
    {
     "data": {
      "text/html": [
       "<div>\n",
       "<style scoped>\n",
       "    .dataframe tbody tr th:only-of-type {\n",
       "        vertical-align: middle;\n",
       "    }\n",
       "\n",
       "    .dataframe tbody tr th {\n",
       "        vertical-align: top;\n",
       "    }\n",
       "\n",
       "    .dataframe thead th {\n",
       "        text-align: right;\n",
       "    }\n",
       "</style>\n",
       "<table border=\"1\" class=\"dataframe\">\n",
       "  <thead>\n",
       "    <tr style=\"text-align: right;\">\n",
       "      <th></th>\n",
       "      <th>revenue</th>\n",
       "      <th>runtime</th>\n",
       "      <th>vote_average</th>\n",
       "      <th>vote_count</th>\n",
       "      <th>year</th>\n",
       "    </tr>\n",
       "  </thead>\n",
       "  <tbody>\n",
       "    <tr>\n",
       "      <th>count</th>\n",
       "      <td>4.546300e+04</td>\n",
       "      <td>45463.000000</td>\n",
       "      <td>45463.000000</td>\n",
       "      <td>45463.000000</td>\n",
       "      <td>45463.000000</td>\n",
       "    </tr>\n",
       "    <tr>\n",
       "      <th>mean</th>\n",
       "      <td>1.120861e+07</td>\n",
       "      <td>94.128199</td>\n",
       "      <td>5.618207</td>\n",
       "      <td>109.897338</td>\n",
       "      <td>1991.881193</td>\n",
       "    </tr>\n",
       "    <tr>\n",
       "      <th>std</th>\n",
       "      <td>6.433019e+07</td>\n",
       "      <td>38.297825</td>\n",
       "      <td>1.924153</td>\n",
       "      <td>491.294163</td>\n",
       "      <td>24.032331</td>\n",
       "    </tr>\n",
       "    <tr>\n",
       "      <th>min</th>\n",
       "      <td>0.000000e+00</td>\n",
       "      <td>0.000000</td>\n",
       "      <td>0.000000</td>\n",
       "      <td>0.000000</td>\n",
       "      <td>1874.000000</td>\n",
       "    </tr>\n",
       "    <tr>\n",
       "      <th>25%</th>\n",
       "      <td>0.000000e+00</td>\n",
       "      <td>85.000000</td>\n",
       "      <td>5.000000</td>\n",
       "      <td>3.000000</td>\n",
       "      <td>1978.000000</td>\n",
       "    </tr>\n",
       "    <tr>\n",
       "      <th>50%</th>\n",
       "      <td>0.000000e+00</td>\n",
       "      <td>95.000000</td>\n",
       "      <td>6.000000</td>\n",
       "      <td>10.000000</td>\n",
       "      <td>2001.000000</td>\n",
       "    </tr>\n",
       "    <tr>\n",
       "      <th>75%</th>\n",
       "      <td>0.000000e+00</td>\n",
       "      <td>107.000000</td>\n",
       "      <td>6.800000</td>\n",
       "      <td>34.000000</td>\n",
       "      <td>2010.000000</td>\n",
       "    </tr>\n",
       "    <tr>\n",
       "      <th>max</th>\n",
       "      <td>2.787965e+09</td>\n",
       "      <td>1256.000000</td>\n",
       "      <td>10.000000</td>\n",
       "      <td>14075.000000</td>\n",
       "      <td>2020.000000</td>\n",
       "    </tr>\n",
       "  </tbody>\n",
       "</table>\n",
       "</div>"
      ],
      "text/plain": [
       "            revenue       runtime  vote_average    vote_count          year\n",
       "count  4.546300e+04  45463.000000  45463.000000  45463.000000  45463.000000\n",
       "mean   1.120861e+07     94.128199      5.618207    109.897338   1991.881193\n",
       "std    6.433019e+07     38.297825      1.924153    491.294163     24.032331\n",
       "min    0.000000e+00      0.000000      0.000000      0.000000   1874.000000\n",
       "25%    0.000000e+00     85.000000      5.000000      3.000000   1978.000000\n",
       "50%    0.000000e+00     95.000000      6.000000     10.000000   2001.000000\n",
       "75%    0.000000e+00    107.000000      6.800000     34.000000   2010.000000\n",
       "max    2.787965e+09   1256.000000     10.000000  14075.000000   2020.000000"
      ]
     },
     "execution_count": 102,
     "metadata": {},
     "output_type": "execute_result"
    }
   ],
   "source": [
    "dataset.describe()"
   ]
  },
  {
   "cell_type": "code",
   "execution_count": 103,
   "id": "4a1a15e0",
   "metadata": {},
   "outputs": [
    {
     "data": {
      "text/plain": [
       "adult                    object\n",
       "budget                   object\n",
       "genres                   object\n",
       "id                       object\n",
       "imdb_id                  object\n",
       "original_language        object\n",
       "original_title           object\n",
       "overview                 object\n",
       "popularity               object\n",
       "production_companies     object\n",
       "production_countries     object\n",
       "release_date             object\n",
       "revenue                 float64\n",
       "runtime                 float64\n",
       "status                   object\n",
       "title                    object\n",
       "video                    object\n",
       "vote_average            float64\n",
       "vote_count              float64\n",
       "year                    float64\n",
       "month                    object\n",
       "dtype: object"
      ]
     },
     "execution_count": 103,
     "metadata": {},
     "output_type": "execute_result"
    }
   ],
   "source": [
    "dataset.dtypes"
   ]
  },
  {
   "cell_type": "markdown",
   "id": "d7fc8342",
   "metadata": {},
   "source": [
    "### 2(3). Reindexing the columns in a readable format:"
   ]
  },
  {
   "cell_type": "markdown",
   "id": "84c0045f",
   "metadata": {},
   "source": [
    "As the values in original_title and title are the same, we can remove the title field as it has null values and rename the original_title column as title"
   ]
  },
  {
   "cell_type": "code",
   "execution_count": 104,
   "id": "ee901104",
   "metadata": {},
   "outputs": [
    {
     "data": {
      "text/plain": [
       "adult                   0\n",
       "budget                  0\n",
       "genres                  0\n",
       "id                      0\n",
       "imdb_id                 0\n",
       "original_language       0\n",
       "original_title          0\n",
       "overview                0\n",
       "popularity              0\n",
       "production_companies    0\n",
       "production_countries    0\n",
       "release_date            0\n",
       "revenue                 0\n",
       "runtime                 0\n",
       "status                  0\n",
       "video                   0\n",
       "vote_average            0\n",
       "vote_count              0\n",
       "year                    0\n",
       "month                   0\n",
       "dtype: int64"
      ]
     },
     "execution_count": 104,
     "metadata": {},
     "output_type": "execute_result"
    }
   ],
   "source": [
    "dataset.drop('title', inplace=True,axis=1)\n",
    "dataset.isna().sum()"
   ]
  },
  {
   "cell_type": "code",
   "execution_count": 105,
   "id": "7def0b52",
   "metadata": {},
   "outputs": [],
   "source": [
    "dataset.rename(columns = {'adult':'Adult', 'genres':'Genres','budget':'Budget','id':'Id',\n",
    "                              'original_language':'Language','original_title':'Movie_Name','popularity':'Popularity',\n",
    "                              'production_companies':'Production_Company','production_countries':'Production_Country','release_date':'Release_date',\n",
    "                              'revenue':'Revenue','runtime':'Runtime','status':'Status','video':'Video','vote_average': 'Average Vote','vote_count': 'Vote Count'\n",
    "    }, inplace=True)"
   ]
  },
  {
   "cell_type": "code",
   "execution_count": 106,
   "id": "0a8009a8",
   "metadata": {},
   "outputs": [
    {
     "data": {
      "text/plain": [
       "Adult                 0\n",
       "Budget                0\n",
       "Genres                0\n",
       "Id                    0\n",
       "imdb_id               0\n",
       "Language              0\n",
       "Movie_Name            0\n",
       "overview              0\n",
       "Popularity            0\n",
       "Production_Company    0\n",
       "Production_Country    0\n",
       "Release_date          0\n",
       "Revenue               0\n",
       "Runtime               0\n",
       "Status                0\n",
       "Video                 0\n",
       "Average Vote          0\n",
       "Vote Count            0\n",
       "year                  0\n",
       "month                 0\n",
       "dtype: int64"
      ]
     },
     "execution_count": 106,
     "metadata": {},
     "output_type": "execute_result"
    }
   ],
   "source": [
    "dataset.isna().sum()"
   ]
  },
  {
   "cell_type": "markdown",
   "id": "fe1b0ff5",
   "metadata": {},
   "source": [
    "### 3. OUTLIER DETECTION and HANDLING :-"
   ]
  },
  {
   "cell_type": "markdown",
   "id": "45829142",
   "metadata": {},
   "source": [
    "######     a. Checking the Outliers in the dataset:\n",
    "\n",
    "           Inorder to check the outliers, many visualization methods are used.\n",
    "           we are using boxplot and also histogram of the features using percentiles.\n",
    "           \n",
    "           \n",
    "######   1. Boxplot:\n",
    "Boxplot is a visualization tool for identifying outliers, it displays the distribution of statistical observations, its body is classified into four parts; the lowest and the highest(minimum and maximum), the 25 percentile(first quartile(Q1)), the median(50th percentile), the 75th percentile(third quartile(Q3)).Outliers appears above or below the minimum and maximum of the boxplot.          \n",
    "           "
   ]
  },
  {
   "cell_type": "code",
   "execution_count": 107,
   "id": "b1662bb9",
   "metadata": {},
   "outputs": [
    {
     "data": {
      "text/plain": [
       "(array([1, 2, 3, 4, 5]),\n",
       " [Text(1, 0, 'Revenue'),\n",
       "  Text(2, 0, 'Runtime'),\n",
       "  Text(3, 0, 'Average Vote'),\n",
       "  Text(4, 0, 'Vote Count'),\n",
       "  Text(5, 0, 'year')])"
      ]
     },
     "execution_count": 107,
     "metadata": {},
     "output_type": "execute_result"
    },
    {
     "data": {
      "image/png": "[encoded data removed]",
      "text/plain": [
       "<Figure size 720x360 with 1 Axes>"
      ]
     },
     "metadata": {
      "needs_background": "light"
     },
     "output_type": "display_data"
    }
   ],
   "source": [
    "### Box ploting the features which has outliers:\n",
    "\n",
    "plt.figure(figsize=(10,5))\n",
    "dataset.boxplot()\n",
    "plt.xticks(rotation=90)"
   ]
  },
  {
   "cell_type": "code",
   "execution_count": 108,
   "id": "4828a1d9",
   "metadata": {},
   "outputs": [
    {
     "data": {
      "text/plain": [
       "Text(0.5, 1.0, 'Box plot of Revenue')"
      ]
     },
     "execution_count": 108,
     "metadata": {},
     "output_type": "execute_result"
    },
    {
     "data": {
      "image/png": "[encoded data removed]",
      "text/plain": [
       "<Figure size 432x288 with 1 Axes>"
      ]
     },
     "metadata": {
      "needs_background": "light"
     },
     "output_type": "display_data"
    }
   ],
   "source": [
    "plt.boxplot(dataset['Revenue'])\n",
    "plt.title('Box plot of Revenue')"
   ]
  },
  {
   "cell_type": "code",
   "execution_count": 109,
   "id": "0dfe676d",
   "metadata": {},
   "outputs": [
    {
     "data": {
      "image/png": "[encoded data removed]",
      "text/plain": [
       "<Figure size 432x288 with 1 Axes>"
      ]
     },
     "metadata": {
      "needs_background": "light"
     },
     "output_type": "display_data"
    }
   ],
   "source": [
    "dataset['Revenue'].hist();"
   ]
  },
  {
   "cell_type": "markdown",
   "id": "6844a26b",
   "metadata": {},
   "source": [
    "######     2. Histogram\n",
    "To visualize the distribution of a numerical variable, a histogram shows the direction in which these variables are distributed, outliers will appear outside the overall distribution of the data. if the histogram is right-skewed or left-skewed, it indicates the presence of extreme values or outliers"
   ]
  },
  {
   "cell_type": "code",
   "execution_count": 110,
   "id": "42f2f8f6",
   "metadata": {},
   "outputs": [
    {
     "name": "stdout",
     "output_type": "stream",
     "text": [
      "skewness value of Revenue:  12.266384891750448\n"
     ]
    }
   ],
   "source": [
    "print('skewness value of Revenue: ',dataset['Revenue'].skew())"
   ]
  },
  {
   "cell_type": "code",
   "execution_count": 111,
   "id": "705ae0b9",
   "metadata": {},
   "outputs": [
    {
     "data": {
      "text/plain": [
       "Text(0.5, 1.0, 'Box plot of Runtime')"
      ]
     },
     "execution_count": 111,
     "metadata": {},
     "output_type": "execute_result"
    },
    {
     "data": {
      "image/png": "[encoded data removed]",
      "text/plain": [
       "<Figure size 432x288 with 1 Axes>"
      ]
     },
     "metadata": {
      "needs_background": "light"
     },
     "output_type": "display_data"
    }
   ],
   "source": [
    "plt.boxplot(dataset['Runtime'])\n",
    "plt.title('Box plot of Runtime')"
   ]
  },
  {
   "cell_type": "code",
   "execution_count": 112,
   "id": "a477e216",
   "metadata": {},
   "outputs": [
    {
     "data": {
      "image/png": "[encoded data removed]",
      "text/plain": [
       "<Figure size 432x288 with 1 Axes>"
      ]
     },
     "metadata": {
      "needs_background": "light"
     },
     "output_type": "display_data"
    }
   ],
   "source": [
    "dataset['Runtime'].hist();"
   ]
  },
  {
   "cell_type": "markdown",
   "id": "c63ec6a7",
   "metadata": {},
   "source": [
    "            From the histogram above, the histogram appears to be distributed to the left, this also indicates the presence of  outliers.\n",
    "            The skewness value should be within the range of -1 to 1 for a normal distribution, any major changes from this value may indicate the presence of outliers."
   ]
  },
  {
   "cell_type": "code",
   "execution_count": 113,
   "id": "6b1db3d0",
   "metadata": {},
   "outputs": [
    {
     "name": "stdout",
     "output_type": "stream",
     "text": [
      "skewness value of Runtime:  4.478782386381279\n"
     ]
    }
   ],
   "source": [
    "print('skewness value of Runtime: ',dataset['Runtime'].skew())"
   ]
  },
  {
   "cell_type": "markdown",
   "id": "58dc4d9d",
   "metadata": {},
   "source": [
    "            From the above, the 'revenue' skewness value is of 12.27 and the ‘runtime’ skewness value of 4.48 shows the variables has been rightly skewed, indicating the presence of outliers in them.\n",
    "\n",
    "\n",
    "\n",
    "          Here the data is not Normally distributed and is following the Right Skewed distribution that means we can use the Interquartile Range to measure the boundaries for outliers"
   ]
  },
  {
   "cell_type": "markdown",
   "id": "ab9ed2ee",
   "metadata": {},
   "source": [
    "#####  b. Handling Outliers :-"
   ]
  },
  {
   "cell_type": "markdown",
   "id": "5e56d96a",
   "metadata": {},
   "source": [
    "1. Flooring and Capping.\n",
    "2. Trimming.\n",
    "3. Replacing outliers with the mean, median, mode, or other values.\n",
    "\n",
    "\n",
    "1. Flooring and Capping.\n",
    "In this quantile-based technique, we will do the flooring(e.g 25th percentile) for the lower values and capping(e.g for the 75th percentile) for the higher values. These percentile values will be used for the quantile-based flooring and capping.\n",
    "The code below drops the outliers by removing all the values that are below the 25th percentile and above the 75th percentile of the variable."
   ]
  },
  {
   "attachments": {
    "image.png": {
     "image/png": "[encoded data removed]"
    }
   },
   "cell_type": "markdown",
   "id": "9a9ed566",
   "metadata": {},
   "source": [
    " By using Inter Quartile Range (IQR), we detect outliers. IQR tells us the variation in the data set. Any value, which is beyond the range of -1.5 x IQR to 1.5 x IQR treated as outliers. Q1 represents the 1st quartile/25th percentile of the data.\n",
    " \n",
    " \n",
    " \n",
    " \n",
    "  ![image.png](attachment:image.png)"
   ]
  },
  {
   "cell_type": "code",
   "execution_count": 114,
   "id": "482cf573",
   "metadata": {},
   "outputs": [],
   "source": [
    "Q1 = dataset['Revenue'].quantile(0.25)\n",
    "Q3 = dataset['Revenue'].quantile(0.75)\n",
    "IQR = Q3 - Q1\n",
    "whisker_width = 1.5\n",
    "lower_whisker = Q1 -(whisker_width*IQR)\n",
    "upper_whisker = Q3 + (whisker_width*IQR)\n",
    "dataset['Revenue']=np.where(dataset['Revenue']>upper_whisker,upper_whisker,np.where(dataset['Revenue']<lower_whisker,lower_whisker,dataset['Revenue']))"
   ]
  },
  {
   "cell_type": "code",
   "execution_count": 115,
   "id": "eea35144",
   "metadata": {},
   "outputs": [
    {
     "data": {
      "image/png": "[encoded data removed]",
      "text/plain": [
       "<Figure size 432x288 with 1 Axes>"
      ]
     },
     "metadata": {
      "needs_background": "light"
     },
     "output_type": "display_data"
    }
   ],
   "source": [
    "## Checking the presence of outliers in revenue :-\n",
    "\n",
    "plt.boxplot(dataset['Revenue'])\n",
    "plt.title(' Box plot of revenue');"
   ]
  },
  {
   "cell_type": "code",
   "execution_count": 116,
   "id": "aad39acd",
   "metadata": {},
   "outputs": [
    {
     "data": {
      "image/png": "[encoded data removed]",
      "text/plain": [
       "<Figure size 432x288 with 1 Axes>"
      ]
     },
     "metadata": {
      "needs_background": "light"
     },
     "output_type": "display_data"
    }
   ],
   "source": [
    "dataset['Revenue'].hist();"
   ]
  },
  {
   "cell_type": "markdown",
   "id": "0f5f3ece",
   "metadata": {},
   "source": [
    "2. Trimming\n",
    "\n",
    "\n",
    "In this method, we remove and completely drop all the outliers, the line of code below creates an index for all data points and drop the index values."
   ]
  },
  {
   "cell_type": "code",
   "execution_count": 117,
   "id": "ca08ab67",
   "metadata": {},
   "outputs": [],
   "source": [
    "Q1 = dataset['Runtime'].quantile(0.10)\n",
    "Q3 = dataset['Runtime'].quantile(0.90)\n",
    "IQR = Q3 - Q1\n",
    "whisker_width = 1.5\n",
    "lower_whisker = Q1 - (whisker_width*IQR)\n",
    "upper_whisker = Q3 + (whisker_width*IQR)\n",
    "index=dataset['Runtime'][(dataset['Runtime']>upper_whisker)|(dataset['Runtime']<lower_whisker)].index\n",
    "dataset.drop(index,inplace=True)"
   ]
  },
  {
   "cell_type": "code",
   "execution_count": 118,
   "id": "8b30dd18",
   "metadata": {},
   "outputs": [
    {
     "data": {
      "image/png": "[encoded data removed]",
      "text/plain": [
       "<Figure size 432x288 with 1 Axes>"
      ]
     },
     "metadata": {
      "needs_background": "light"
     },
     "output_type": "display_data"
    }
   ],
   "source": [
    "plt.boxplot(dataset['Runtime'])\n",
    "plt.title('Box plot of runtime');"
   ]
  },
  {
   "cell_type": "markdown",
   "id": "afe8e08b",
   "metadata": {},
   "source": [
    "###### 3. Replacing Outliers With The Mean, Median, Mode, or other Values\n",
    "\n",
    "\n",
    "In this technique, we replace the extreme values with the mode, median or mean value.   Here mode is used as it is less effected by extreme values"
   ]
  },
  {
   "cell_type": "code",
   "execution_count": 119,
   "id": "deb317a0",
   "metadata": {},
   "outputs": [],
   "source": [
    "Q1 = dataset['Revenue'].quantile(0.25)\n",
    "Q3 = dataset['Revenue'].quantile(0.75)\n",
    "IQR = Q3 - Q1\n",
    "whisker_width = 1.5\n",
    "lower_whisker = Q1 -(whisker_width*IQR)\n",
    "upper_whisker = Q3 + (whisker_width*IQR)\n",
    "x=dataset['Revenue'].median()\n",
    "dataset['Revenue']=np.where(dataset['Revenue']>upper_whisker,x,np.where(dataset['Revenue']<lower_whisker,x,dataset['Revenue']))"
   ]
  },
  {
   "cell_type": "code",
   "execution_count": 120,
   "id": "2b07fffa",
   "metadata": {},
   "outputs": [
    {
     "data": {
      "image/png": "[encoded data removed]",
      "text/plain": [
       "<Figure size 432x288 with 1 Axes>"
      ]
     },
     "metadata": {
      "needs_background": "light"
     },
     "output_type": "display_data"
    }
   ],
   "source": [
    "plt.boxplot(dataset['Revenue'])\n",
    "plt.title('Box plot of Revenue');"
   ]
  },
  {
   "cell_type": "code",
   "execution_count": 121,
   "id": "9705b05d",
   "metadata": {},
   "outputs": [],
   "source": [
    "Q1 = dataset['Runtime'].quantile(0.25)\n",
    "Q3 = dataset['Runtime'].quantile(0.75)\n",
    "IQR = Q3 - Q1\n",
    "whisker_width = 1.5\n",
    "lower_whisker = Q1 -(whisker_width*IQR)\n",
    "upper_whisker = Q3 + (whisker_width*IQR)\n",
    "x=dataset['Runtime'].mode()\n",
    "dataset['Runtime']=np.where(dataset['Runtime']>upper_whisker,x,np.where(dataset['Runtime']<lower_whisker,x,dataset['Runtime']))"
   ]
  },
  {
   "cell_type": "code",
   "execution_count": 122,
   "id": "e24a7a2b",
   "metadata": {},
   "outputs": [
    {
     "data": {
      "image/png": "[encoded data removed]",
      "text/plain": [
       "<Figure size 432x288 with 1 Axes>"
      ]
     },
     "metadata": {
      "needs_background": "light"
     },
     "output_type": "display_data"
    }
   ],
   "source": [
    "plt.boxplot(dataset['Runtime'])\n",
    "plt.title('Box plot of Runtime');"
   ]
  },
  {
   "cell_type": "code",
   "execution_count": 123,
   "id": "84dff00c",
   "metadata": {},
   "outputs": [
    {
     "data": {
      "image/png": "[encoded data removed]",
      "text/plain": [
       "<Figure size 432x288 with 1 Axes>"
      ]
     },
     "metadata": {
      "needs_background": "light"
     },
     "output_type": "display_data"
    }
   ],
   "source": [
    "dataset['Runtime'].hist();"
   ]
  },
  {
   "cell_type": "code",
   "execution_count": 124,
   "id": "8487c3b4",
   "metadata": {},
   "outputs": [
    {
     "data": {
      "image/png": "[encoded data removed]",
      "text/plain": [
       "<Figure size 432x288 with 1 Axes>"
      ]
     },
     "metadata": {
      "needs_background": "light"
     },
     "output_type": "display_data"
    }
   ],
   "source": [
    "plt.boxplot(dataset['Vote Count'])\n",
    "plt.title('Box plot of voteCount');"
   ]
  },
  {
   "cell_type": "code",
   "execution_count": 125,
   "id": "7befd518",
   "metadata": {},
   "outputs": [],
   "source": [
    "Q1 = dataset['Vote Count'].quantile(0.25)\n",
    "Q3 = dataset['Vote Count'].quantile(0.75)\n",
    "IQR = Q3 - Q1\n",
    "whisker_width = 1.5\n",
    "lower_whisker = Q1 -(whisker_width*IQR)\n",
    "upper_whisker = Q3 + (whisker_width*IQR)\n",
    "x=dataset['Vote Count'].mode()\n",
    "dataset['Vote Count']=np.where(dataset['Vote Count']>upper_whisker,x,np.where(dataset['Vote Count']<lower_whisker,x,dataset['Vote Count']))"
   ]
  },
  {
   "cell_type": "code",
   "execution_count": 126,
   "id": "ccbc0819",
   "metadata": {},
   "outputs": [
    {
     "data": {
      "image/png": "[encoded data removed]",
      "text/plain": [
       "<Figure size 432x288 with 1 Axes>"
      ]
     },
     "metadata": {
      "needs_background": "light"
     },
     "output_type": "display_data"
    }
   ],
   "source": [
    "plt.boxplot(dataset['Vote Count'])\n",
    "plt.title('Box plot of Vote Count');"
   ]
  },
  {
   "cell_type": "code",
   "execution_count": 127,
   "id": "12825a59",
   "metadata": {},
   "outputs": [
    {
     "data": {
      "image/png": "[encoded data removed]",
      "text/plain": [
       "<Figure size 432x288 with 1 Axes>"
      ]
     },
     "metadata": {
      "needs_background": "light"
     },
     "output_type": "display_data"
    }
   ],
   "source": [
    "dataset['Vote Count'].hist();"
   ]
  },
  {
   "cell_type": "code",
   "execution_count": 128,
   "id": "402c1e2b",
   "metadata": {},
   "outputs": [
    {
     "data": {
      "image/png": "[encoded data removed]",
      "text/plain": [
       "<Figure size 432x288 with 1 Axes>"
      ]
     },
     "metadata": {
      "needs_background": "light"
     },
     "output_type": "display_data"
    }
   ],
   "source": [
    "plt.boxplot(dataset['Average Vote'])\n",
    "plt.title('Box plot of Average Vote');"
   ]
  },
  {
   "cell_type": "code",
   "execution_count": 129,
   "id": "bdf90e70",
   "metadata": {},
   "outputs": [],
   "source": [
    "Q1 = dataset['Average Vote'].quantile(0.25)\n",
    "Q3 = dataset['Average Vote'].quantile(0.75)\n",
    "IQR = Q3 - Q1\n",
    "whisker_width = 1.5\n",
    "lower_whisker = Q1 -(whisker_width*IQR)\n",
    "upper_whisker = Q3 + (whisker_width*IQR)\n",
    "x=dataset['Average Vote'].mode()\n",
    "dataset['Average Vote']=np.where(dataset['Average Vote']>upper_whisker,x,np.where(dataset['Average Vote']<lower_whisker,x,dataset['Average Vote']))"
   ]
  },
  {
   "cell_type": "code",
   "execution_count": 130,
   "id": "8553a987",
   "metadata": {},
   "outputs": [
    {
     "data": {
      "image/png": "[encoded data removed]",
      "text/plain": [
       "<Figure size 432x288 with 1 Axes>"
      ]
     },
     "metadata": {
      "needs_background": "light"
     },
     "output_type": "display_data"
    }
   ],
   "source": [
    "plt.boxplot(dataset['Average Vote'])\n",
    "plt.title('Box plot of Average Votes');"
   ]
  },
  {
   "cell_type": "code",
   "execution_count": 131,
   "id": "a6270112",
   "metadata": {},
   "outputs": [
    {
     "data": {
      "image/png": "[encoded data removed]",
      "text/plain": [
       "<Figure size 432x288 with 1 Axes>"
      ]
     },
     "metadata": {
      "needs_background": "light"
     },
     "output_type": "display_data"
    }
   ],
   "source": [
    "dataset['Average Vote'].hist();"
   ]
  },
  {
   "cell_type": "code",
   "execution_count": 132,
   "id": "67e92280",
   "metadata": {},
   "outputs": [
    {
     "data": {
      "image/png": "[encoded data removed]",
      "text/plain": [
       "<Figure size 432x288 with 1 Axes>"
      ]
     },
     "metadata": {
      "needs_background": "light"
     },
     "output_type": "display_data"
    }
   ],
   "source": [
    "plt.boxplot(dataset['year'])\n",
    "plt.title('Box plot of Year');"
   ]
  },
  {
   "cell_type": "code",
   "execution_count": 133,
   "id": "3302ae1c",
   "metadata": {},
   "outputs": [],
   "source": [
    "Q1 = dataset['year'].quantile(0.25)\n",
    "Q3 = dataset['year'].quantile(0.75)\n",
    "IQR = Q3 - Q1\n",
    "whisker_width = 1.5\n",
    "lower_whisker = Q1 -(whisker_width*IQR)\n",
    "upper_whisker = Q3 + (whisker_width*IQR)\n",
    "x=dataset['year'].mode()\n",
    "dataset['year']=np.where(dataset['year']>upper_whisker,x,np.where(dataset['year']<lower_whisker,x,dataset['year']))"
   ]
  },
  {
   "cell_type": "code",
   "execution_count": 134,
   "id": "e1699ca8",
   "metadata": {},
   "outputs": [
    {
     "data": {
      "image/png": "[encoded data removed]",
      "text/plain": [
       "<Figure size 432x288 with 1 Axes>"
      ]
     },
     "metadata": {
      "needs_background": "light"
     },
     "output_type": "display_data"
    }
   ],
   "source": [
    "plt.boxplot(dataset['year'])\n",
    "plt.title('Box plot of Year');"
   ]
  },
  {
   "cell_type": "code",
   "execution_count": 135,
   "id": "b4862842",
   "metadata": {},
   "outputs": [
    {
     "data": {
      "image/png": "[encoded data removed]",
      "text/plain": [
       "<Figure size 432x288 with 1 Axes>"
      ]
     },
     "metadata": {
      "needs_background": "light"
     },
     "output_type": "display_data"
    }
   ],
   "source": [
    "dataset['year'].hist();"
   ]
  },
  {
   "cell_type": "markdown",
   "id": "01bc83c0",
   "metadata": {},
   "source": [
    "######   When we compare the two boxplots with the one before and after the treatment of the outliers, we still observed that there are a few extreme values that may be newly generated."
   ]
  },
  {
   "cell_type": "code",
   "execution_count": null,
   "id": "1638749e",
   "metadata": {},
   "outputs": [],
   "source": []
  },
  {
   "cell_type": "markdown",
   "id": "24051b6b",
   "metadata": {},
   "source": [
    "##  4. Encoding"
   ]
  },
  {
   "cell_type": "markdown",
   "id": "d462ff34",
   "metadata": {},
   "source": [
    "Most of the machine learning algorithms works on numerical data only and will not be able to process Categorical data. So we need to transform categorical data into numerical form without losing the sense of information. "
   ]
  },
  {
   "cell_type": "markdown",
   "id": "417ade9f",
   "metadata": {},
   "source": [
    "#### There are many ways to convert categorical values into numerical values. Each approach has its own trade-offs and impact on the feature set. Hereby, we would focus on 2 main methods: One-Hot-Encoding and Label-Encoder. Both of these encoders are part of SciKit-learn library (one of the most widely used Python library) and are used to convert text or categorical data into numerical data which the model expects and perform better with."
   ]
  },
  {
   "cell_type": "markdown",
   "id": "fa3f01f9",
   "metadata": {},
   "source": [
    "### 4(1). Label Encoding\n",
    "\n",
    "#### Label Encoding refers to converting the labels into a numeric form so as to convert them into the machine-readable form. Machine learning algorithms can then decide in a better way how those labels must be operated. Machine learning algorithms involve mathematical techniques to perform operations on the data and hence most of the algorithms operate on numerical data only.\n",
    "\n",
    "##### The dataset contains majority of object datatypes.\n",
    "\n",
    "##### Label Encoder and OneHotEncoder are used to convert object datatype to integer datatype."
   ]
  },
  {
   "cell_type": "code",
   "execution_count": 136,
   "id": "fa5defe2",
   "metadata": {},
   "outputs": [
    {
     "data": {
      "text/html": [
       "<div>\n",
       "<style scoped>\n",
       "    .dataframe tbody tr th:only-of-type {\n",
       "        vertical-align: middle;\n",
       "    }\n",
       "\n",
       "    .dataframe tbody tr th {\n",
       "        vertical-align: top;\n",
       "    }\n",
       "\n",
       "    .dataframe thead th {\n",
       "        text-align: right;\n",
       "    }\n",
       "</style>\n",
       "<table border=\"1\" class=\"dataframe\">\n",
       "  <thead>\n",
       "    <tr style=\"text-align: right;\">\n",
       "      <th></th>\n",
       "      <th>Adult</th>\n",
       "      <th>Budget</th>\n",
       "      <th>Genres</th>\n",
       "      <th>Id</th>\n",
       "      <th>imdb_id</th>\n",
       "      <th>Language</th>\n",
       "      <th>Movie_Name</th>\n",
       "      <th>overview</th>\n",
       "      <th>Popularity</th>\n",
       "      <th>Production_Company</th>\n",
       "      <th>Production_Country</th>\n",
       "      <th>Release_date</th>\n",
       "      <th>Revenue</th>\n",
       "      <th>Runtime</th>\n",
       "      <th>Status</th>\n",
       "      <th>Video</th>\n",
       "      <th>Average Vote</th>\n",
       "      <th>Vote Count</th>\n",
       "      <th>year</th>\n",
       "      <th>month</th>\n",
       "    </tr>\n",
       "  </thead>\n",
       "  <tbody>\n",
       "    <tr>\n",
       "      <th>0</th>\n",
       "      <td>False</td>\n",
       "      <td>30000000</td>\n",
       "      <td>[Animation, Comedy, Family]</td>\n",
       "      <td>862</td>\n",
       "      <td>tt0114709</td>\n",
       "      <td>en</td>\n",
       "      <td>Toy Story</td>\n",
       "      <td>Led by Woody, Andy's toys live happily in his ...</td>\n",
       "      <td>21.946943</td>\n",
       "      <td>[Pixar Animation Studios]</td>\n",
       "      <td>[United States of America]</td>\n",
       "      <td>1995-10-30</td>\n",
       "      <td>0.0</td>\n",
       "      <td>81.0</td>\n",
       "      <td>Released</td>\n",
       "      <td>False</td>\n",
       "      <td>7.7</td>\n",
       "      <td>1.0</td>\n",
       "      <td>1995.0</td>\n",
       "      <td>Oct</td>\n",
       "    </tr>\n",
       "    <tr>\n",
       "      <th>1</th>\n",
       "      <td>False</td>\n",
       "      <td>65000000</td>\n",
       "      <td>[Adventure, Fantasy, Family]</td>\n",
       "      <td>8844</td>\n",
       "      <td>tt0113497</td>\n",
       "      <td>en</td>\n",
       "      <td>Jumanji</td>\n",
       "      <td>When siblings Judy and Peter discover an encha...</td>\n",
       "      <td>17.015539</td>\n",
       "      <td>[TriStar Pictures, Teitler Film, Interscope Co...</td>\n",
       "      <td>[United States of America]</td>\n",
       "      <td>1995-12-15</td>\n",
       "      <td>0.0</td>\n",
       "      <td>104.0</td>\n",
       "      <td>Released</td>\n",
       "      <td>False</td>\n",
       "      <td>6.9</td>\n",
       "      <td>1.0</td>\n",
       "      <td>1995.0</td>\n",
       "      <td>Dec</td>\n",
       "    </tr>\n",
       "    <tr>\n",
       "      <th>2</th>\n",
       "      <td>False</td>\n",
       "      <td>0</td>\n",
       "      <td>[Romance, Comedy]</td>\n",
       "      <td>15602</td>\n",
       "      <td>tt0113228</td>\n",
       "      <td>en</td>\n",
       "      <td>Grumpier Old Men</td>\n",
       "      <td>A family wedding reignites the ancient feud be...</td>\n",
       "      <td>11.7129</td>\n",
       "      <td>[Warner Bros., Lancaster Gate]</td>\n",
       "      <td>[United States of America]</td>\n",
       "      <td>1995-12-22</td>\n",
       "      <td>0.0</td>\n",
       "      <td>101.0</td>\n",
       "      <td>Released</td>\n",
       "      <td>False</td>\n",
       "      <td>6.5</td>\n",
       "      <td>1.0</td>\n",
       "      <td>1995.0</td>\n",
       "      <td>Dec</td>\n",
       "    </tr>\n",
       "    <tr>\n",
       "      <th>3</th>\n",
       "      <td>False</td>\n",
       "      <td>16000000</td>\n",
       "      <td>[Comedy, Drama, Romance]</td>\n",
       "      <td>31357</td>\n",
       "      <td>tt0114885</td>\n",
       "      <td>en</td>\n",
       "      <td>Waiting to Exhale</td>\n",
       "      <td>Cheated on, mistreated and stepped on, the wom...</td>\n",
       "      <td>3.859495</td>\n",
       "      <td>[Twentieth Century Fox Film Corporation]</td>\n",
       "      <td>[United States of America]</td>\n",
       "      <td>1995-12-22</td>\n",
       "      <td>0.0</td>\n",
       "      <td>127.0</td>\n",
       "      <td>Released</td>\n",
       "      <td>False</td>\n",
       "      <td>6.1</td>\n",
       "      <td>34.0</td>\n",
       "      <td>1995.0</td>\n",
       "      <td>Dec</td>\n",
       "    </tr>\n",
       "    <tr>\n",
       "      <th>4</th>\n",
       "      <td>False</td>\n",
       "      <td>0</td>\n",
       "      <td>[Comedy]</td>\n",
       "      <td>11862</td>\n",
       "      <td>tt0113041</td>\n",
       "      <td>en</td>\n",
       "      <td>Father of the Bride Part II</td>\n",
       "      <td>Just when George Banks has recovered from his ...</td>\n",
       "      <td>8.387519</td>\n",
       "      <td>[Sandollar Productions, Touchstone Pictures]</td>\n",
       "      <td>[United States of America]</td>\n",
       "      <td>1995-02-10</td>\n",
       "      <td>0.0</td>\n",
       "      <td>106.0</td>\n",
       "      <td>Released</td>\n",
       "      <td>False</td>\n",
       "      <td>5.7</td>\n",
       "      <td>1.0</td>\n",
       "      <td>1995.0</td>\n",
       "      <td>Feb</td>\n",
       "    </tr>\n",
       "  </tbody>\n",
       "</table>\n",
       "</div>"
      ],
      "text/plain": [
       "   Adult    Budget                        Genres     Id    imdb_id Language  \\\n",
       "0  False  30000000   [Animation, Comedy, Family]    862  tt0114709       en   \n",
       "1  False  65000000  [Adventure, Fantasy, Family]   8844  tt0113497       en   \n",
       "2  False         0             [Romance, Comedy]  15602  tt0113228       en   \n",
       "3  False  16000000      [Comedy, Drama, Romance]  31357  tt0114885       en   \n",
       "4  False         0                      [Comedy]  11862  tt0113041       en   \n",
       "\n",
       "                    Movie_Name  \\\n",
       "0                    Toy Story   \n",
       "1                      Jumanji   \n",
       "2             Grumpier Old Men   \n",
       "3            Waiting to Exhale   \n",
       "4  Father of the Bride Part II   \n",
       "\n",
       "                                            overview Popularity  \\\n",
       "0  Led by Woody, Andy's toys live happily in his ...  21.946943   \n",
       "1  When siblings Judy and Peter discover an encha...  17.015539   \n",
       "2  A family wedding reignites the ancient feud be...    11.7129   \n",
       "3  Cheated on, mistreated and stepped on, the wom...   3.859495   \n",
       "4  Just when George Banks has recovered from his ...   8.387519   \n",
       "\n",
       "                                  Production_Company  \\\n",
       "0                          [Pixar Animation Studios]   \n",
       "1  [TriStar Pictures, Teitler Film, Interscope Co...   \n",
       "2                     [Warner Bros., Lancaster Gate]   \n",
       "3           [Twentieth Century Fox Film Corporation]   \n",
       "4       [Sandollar Productions, Touchstone Pictures]   \n",
       "\n",
       "           Production_Country Release_date  Revenue  Runtime    Status  Video  \\\n",
       "0  [United States of America]   1995-10-30      0.0     81.0  Released  False   \n",
       "1  [United States of America]   1995-12-15      0.0    104.0  Released  False   \n",
       "2  [United States of America]   1995-12-22      0.0    101.0  Released  False   \n",
       "3  [United States of America]   1995-12-22      0.0    127.0  Released  False   \n",
       "4  [United States of America]   1995-02-10      0.0    106.0  Released  False   \n",
       "\n",
       "   Average Vote  Vote Count    year month  \n",
       "0           7.7         1.0  1995.0   Oct  \n",
       "1           6.9         1.0  1995.0   Dec  \n",
       "2           6.5         1.0  1995.0   Dec  \n",
       "3           6.1        34.0  1995.0   Dec  \n",
       "4           5.7         1.0  1995.0   Feb  "
      ]
     },
     "execution_count": 136,
     "metadata": {},
     "output_type": "execute_result"
    }
   ],
   "source": [
    "dataset.head()"
   ]
  },
  {
   "cell_type": "code",
   "execution_count": 137,
   "id": "1c4b0a4e",
   "metadata": {},
   "outputs": [
    {
     "data": {
      "text/plain": [
       "Adult                  object\n",
       "Budget                 object\n",
       "Genres                 object\n",
       "Id                     object\n",
       "imdb_id                object\n",
       "Language               object\n",
       "Movie_Name             object\n",
       "overview               object\n",
       "Popularity             object\n",
       "Production_Company     object\n",
       "Production_Country     object\n",
       "Release_date           object\n",
       "Revenue               float64\n",
       "Runtime               float64\n",
       "Status                 object\n",
       "Video                  object\n",
       "Average Vote          float64\n",
       "Vote Count            float64\n",
       "year                  float64\n",
       "month                  object\n",
       "dtype: object"
      ]
     },
     "execution_count": 137,
     "metadata": {},
     "output_type": "execute_result"
    }
   ],
   "source": [
    "dataset.dtypes"
   ]
  },
  {
   "cell_type": "code",
   "execution_count": 138,
   "id": "16f23c0d",
   "metadata": {},
   "outputs": [],
   "source": [
    "from sklearn.preprocessing import LabelEncoder\n",
    "le =LabelEncoder()\n",
    "\n",
    "dataset['Adult'] = le.fit_transform(dataset['Adult'])\n",
    "#dataset['Popularity'] = le.fit_transform(dataset['Popularity'])\n",
    "dataset['Language'] = le.fit_transform(dataset['Language'])\n",
    "dataset['Movie_Name'] = le.fit_transform(dataset['Movie_Name'])\n",
    "dataset['overview'] = le.fit_transform(dataset['overview'])\n",
    "#dataset['Production_Company'] = le.fit_transform(dataset['Production_Company'])\n",
    "dataset['Release_date'] = le.fit_transform(dataset['Release_date'])\n",
    "dataset['Status'] = le.fit_transform(dataset['Status'])\n",
    "dataset['month'] = le.fit_transform(dataset['month'])"
   ]
  },
  {
   "cell_type": "code",
   "execution_count": 139,
   "id": "48096a88",
   "metadata": {},
   "outputs": [],
   "source": [
    "dataset['Genres'] = le.fit_transform(dataset['Genres'].astype(str))\n",
    "dataset['Production_Company'] = le.fit_transform(dataset['Production_Company'].astype(str))\n",
    "\n",
    "dataset['Popularity'] = le.fit_transform(dataset['Popularity'].astype(str))\n",
    "dataset['Id'] = le.fit_transform(dataset['Id'].astype(str))\n",
    "dataset['imdb_id'] = le.fit_transform(dataset['imdb_id'].astype(str))\n",
    "dataset['Production_Country'] = le.fit_transform(dataset['Production_Country'].astype(str))\n"
   ]
  },
  {
   "cell_type": "code",
   "execution_count": 140,
   "id": "c42dfc08",
   "metadata": {},
   "outputs": [],
   "source": [
    "dataset['Budget'] = le.fit_transform(dataset['Budget'].astype(str))\n",
    "dataset['Video'] = le.fit_transform(dataset['Video'].astype(str))"
   ]
  },
  {
   "cell_type": "code",
   "execution_count": 141,
   "id": "ba48b2a3",
   "metadata": {},
   "outputs": [
    {
     "data": {
      "text/plain": [
       "Adult                   int32\n",
       "Budget                  int32\n",
       "Genres                  int32\n",
       "Id                      int32\n",
       "imdb_id                 int32\n",
       "Language                int32\n",
       "Movie_Name              int32\n",
       "overview                int32\n",
       "Popularity              int32\n",
       "Production_Company      int32\n",
       "Production_Country      int32\n",
       "Release_date            int32\n",
       "Revenue               float64\n",
       "Runtime               float64\n",
       "Status                  int32\n",
       "Video                   int32\n",
       "Average Vote          float64\n",
       "Vote Count            float64\n",
       "year                  float64\n",
       "month                   int32\n",
       "dtype: object"
      ]
     },
     "execution_count": 141,
     "metadata": {},
     "output_type": "execute_result"
    }
   ],
   "source": [
    "dataset.dtypes"
   ]
  },
  {
   "cell_type": "code",
   "execution_count": 142,
   "id": "6c863f88",
   "metadata": {
    "scrolled": true
   },
   "outputs": [
    {
     "data": {
      "text/html": [
       "<div>\n",
       "<style scoped>\n",
       "    .dataframe tbody tr th:only-of-type {\n",
       "        vertical-align: middle;\n",
       "    }\n",
       "\n",
       "    .dataframe tbody tr th {\n",
       "        vertical-align: top;\n",
       "    }\n",
       "\n",
       "    .dataframe thead th {\n",
       "        text-align: right;\n",
       "    }\n",
       "</style>\n",
       "<table border=\"1\" class=\"dataframe\">\n",
       "  <thead>\n",
       "    <tr style=\"text-align: right;\">\n",
       "      <th></th>\n",
       "      <th>Adult</th>\n",
       "      <th>Budget</th>\n",
       "      <th>Genres</th>\n",
       "      <th>Id</th>\n",
       "      <th>imdb_id</th>\n",
       "      <th>Language</th>\n",
       "      <th>Movie_Name</th>\n",
       "      <th>overview</th>\n",
       "      <th>Popularity</th>\n",
       "      <th>Production_Company</th>\n",
       "      <th>Production_Country</th>\n",
       "      <th>Release_date</th>\n",
       "      <th>Revenue</th>\n",
       "      <th>Runtime</th>\n",
       "      <th>Status</th>\n",
       "      <th>Video</th>\n",
       "      <th>Average Vote</th>\n",
       "      <th>Vote Count</th>\n",
       "      <th>year</th>\n",
       "      <th>month</th>\n",
       "    </tr>\n",
       "  </thead>\n",
       "  <tbody>\n",
       "    <tr>\n",
       "      <th>count</th>\n",
       "      <td>45174.000000</td>\n",
       "      <td>45174.000000</td>\n",
       "      <td>45174.000000</td>\n",
       "      <td>45174.000000</td>\n",
       "      <td>45174.000000</td>\n",
       "      <td>45174.000000</td>\n",
       "      <td>45174.000000</td>\n",
       "      <td>45174.000000</td>\n",
       "      <td>45174.000000</td>\n",
       "      <td>45174.000000</td>\n",
       "      <td>45174.000000</td>\n",
       "      <td>45174.000000</td>\n",
       "      <td>45174.0</td>\n",
       "      <td>45174.000000</td>\n",
       "      <td>45174.000000</td>\n",
       "      <td>45174.000000</td>\n",
       "      <td>45174.000000</td>\n",
       "      <td>45174.000000</td>\n",
       "      <td>45174.000000</td>\n",
       "      <td>45174.000000</td>\n",
       "    </tr>\n",
       "    <tr>\n",
       "      <th>mean</th>\n",
       "      <td>0.000199</td>\n",
       "      <td>112.320494</td>\n",
       "      <td>2113.653982</td>\n",
       "      <td>22567.369283</td>\n",
       "      <td>22555.062425</td>\n",
       "      <td>23.579293</td>\n",
       "      <td>21533.466795</td>\n",
       "      <td>22172.122969</td>\n",
       "      <td>21123.907469</td>\n",
       "      <td>14699.741577</td>\n",
       "      <td>1879.379754</td>\n",
       "      <td>10930.400385</td>\n",
       "      <td>0.0</td>\n",
       "      <td>95.649275</td>\n",
       "      <td>4.994687</td>\n",
       "      <td>0.004007</td>\n",
       "      <td>5.556058</td>\n",
       "      <td>11.727011</td>\n",
       "      <td>1993.537583</td>\n",
       "      <td>6.015872</td>\n",
       "    </tr>\n",
       "    <tr>\n",
       "      <th>std</th>\n",
       "      <td>0.014114</td>\n",
       "      <td>273.157175</td>\n",
       "      <td>1006.720324</td>\n",
       "      <td>13034.221410</td>\n",
       "      <td>13031.018562</td>\n",
       "      <td>14.156463</td>\n",
       "      <td>12425.144563</td>\n",
       "      <td>12595.287509</td>\n",
       "      <td>12834.392681</td>\n",
       "      <td>7302.209577</td>\n",
       "      <td>665.919955</td>\n",
       "      <td>4760.537303</td>\n",
       "      <td>0.0</td>\n",
       "      <td>14.308879</td>\n",
       "      <td>0.182996</td>\n",
       "      <td>0.089057</td>\n",
       "      <td>1.969620</td>\n",
       "      <td>15.940222</td>\n",
       "      <td>22.065045</td>\n",
       "      <td>3.892882</td>\n",
       "    </tr>\n",
       "    <tr>\n",
       "      <th>min</th>\n",
       "      <td>0.000000</td>\n",
       "      <td>0.000000</td>\n",
       "      <td>0.000000</td>\n",
       "      <td>0.000000</td>\n",
       "      <td>0.000000</td>\n",
       "      <td>0.000000</td>\n",
       "      <td>0.000000</td>\n",
       "      <td>0.000000</td>\n",
       "      <td>0.000000</td>\n",
       "      <td>0.000000</td>\n",
       "      <td>0.000000</td>\n",
       "      <td>0.000000</td>\n",
       "      <td>0.0</td>\n",
       "      <td>54.000000</td>\n",
       "      <td>0.000000</td>\n",
       "      <td>0.000000</td>\n",
       "      <td>0.000000</td>\n",
       "      <td>0.000000</td>\n",
       "      <td>1930.000000</td>\n",
       "      <td>0.000000</td>\n",
       "    </tr>\n",
       "    <tr>\n",
       "      <th>25%</th>\n",
       "      <td>0.000000</td>\n",
       "      <td>0.000000</td>\n",
       "      <td>1548.000000</td>\n",
       "      <td>11276.250000</td>\n",
       "      <td>11271.250000</td>\n",
       "      <td>18.000000</td>\n",
       "      <td>10739.250000</td>\n",
       "      <td>11280.250000</td>\n",
       "      <td>9896.250000</td>\n",
       "      <td>8457.250000</td>\n",
       "      <td>1428.000000</td>\n",
       "      <td>7427.250000</td>\n",
       "      <td>0.0</td>\n",
       "      <td>89.000000</td>\n",
       "      <td>5.000000</td>\n",
       "      <td>0.000000</td>\n",
       "      <td>5.000000</td>\n",
       "      <td>1.000000</td>\n",
       "      <td>1981.000000</td>\n",
       "      <td>3.000000</td>\n",
       "    </tr>\n",
       "    <tr>\n",
       "      <th>50%</th>\n",
       "      <td>0.000000</td>\n",
       "      <td>0.000000</td>\n",
       "      <td>2020.000000</td>\n",
       "      <td>22564.500000</td>\n",
       "      <td>22555.500000</td>\n",
       "      <td>18.000000</td>\n",
       "      <td>21589.500000</td>\n",
       "      <td>22561.500000</td>\n",
       "      <td>21049.500000</td>\n",
       "      <td>15819.500000</td>\n",
       "      <td>2356.000000</td>\n",
       "      <td>12097.000000</td>\n",
       "      <td>0.0</td>\n",
       "      <td>93.000000</td>\n",
       "      <td>5.000000</td>\n",
       "      <td>0.000000</td>\n",
       "      <td>6.000000</td>\n",
       "      <td>5.000000</td>\n",
       "      <td>2002.000000</td>\n",
       "      <td>6.000000</td>\n",
       "    </tr>\n",
       "    <tr>\n",
       "      <th>75%</th>\n",
       "      <td>0.000000</td>\n",
       "      <td>0.000000</td>\n",
       "      <td>2689.000000</td>\n",
       "      <td>33855.750000</td>\n",
       "      <td>33839.750000</td>\n",
       "      <td>18.000000</td>\n",
       "      <td>32308.750000</td>\n",
       "      <td>32745.750000</td>\n",
       "      <td>32237.750000</td>\n",
       "      <td>22564.000000</td>\n",
       "      <td>2356.000000</td>\n",
       "      <td>15013.000000</td>\n",
       "      <td>0.0</td>\n",
       "      <td>104.000000</td>\n",
       "      <td>5.000000</td>\n",
       "      <td>0.000000</td>\n",
       "      <td>6.800000</td>\n",
       "      <td>15.000000</td>\n",
       "      <td>2011.000000</td>\n",
       "      <td>10.000000</td>\n",
       "    </tr>\n",
       "    <tr>\n",
       "      <th>max</th>\n",
       "      <td>1.000000</td>\n",
       "      <td>1220.000000</td>\n",
       "      <td>4046.000000</td>\n",
       "      <td>45143.000000</td>\n",
       "      <td>45127.000000</td>\n",
       "      <td>89.000000</td>\n",
       "      <td>43129.000000</td>\n",
       "      <td>44023.000000</td>\n",
       "      <td>43483.000000</td>\n",
       "      <td>22564.000000</td>\n",
       "      <td>2374.000000</td>\n",
       "      <td>17247.000000</td>\n",
       "      <td>0.0</td>\n",
       "      <td>137.000000</td>\n",
       "      <td>6.000000</td>\n",
       "      <td>2.000000</td>\n",
       "      <td>9.500000</td>\n",
       "      <td>80.000000</td>\n",
       "      <td>2020.000000</td>\n",
       "      <td>12.000000</td>\n",
       "    </tr>\n",
       "  </tbody>\n",
       "</table>\n",
       "</div>"
      ],
      "text/plain": [
       "              Adult        Budget        Genres            Id       imdb_id  \\\n",
       "count  45174.000000  45174.000000  45174.000000  45174.000000  45174.000000   \n",
       "mean       0.000199    112.320494   2113.653982  22567.369283  22555.062425   \n",
       "std        0.014114    273.157175   1006.720324  13034.221410  13031.018562   \n",
       "min        0.000000      0.000000      0.000000      0.000000      0.000000   \n",
       "25%        0.000000      0.000000   1548.000000  11276.250000  11271.250000   \n",
       "50%        0.000000      0.000000   2020.000000  22564.500000  22555.500000   \n",
       "75%        0.000000      0.000000   2689.000000  33855.750000  33839.750000   \n",
       "max        1.000000   1220.000000   4046.000000  45143.000000  45127.000000   \n",
       "\n",
       "           Language    Movie_Name      overview    Popularity  \\\n",
       "count  45174.000000  45174.000000  45174.000000  45174.000000   \n",
       "mean      23.579293  21533.466795  22172.122969  21123.907469   \n",
       "std       14.156463  12425.144563  12595.287509  12834.392681   \n",
       "min        0.000000      0.000000      0.000000      0.000000   \n",
       "25%       18.000000  10739.250000  11280.250000   9896.250000   \n",
       "50%       18.000000  21589.500000  22561.500000  21049.500000   \n",
       "75%       18.000000  32308.750000  32745.750000  32237.750000   \n",
       "max       89.000000  43129.000000  44023.000000  43483.000000   \n",
       "\n",
       "       Production_Company  Production_Country  Release_date  Revenue  \\\n",
       "count        45174.000000        45174.000000  45174.000000  45174.0   \n",
       "mean         14699.741577         1879.379754  10930.400385      0.0   \n",
       "std           7302.209577          665.919955   4760.537303      0.0   \n",
       "min              0.000000            0.000000      0.000000      0.0   \n",
       "25%           8457.250000         1428.000000   7427.250000      0.0   \n",
       "50%          15819.500000         2356.000000  12097.000000      0.0   \n",
       "75%          22564.000000         2356.000000  15013.000000      0.0   \n",
       "max          22564.000000         2374.000000  17247.000000      0.0   \n",
       "\n",
       "            Runtime        Status         Video  Average Vote    Vote Count  \\\n",
       "count  45174.000000  45174.000000  45174.000000  45174.000000  45174.000000   \n",
       "mean      95.649275      4.994687      0.004007      5.556058     11.727011   \n",
       "std       14.308879      0.182996      0.089057      1.969620     15.940222   \n",
       "min       54.000000      0.000000      0.000000      0.000000      0.000000   \n",
       "25%       89.000000      5.000000      0.000000      5.000000      1.000000   \n",
       "50%       93.000000      5.000000      0.000000      6.000000      5.000000   \n",
       "75%      104.000000      5.000000      0.000000      6.800000     15.000000   \n",
       "max      137.000000      6.000000      2.000000      9.500000     80.000000   \n",
       "\n",
       "               year         month  \n",
       "count  45174.000000  45174.000000  \n",
       "mean    1993.537583      6.015872  \n",
       "std       22.065045      3.892882  \n",
       "min     1930.000000      0.000000  \n",
       "25%     1981.000000      3.000000  \n",
       "50%     2002.000000      6.000000  \n",
       "75%     2011.000000     10.000000  \n",
       "max     2020.000000     12.000000  "
      ]
     },
     "execution_count": 142,
     "metadata": {},
     "output_type": "execute_result"
    }
   ],
   "source": [
    "dataset.describe()"
   ]
  },
  {
   "cell_type": "markdown",
   "id": "38981b1e",
   "metadata": {},
   "source": [
    "#### 4(2). One Hot Encoder :-"
   ]
  },
  {
   "cell_type": "code",
   "execution_count": 143,
   "id": "8aac2360",
   "metadata": {},
   "outputs": [
    {
     "data": {
      "text/html": [
       "<div>\n",
       "<style scoped>\n",
       "    .dataframe tbody tr th:only-of-type {\n",
       "        vertical-align: middle;\n",
       "    }\n",
       "\n",
       "    .dataframe tbody tr th {\n",
       "        vertical-align: top;\n",
       "    }\n",
       "\n",
       "    .dataframe thead th {\n",
       "        text-align: right;\n",
       "    }\n",
       "</style>\n",
       "<table border=\"1\" class=\"dataframe\">\n",
       "  <thead>\n",
       "    <tr style=\"text-align: right;\">\n",
       "      <th></th>\n",
       "      <th>Adult</th>\n",
       "      <th>Budget</th>\n",
       "      <th>Genres</th>\n",
       "      <th>Id</th>\n",
       "      <th>imdb_id</th>\n",
       "      <th>Language</th>\n",
       "      <th>Movie_Name</th>\n",
       "      <th>overview</th>\n",
       "      <th>Popularity</th>\n",
       "      <th>Production_Company</th>\n",
       "      <th>Production_Country</th>\n",
       "      <th>Release_date</th>\n",
       "      <th>Revenue</th>\n",
       "      <th>Runtime</th>\n",
       "      <th>Status</th>\n",
       "      <th>Video</th>\n",
       "      <th>Average Vote</th>\n",
       "      <th>Vote Count</th>\n",
       "      <th>year</th>\n",
       "      <th>month</th>\n",
       "    </tr>\n",
       "  </thead>\n",
       "  <tbody>\n",
       "    <tr>\n",
       "      <th>0</th>\n",
       "      <td>0</td>\n",
       "      <td>599</td>\n",
       "      <td>1086</td>\n",
       "      <td>42535</td>\n",
       "      <td>16929</td>\n",
       "      <td>18</td>\n",
       "      <td>36693</td>\n",
       "      <td>26515</td>\n",
       "      <td>33481</td>\n",
       "      <td>15189</td>\n",
       "      <td>2356</td>\n",
       "      <td>10605</td>\n",
       "      <td>0.0</td>\n",
       "      <td>81.0</td>\n",
       "      <td>5</td>\n",
       "      <td>0</td>\n",
       "      <td>7.7</td>\n",
       "      <td>1.0</td>\n",
       "      <td>1995.0</td>\n",
       "      <td>11</td>\n",
       "    </tr>\n",
       "    <tr>\n",
       "      <th>1</th>\n",
       "      <td>0</td>\n",
       "      <td>972</td>\n",
       "      <td>937</td>\n",
       "      <td>42968</td>\n",
       "      <td>16689</td>\n",
       "      <td>18</td>\n",
       "      <td>16155</td>\n",
       "      <td>42640</td>\n",
       "      <td>29736</td>\n",
       "      <td>19606</td>\n",
       "      <td>2356</td>\n",
       "      <td>10636</td>\n",
       "      <td>0.0</td>\n",
       "      <td>104.0</td>\n",
       "      <td>5</td>\n",
       "      <td>0</td>\n",
       "      <td>6.9</td>\n",
       "      <td>1.0</td>\n",
       "      <td>1995.0</td>\n",
       "      <td>2</td>\n",
       "    </tr>\n",
       "    <tr>\n",
       "      <th>2</th>\n",
       "      <td>0</td>\n",
       "      <td>0</td>\n",
       "      <td>3303</td>\n",
       "      <td>8181</td>\n",
       "      <td>16631</td>\n",
       "      <td>18</td>\n",
       "      <td>12725</td>\n",
       "      <td>3130</td>\n",
       "      <td>28334</td>\n",
       "      <td>21651</td>\n",
       "      <td>2356</td>\n",
       "      <td>10641</td>\n",
       "      <td>0.0</td>\n",
       "      <td>101.0</td>\n",
       "      <td>5</td>\n",
       "      <td>0</td>\n",
       "      <td>6.5</td>\n",
       "      <td>1.0</td>\n",
       "      <td>1995.0</td>\n",
       "      <td>2</td>\n",
       "    </tr>\n",
       "    <tr>\n",
       "      <th>3</th>\n",
       "      <td>0</td>\n",
       "      <td>265</td>\n",
       "      <td>1394</td>\n",
       "      <td>22533</td>\n",
       "      <td>16959</td>\n",
       "      <td>18</td>\n",
       "      <td>38313</td>\n",
       "      <td>15779</td>\n",
       "      <td>35367</td>\n",
       "      <td>20036</td>\n",
       "      <td>2356</td>\n",
       "      <td>10641</td>\n",
       "      <td>0.0</td>\n",
       "      <td>127.0</td>\n",
       "      <td>5</td>\n",
       "      <td>0</td>\n",
       "      <td>6.1</td>\n",
       "      <td>34.0</td>\n",
       "      <td>1995.0</td>\n",
       "      <td>2</td>\n",
       "    </tr>\n",
       "    <tr>\n",
       "      <th>4</th>\n",
       "      <td>0</td>\n",
       "      <td>0</td>\n",
       "      <td>1595</td>\n",
       "      <td>3341</td>\n",
       "      <td>16580</td>\n",
       "      <td>18</td>\n",
       "      <td>10785</td>\n",
       "      <td>25917</td>\n",
       "      <td>42020</td>\n",
       "      <td>16824</td>\n",
       "      <td>2356</td>\n",
       "      <td>10437</td>\n",
       "      <td>0.0</td>\n",
       "      <td>106.0</td>\n",
       "      <td>5</td>\n",
       "      <td>0</td>\n",
       "      <td>5.7</td>\n",
       "      <td>1.0</td>\n",
       "      <td>1995.0</td>\n",
       "      <td>3</td>\n",
       "    </tr>\n",
       "    <tr>\n",
       "      <th>5</th>\n",
       "      <td>0</td>\n",
       "      <td>933</td>\n",
       "      <td>348</td>\n",
       "      <td>44136</td>\n",
       "      <td>16646</td>\n",
       "      <td>18</td>\n",
       "      <td>13305</td>\n",
       "      <td>29058</td>\n",
       "      <td>29800</td>\n",
       "      <td>16102</td>\n",
       "      <td>2356</td>\n",
       "      <td>10636</td>\n",
       "      <td>0.0</td>\n",
       "      <td>90.0</td>\n",
       "      <td>5</td>\n",
       "      <td>0</td>\n",
       "      <td>7.7</td>\n",
       "      <td>1.0</td>\n",
       "      <td>1995.0</td>\n",
       "      <td>2</td>\n",
       "    </tr>\n",
       "    <tr>\n",
       "      <th>6</th>\n",
       "      <td>0</td>\n",
       "      <td>911</td>\n",
       "      <td>1548</td>\n",
       "      <td>3337</td>\n",
       "      <td>16854</td>\n",
       "      <td>18</td>\n",
       "      <td>26728</td>\n",
       "      <td>12801</td>\n",
       "      <td>39937</td>\n",
       "      <td>14764</td>\n",
       "      <td>1166</td>\n",
       "      <td>10636</td>\n",
       "      <td>0.0</td>\n",
       "      <td>127.0</td>\n",
       "      <td>5</td>\n",
       "      <td>0</td>\n",
       "      <td>6.2</td>\n",
       "      <td>1.0</td>\n",
       "      <td>1995.0</td>\n",
       "      <td>2</td>\n",
       "    </tr>\n",
       "    <tr>\n",
       "      <th>7</th>\n",
       "      <td>0</td>\n",
       "      <td>0</td>\n",
       "      <td>94</td>\n",
       "      <td>32292</td>\n",
       "      <td>16421</td>\n",
       "      <td>18</td>\n",
       "      <td>36491</td>\n",
       "      <td>5397</td>\n",
       "      <td>32149</td>\n",
       "      <td>21479</td>\n",
       "      <td>2356</td>\n",
       "      <td>10641</td>\n",
       "      <td>0.0</td>\n",
       "      <td>97.0</td>\n",
       "      <td>5</td>\n",
       "      <td>0</td>\n",
       "      <td>5.4</td>\n",
       "      <td>45.0</td>\n",
       "      <td>1995.0</td>\n",
       "      <td>2</td>\n",
       "    </tr>\n",
       "    <tr>\n",
       "      <th>8</th>\n",
       "      <td>0</td>\n",
       "      <td>668</td>\n",
       "      <td>187</td>\n",
       "      <td>43424</td>\n",
       "      <td>16897</td>\n",
       "      <td>18</td>\n",
       "      <td>29445</td>\n",
       "      <td>24408</td>\n",
       "      <td>37717</td>\n",
       "      <td>20620</td>\n",
       "      <td>2356</td>\n",
       "      <td>10641</td>\n",
       "      <td>0.0</td>\n",
       "      <td>106.0</td>\n",
       "      <td>5</td>\n",
       "      <td>0</td>\n",
       "      <td>5.5</td>\n",
       "      <td>1.0</td>\n",
       "      <td>1995.0</td>\n",
       "      <td>2</td>\n",
       "    </tr>\n",
       "    <tr>\n",
       "      <th>9</th>\n",
       "      <td>0</td>\n",
       "      <td>911</td>\n",
       "      <td>683</td>\n",
       "      <td>39145</td>\n",
       "      <td>16621</td>\n",
       "      <td>18</td>\n",
       "      <td>12431</td>\n",
       "      <td>25098</td>\n",
       "      <td>29402</td>\n",
       "      <td>20292</td>\n",
       "      <td>2193</td>\n",
       "      <td>10620</td>\n",
       "      <td>0.0</td>\n",
       "      <td>130.0</td>\n",
       "      <td>5</td>\n",
       "      <td>0</td>\n",
       "      <td>6.6</td>\n",
       "      <td>1.0</td>\n",
       "      <td>1995.0</td>\n",
       "      <td>10</td>\n",
       "    </tr>\n",
       "  </tbody>\n",
       "</table>\n",
       "</div>"
      ],
      "text/plain": [
       "   Adult  Budget  Genres     Id  imdb_id  Language  Movie_Name  overview  \\\n",
       "0      0     599    1086  42535    16929        18       36693     26515   \n",
       "1      0     972     937  42968    16689        18       16155     42640   \n",
       "2      0       0    3303   8181    16631        18       12725      3130   \n",
       "3      0     265    1394  22533    16959        18       38313     15779   \n",
       "4      0       0    1595   3341    16580        18       10785     25917   \n",
       "5      0     933     348  44136    16646        18       13305     29058   \n",
       "6      0     911    1548   3337    16854        18       26728     12801   \n",
       "7      0       0      94  32292    16421        18       36491      5397   \n",
       "8      0     668     187  43424    16897        18       29445     24408   \n",
       "9      0     911     683  39145    16621        18       12431     25098   \n",
       "\n",
       "   Popularity  Production_Company  Production_Country  Release_date  Revenue  \\\n",
       "0       33481               15189                2356         10605      0.0   \n",
       "1       29736               19606                2356         10636      0.0   \n",
       "2       28334               21651                2356         10641      0.0   \n",
       "3       35367               20036                2356         10641      0.0   \n",
       "4       42020               16824                2356         10437      0.0   \n",
       "5       29800               16102                2356         10636      0.0   \n",
       "6       39937               14764                1166         10636      0.0   \n",
       "7       32149               21479                2356         10641      0.0   \n",
       "8       37717               20620                2356         10641      0.0   \n",
       "9       29402               20292                2193         10620      0.0   \n",
       "\n",
       "   Runtime  Status  Video  Average Vote  Vote Count    year  month  \n",
       "0     81.0       5      0           7.7         1.0  1995.0     11  \n",
       "1    104.0       5      0           6.9         1.0  1995.0      2  \n",
       "2    101.0       5      0           6.5         1.0  1995.0      2  \n",
       "3    127.0       5      0           6.1        34.0  1995.0      2  \n",
       "4    106.0       5      0           5.7         1.0  1995.0      3  \n",
       "5     90.0       5      0           7.7         1.0  1995.0      2  \n",
       "6    127.0       5      0           6.2         1.0  1995.0      2  \n",
       "7     97.0       5      0           5.4        45.0  1995.0      2  \n",
       "8    106.0       5      0           5.5         1.0  1995.0      2  \n",
       "9    130.0       5      0           6.6         1.0  1995.0     10  "
      ]
     },
     "execution_count": 143,
     "metadata": {},
     "output_type": "execute_result"
    }
   ],
   "source": [
    "from sklearn.preprocessing import OneHotEncoder\n",
    "\n",
    "dataset=pd.get_dummies(dataset)\n",
    "\n",
    "dataset.head(10)"
   ]
  },
  {
   "cell_type": "code",
   "execution_count": 144,
   "id": "da6b5cdb",
   "metadata": {},
   "outputs": [
    {
     "data": {
      "text/plain": [
       "Index(['Adult', 'Budget', 'Genres', 'Id', 'imdb_id', 'Language', 'Movie_Name',\n",
       "       'overview', 'Popularity', 'Production_Company', 'Production_Country',\n",
       "       'Release_date', 'Revenue', 'Runtime', 'Status', 'Video', 'Average Vote',\n",
       "       'Vote Count', 'year', 'month'],\n",
       "      dtype='object')"
      ]
     },
     "execution_count": 144,
     "metadata": {},
     "output_type": "execute_result"
    }
   ],
   "source": [
    "dataset.columns\n"
   ]
  },
  {
   "cell_type": "markdown",
   "id": "11a3aa54",
   "metadata": {},
   "source": [
    "### 5. Data Scaling :-\n",
    "\n",
    "        Data Scaling is a data preprocessing step for numerical features. \n",
    "\n",
    "######   Handling Numerical Variables :-\n",
    " \n",
    "              1. MinMax Scaling/ Normalization Method\n",
    "              \n",
    "              2. Standardization/ Z-score Approach\n",
    "               "
   ]
  },
  {
   "cell_type": "markdown",
   "id": "946efd65",
   "metadata": {},
   "source": [
    "### 5(1). MinMax Scaling / Normalization Method :-\n",
    "\n",
    "\n",
    "                  In this the minimum of feature is made equal to zero and the maximum of feature equal to one. MinMax Scaler shrinks the data within the given range, usually of 0 to 1. It transforms data by scaling features to a given range. It scales the values to a specific value range without changing the shape of the original distribution. \n",
    "\n",
    "            \n",
    "                            x_std = (x – x.min(axis=0)) / (x.max(axis=0) – x.min(axis=0))\n",
    "\n",
    "                            x_scaled = x_std * (max – min) + min\n",
    "                            \n",
    "                            \n",
    "                            \n",
    "                  Where,\n",
    "\n",
    "                            min, max = feature_range\n",
    "                            x.min(axis=0) : Minimum feature value\n",
    "                            x.max(axis=0):Maximum feature value\n",
    "                            \n",
    "                            \n",
    "                            \n",
    "                          \n",
    "        \n",
    "        \n",
    "                 "
   ]
  },
  {
   "attachments": {
    "image.png": {
     "image/png": "[encoded data removed]"
    }
   },
   "cell_type": "markdown",
   "id": "d9cca3d8",
   "metadata": {},
   "source": [
    "Normalization  :-  \n",
    "                        ![image.png](attachment:image.png)\n",
    "                        \n",
    "                        \n",
    "  \n",
    "    \n",
    "    \n",
    "    \n",
    "    Sklearn preprocessing defines MinMaxScaler() method to achieve this. "
   ]
  },
  {
   "cell_type": "code",
   "execution_count": 145,
   "id": "bc625218",
   "metadata": {},
   "outputs": [],
   "source": [
    "\n",
    "#from sklearn.model_selection import train_test_split\n",
    "#from sklearn.preprocessing import MinMaxScaler"
   ]
  },
  {
   "cell_type": "code",
   "execution_count": 146,
   "id": "3b2a4d3b",
   "metadata": {},
   "outputs": [
    {
     "data": {
      "text/html": [
       "<div>\n",
       "<style scoped>\n",
       "    .dataframe tbody tr th:only-of-type {\n",
       "        vertical-align: middle;\n",
       "    }\n",
       "\n",
       "    .dataframe tbody tr th {\n",
       "        vertical-align: top;\n",
       "    }\n",
       "\n",
       "    .dataframe thead th {\n",
       "        text-align: right;\n",
       "    }\n",
       "</style>\n",
       "<table border=\"1\" class=\"dataframe\">\n",
       "  <thead>\n",
       "    <tr style=\"text-align: right;\">\n",
       "      <th></th>\n",
       "      <th>Adult</th>\n",
       "      <th>Budget</th>\n",
       "      <th>Id</th>\n",
       "      <th>imdb_id</th>\n",
       "      <th>Language</th>\n",
       "      <th>Movie_Name</th>\n",
       "      <th>overview</th>\n",
       "      <th>Popularity</th>\n",
       "      <th>Production_Company</th>\n",
       "      <th>Production_Country</th>\n",
       "      <th>Release_date</th>\n",
       "      <th>Revenue</th>\n",
       "      <th>Runtime</th>\n",
       "      <th>Status</th>\n",
       "      <th>Video</th>\n",
       "      <th>Average Vote</th>\n",
       "      <th>Vote Count</th>\n",
       "      <th>year</th>\n",
       "      <th>month</th>\n",
       "    </tr>\n",
       "  </thead>\n",
       "  <tbody>\n",
       "    <tr>\n",
       "      <th>count</th>\n",
       "      <td>45174.000000</td>\n",
       "      <td>45174.000000</td>\n",
       "      <td>45174.000000</td>\n",
       "      <td>45174.000000</td>\n",
       "      <td>45174.000000</td>\n",
       "      <td>45174.000000</td>\n",
       "      <td>45174.000000</td>\n",
       "      <td>45174.000000</td>\n",
       "      <td>45174.000000</td>\n",
       "      <td>45174.000000</td>\n",
       "      <td>45174.000000</td>\n",
       "      <td>45174.0</td>\n",
       "      <td>45174.000000</td>\n",
       "      <td>45174.000000</td>\n",
       "      <td>45174.000000</td>\n",
       "      <td>45174.000000</td>\n",
       "      <td>45174.000000</td>\n",
       "      <td>45174.000000</td>\n",
       "      <td>45174.000000</td>\n",
       "    </tr>\n",
       "    <tr>\n",
       "      <th>mean</th>\n",
       "      <td>0.000199</td>\n",
       "      <td>112.320494</td>\n",
       "      <td>22567.369283</td>\n",
       "      <td>22555.062425</td>\n",
       "      <td>23.579293</td>\n",
       "      <td>21533.466795</td>\n",
       "      <td>22172.122969</td>\n",
       "      <td>21123.907469</td>\n",
       "      <td>14699.741577</td>\n",
       "      <td>1879.379754</td>\n",
       "      <td>10930.400385</td>\n",
       "      <td>0.0</td>\n",
       "      <td>95.649275</td>\n",
       "      <td>4.994687</td>\n",
       "      <td>0.004007</td>\n",
       "      <td>5.556058</td>\n",
       "      <td>11.727011</td>\n",
       "      <td>1993.537583</td>\n",
       "      <td>6.015872</td>\n",
       "    </tr>\n",
       "    <tr>\n",
       "      <th>std</th>\n",
       "      <td>0.014114</td>\n",
       "      <td>273.157175</td>\n",
       "      <td>13034.221410</td>\n",
       "      <td>13031.018562</td>\n",
       "      <td>14.156463</td>\n",
       "      <td>12425.144563</td>\n",
       "      <td>12595.287509</td>\n",
       "      <td>12834.392681</td>\n",
       "      <td>7302.209577</td>\n",
       "      <td>665.919955</td>\n",
       "      <td>4760.537303</td>\n",
       "      <td>0.0</td>\n",
       "      <td>14.308879</td>\n",
       "      <td>0.182996</td>\n",
       "      <td>0.089057</td>\n",
       "      <td>1.969620</td>\n",
       "      <td>15.940222</td>\n",
       "      <td>22.065045</td>\n",
       "      <td>3.892882</td>\n",
       "    </tr>\n",
       "    <tr>\n",
       "      <th>min</th>\n",
       "      <td>0.000000</td>\n",
       "      <td>0.000000</td>\n",
       "      <td>0.000000</td>\n",
       "      <td>0.000000</td>\n",
       "      <td>0.000000</td>\n",
       "      <td>0.000000</td>\n",
       "      <td>0.000000</td>\n",
       "      <td>0.000000</td>\n",
       "      <td>0.000000</td>\n",
       "      <td>0.000000</td>\n",
       "      <td>0.000000</td>\n",
       "      <td>0.0</td>\n",
       "      <td>54.000000</td>\n",
       "      <td>0.000000</td>\n",
       "      <td>0.000000</td>\n",
       "      <td>0.000000</td>\n",
       "      <td>0.000000</td>\n",
       "      <td>1930.000000</td>\n",
       "      <td>0.000000</td>\n",
       "    </tr>\n",
       "    <tr>\n",
       "      <th>25%</th>\n",
       "      <td>0.000000</td>\n",
       "      <td>0.000000</td>\n",
       "      <td>11276.250000</td>\n",
       "      <td>11271.250000</td>\n",
       "      <td>18.000000</td>\n",
       "      <td>10739.250000</td>\n",
       "      <td>11280.250000</td>\n",
       "      <td>9896.250000</td>\n",
       "      <td>8457.250000</td>\n",
       "      <td>1428.000000</td>\n",
       "      <td>7427.250000</td>\n",
       "      <td>0.0</td>\n",
       "      <td>89.000000</td>\n",
       "      <td>5.000000</td>\n",
       "      <td>0.000000</td>\n",
       "      <td>5.000000</td>\n",
       "      <td>1.000000</td>\n",
       "      <td>1981.000000</td>\n",
       "      <td>3.000000</td>\n",
       "    </tr>\n",
       "    <tr>\n",
       "      <th>50%</th>\n",
       "      <td>0.000000</td>\n",
       "      <td>0.000000</td>\n",
       "      <td>22564.500000</td>\n",
       "      <td>22555.500000</td>\n",
       "      <td>18.000000</td>\n",
       "      <td>21589.500000</td>\n",
       "      <td>22561.500000</td>\n",
       "      <td>21049.500000</td>\n",
       "      <td>15819.500000</td>\n",
       "      <td>2356.000000</td>\n",
       "      <td>12097.000000</td>\n",
       "      <td>0.0</td>\n",
       "      <td>93.000000</td>\n",
       "      <td>5.000000</td>\n",
       "      <td>0.000000</td>\n",
       "      <td>6.000000</td>\n",
       "      <td>5.000000</td>\n",
       "      <td>2002.000000</td>\n",
       "      <td>6.000000</td>\n",
       "    </tr>\n",
       "    <tr>\n",
       "      <th>75%</th>\n",
       "      <td>0.000000</td>\n",
       "      <td>0.000000</td>\n",
       "      <td>33855.750000</td>\n",
       "      <td>33839.750000</td>\n",
       "      <td>18.000000</td>\n",
       "      <td>32308.750000</td>\n",
       "      <td>32745.750000</td>\n",
       "      <td>32237.750000</td>\n",
       "      <td>22564.000000</td>\n",
       "      <td>2356.000000</td>\n",
       "      <td>15013.000000</td>\n",
       "      <td>0.0</td>\n",
       "      <td>104.000000</td>\n",
       "      <td>5.000000</td>\n",
       "      <td>0.000000</td>\n",
       "      <td>6.800000</td>\n",
       "      <td>15.000000</td>\n",
       "      <td>2011.000000</td>\n",
       "      <td>10.000000</td>\n",
       "    </tr>\n",
       "    <tr>\n",
       "      <th>max</th>\n",
       "      <td>1.000000</td>\n",
       "      <td>1220.000000</td>\n",
       "      <td>45143.000000</td>\n",
       "      <td>45127.000000</td>\n",
       "      <td>89.000000</td>\n",
       "      <td>43129.000000</td>\n",
       "      <td>44023.000000</td>\n",
       "      <td>43483.000000</td>\n",
       "      <td>22564.000000</td>\n",
       "      <td>2374.000000</td>\n",
       "      <td>17247.000000</td>\n",
       "      <td>0.0</td>\n",
       "      <td>137.000000</td>\n",
       "      <td>6.000000</td>\n",
       "      <td>2.000000</td>\n",
       "      <td>9.500000</td>\n",
       "      <td>80.000000</td>\n",
       "      <td>2020.000000</td>\n",
       "      <td>12.000000</td>\n",
       "    </tr>\n",
       "  </tbody>\n",
       "</table>\n",
       "</div>"
      ],
      "text/plain": [
       "              Adult        Budget            Id       imdb_id      Language  \\\n",
       "count  45174.000000  45174.000000  45174.000000  45174.000000  45174.000000   \n",
       "mean       0.000199    112.320494  22567.369283  22555.062425     23.579293   \n",
       "std        0.014114    273.157175  13034.221410  13031.018562     14.156463   \n",
       "min        0.000000      0.000000      0.000000      0.000000      0.000000   \n",
       "25%        0.000000      0.000000  11276.250000  11271.250000     18.000000   \n",
       "50%        0.000000      0.000000  22564.500000  22555.500000     18.000000   \n",
       "75%        0.000000      0.000000  33855.750000  33839.750000     18.000000   \n",
       "max        1.000000   1220.000000  45143.000000  45127.000000     89.000000   \n",
       "\n",
       "         Movie_Name      overview    Popularity  Production_Company  \\\n",
       "count  45174.000000  45174.000000  45174.000000        45174.000000   \n",
       "mean   21533.466795  22172.122969  21123.907469        14699.741577   \n",
       "std    12425.144563  12595.287509  12834.392681         7302.209577   \n",
       "min        0.000000      0.000000      0.000000            0.000000   \n",
       "25%    10739.250000  11280.250000   9896.250000         8457.250000   \n",
       "50%    21589.500000  22561.500000  21049.500000        15819.500000   \n",
       "75%    32308.750000  32745.750000  32237.750000        22564.000000   \n",
       "max    43129.000000  44023.000000  43483.000000        22564.000000   \n",
       "\n",
       "       Production_Country  Release_date  Revenue       Runtime        Status  \\\n",
       "count        45174.000000  45174.000000  45174.0  45174.000000  45174.000000   \n",
       "mean          1879.379754  10930.400385      0.0     95.649275      4.994687   \n",
       "std            665.919955   4760.537303      0.0     14.308879      0.182996   \n",
       "min              0.000000      0.000000      0.0     54.000000      0.000000   \n",
       "25%           1428.000000   7427.250000      0.0     89.000000      5.000000   \n",
       "50%           2356.000000  12097.000000      0.0     93.000000      5.000000   \n",
       "75%           2356.000000  15013.000000      0.0    104.000000      5.000000   \n",
       "max           2374.000000  17247.000000      0.0    137.000000      6.000000   \n",
       "\n",
       "              Video  Average Vote    Vote Count          year         month  \n",
       "count  45174.000000  45174.000000  45174.000000  45174.000000  45174.000000  \n",
       "mean       0.004007      5.556058     11.727011   1993.537583      6.015872  \n",
       "std        0.089057      1.969620     15.940222     22.065045      3.892882  \n",
       "min        0.000000      0.000000      0.000000   1930.000000      0.000000  \n",
       "25%        0.000000      5.000000      1.000000   1981.000000      3.000000  \n",
       "50%        0.000000      6.000000      5.000000   2002.000000      6.000000  \n",
       "75%        0.000000      6.800000     15.000000   2011.000000     10.000000  \n",
       "max        2.000000      9.500000     80.000000   2020.000000     12.000000  "
      ]
     },
     "execution_count": 146,
     "metadata": {},
     "output_type": "execute_result"
    }
   ],
   "source": [
    "#### Do min max scaling on the feature set (Take ‘Genres’ as target)\n",
    "\n",
    "#defining feature'X' & target'y'\n",
    "\n",
    "y =dataset['Genres']\n",
    "\n",
    "X=dataset.drop('Genres', axis=1)\n",
    "\n",
    "#X= dataset.drop('Budget',  axis =1)\n",
    "\n",
    "X.describe()"
   ]
  },
  {
   "cell_type": "markdown",
   "id": "5c9d2526",
   "metadata": {},
   "source": [
    "#Feature Scaling using MinMax Scaler\n",
    "\n",
    "\n",
    "minmax = MinMaxScaler()\n",
    "X = minmax.fit_transform(X)\n",
    "print(X)"
   ]
  },
  {
   "cell_type": "code",
   "execution_count": 147,
   "id": "a32907c0",
   "metadata": {},
   "outputs": [],
   "source": [
    "X_train, X_test, y_train, y_test = train_test_split(X, y, random_state=42, test_size=0.20)\n",
    "\n",
    "# data normalization with sklearn\n",
    "from sklearn.preprocessing import MinMaxScaler\n",
    "\n",
    "# fit scaler on training data\n",
    "norm = MinMaxScaler().fit(X_train)\n",
    "\n",
    "# transform training data\n",
    "X_train_norm = norm.transform(X_train)\n",
    "\n",
    "# transform testing dataabs\n",
    "X_test_norm = norm.transform(X_test)"
   ]
  },
  {
   "cell_type": "code",
   "execution_count": 148,
   "id": "249ffdfe",
   "metadata": {},
   "outputs": [
    {
     "data": {
      "text/html": [
       "<div>\n",
       "<style scoped>\n",
       "    .dataframe tbody tr th:only-of-type {\n",
       "        vertical-align: middle;\n",
       "    }\n",
       "\n",
       "    .dataframe tbody tr th {\n",
       "        vertical-align: top;\n",
       "    }\n",
       "\n",
       "    .dataframe thead th {\n",
       "        text-align: right;\n",
       "    }\n",
       "</style>\n",
       "<table border=\"1\" class=\"dataframe\">\n",
       "  <thead>\n",
       "    <tr style=\"text-align: right;\">\n",
       "      <th></th>\n",
       "      <th>Adult</th>\n",
       "      <th>Budget</th>\n",
       "      <th>Id</th>\n",
       "      <th>imdb_id</th>\n",
       "      <th>Language</th>\n",
       "      <th>Movie_Name</th>\n",
       "      <th>overview</th>\n",
       "      <th>Popularity</th>\n",
       "      <th>Production_Company</th>\n",
       "      <th>Production_Country</th>\n",
       "      <th>Release_date</th>\n",
       "      <th>Revenue</th>\n",
       "      <th>Runtime</th>\n",
       "      <th>Status</th>\n",
       "      <th>Video</th>\n",
       "      <th>Average Vote</th>\n",
       "      <th>Vote Count</th>\n",
       "      <th>year</th>\n",
       "      <th>month</th>\n",
       "    </tr>\n",
       "  </thead>\n",
       "  <tbody>\n",
       "    <tr>\n",
       "      <th>count</th>\n",
       "      <td>45174.000000</td>\n",
       "      <td>45174.000000</td>\n",
       "      <td>45174.000000</td>\n",
       "      <td>45174.000000</td>\n",
       "      <td>45174.000000</td>\n",
       "      <td>45174.000000</td>\n",
       "      <td>45174.000000</td>\n",
       "      <td>45174.000000</td>\n",
       "      <td>45174.000000</td>\n",
       "      <td>45174.000000</td>\n",
       "      <td>45174.000000</td>\n",
       "      <td>45174.0</td>\n",
       "      <td>45174.000000</td>\n",
       "      <td>45174.000000</td>\n",
       "      <td>45174.000000</td>\n",
       "      <td>45174.000000</td>\n",
       "      <td>45174.000000</td>\n",
       "      <td>45174.000000</td>\n",
       "      <td>45174.000000</td>\n",
       "    </tr>\n",
       "    <tr>\n",
       "      <th>mean</th>\n",
       "      <td>0.000199</td>\n",
       "      <td>112.320494</td>\n",
       "      <td>22567.369283</td>\n",
       "      <td>22555.062425</td>\n",
       "      <td>23.579293</td>\n",
       "      <td>21533.466795</td>\n",
       "      <td>22172.122969</td>\n",
       "      <td>21123.907469</td>\n",
       "      <td>14699.741577</td>\n",
       "      <td>1879.379754</td>\n",
       "      <td>10930.400385</td>\n",
       "      <td>0.0</td>\n",
       "      <td>95.649275</td>\n",
       "      <td>4.994687</td>\n",
       "      <td>0.004007</td>\n",
       "      <td>5.556058</td>\n",
       "      <td>11.727011</td>\n",
       "      <td>1993.537583</td>\n",
       "      <td>6.015872</td>\n",
       "    </tr>\n",
       "    <tr>\n",
       "      <th>std</th>\n",
       "      <td>0.014114</td>\n",
       "      <td>273.157175</td>\n",
       "      <td>13034.221410</td>\n",
       "      <td>13031.018562</td>\n",
       "      <td>14.156463</td>\n",
       "      <td>12425.144563</td>\n",
       "      <td>12595.287509</td>\n",
       "      <td>12834.392681</td>\n",
       "      <td>7302.209577</td>\n",
       "      <td>665.919955</td>\n",
       "      <td>4760.537303</td>\n",
       "      <td>0.0</td>\n",
       "      <td>14.308879</td>\n",
       "      <td>0.182996</td>\n",
       "      <td>0.089057</td>\n",
       "      <td>1.969620</td>\n",
       "      <td>15.940222</td>\n",
       "      <td>22.065045</td>\n",
       "      <td>3.892882</td>\n",
       "    </tr>\n",
       "    <tr>\n",
       "      <th>min</th>\n",
       "      <td>0.000000</td>\n",
       "      <td>0.000000</td>\n",
       "      <td>0.000000</td>\n",
       "      <td>0.000000</td>\n",
       "      <td>0.000000</td>\n",
       "      <td>0.000000</td>\n",
       "      <td>0.000000</td>\n",
       "      <td>0.000000</td>\n",
       "      <td>0.000000</td>\n",
       "      <td>0.000000</td>\n",
       "      <td>0.000000</td>\n",
       "      <td>0.0</td>\n",
       "      <td>54.000000</td>\n",
       "      <td>0.000000</td>\n",
       "      <td>0.000000</td>\n",
       "      <td>0.000000</td>\n",
       "      <td>0.000000</td>\n",
       "      <td>1930.000000</td>\n",
       "      <td>0.000000</td>\n",
       "    </tr>\n",
       "    <tr>\n",
       "      <th>25%</th>\n",
       "      <td>0.000000</td>\n",
       "      <td>0.000000</td>\n",
       "      <td>11276.250000</td>\n",
       "      <td>11271.250000</td>\n",
       "      <td>18.000000</td>\n",
       "      <td>10739.250000</td>\n",
       "      <td>11280.250000</td>\n",
       "      <td>9896.250000</td>\n",
       "      <td>8457.250000</td>\n",
       "      <td>1428.000000</td>\n",
       "      <td>7427.250000</td>\n",
       "      <td>0.0</td>\n",
       "      <td>89.000000</td>\n",
       "      <td>5.000000</td>\n",
       "      <td>0.000000</td>\n",
       "      <td>5.000000</td>\n",
       "      <td>1.000000</td>\n",
       "      <td>1981.000000</td>\n",
       "      <td>3.000000</td>\n",
       "    </tr>\n",
       "    <tr>\n",
       "      <th>50%</th>\n",
       "      <td>0.000000</td>\n",
       "      <td>0.000000</td>\n",
       "      <td>22564.500000</td>\n",
       "      <td>22555.500000</td>\n",
       "      <td>18.000000</td>\n",
       "      <td>21589.500000</td>\n",
       "      <td>22561.500000</td>\n",
       "      <td>21049.500000</td>\n",
       "      <td>15819.500000</td>\n",
       "      <td>2356.000000</td>\n",
       "      <td>12097.000000</td>\n",
       "      <td>0.0</td>\n",
       "      <td>93.000000</td>\n",
       "      <td>5.000000</td>\n",
       "      <td>0.000000</td>\n",
       "      <td>6.000000</td>\n",
       "      <td>5.000000</td>\n",
       "      <td>2002.000000</td>\n",
       "      <td>6.000000</td>\n",
       "    </tr>\n",
       "    <tr>\n",
       "      <th>75%</th>\n",
       "      <td>0.000000</td>\n",
       "      <td>0.000000</td>\n",
       "      <td>33855.750000</td>\n",
       "      <td>33839.750000</td>\n",
       "      <td>18.000000</td>\n",
       "      <td>32308.750000</td>\n",
       "      <td>32745.750000</td>\n",
       "      <td>32237.750000</td>\n",
       "      <td>22564.000000</td>\n",
       "      <td>2356.000000</td>\n",
       "      <td>15013.000000</td>\n",
       "      <td>0.0</td>\n",
       "      <td>104.000000</td>\n",
       "      <td>5.000000</td>\n",
       "      <td>0.000000</td>\n",
       "      <td>6.800000</td>\n",
       "      <td>15.000000</td>\n",
       "      <td>2011.000000</td>\n",
       "      <td>10.000000</td>\n",
       "    </tr>\n",
       "    <tr>\n",
       "      <th>max</th>\n",
       "      <td>1.000000</td>\n",
       "      <td>1220.000000</td>\n",
       "      <td>45143.000000</td>\n",
       "      <td>45127.000000</td>\n",
       "      <td>89.000000</td>\n",
       "      <td>43129.000000</td>\n",
       "      <td>44023.000000</td>\n",
       "      <td>43483.000000</td>\n",
       "      <td>22564.000000</td>\n",
       "      <td>2374.000000</td>\n",
       "      <td>17247.000000</td>\n",
       "      <td>0.0</td>\n",
       "      <td>137.000000</td>\n",
       "      <td>6.000000</td>\n",
       "      <td>2.000000</td>\n",
       "      <td>9.500000</td>\n",
       "      <td>80.000000</td>\n",
       "      <td>2020.000000</td>\n",
       "      <td>12.000000</td>\n",
       "    </tr>\n",
       "  </tbody>\n",
       "</table>\n",
       "</div>"
      ],
      "text/plain": [
       "              Adult        Budget            Id       imdb_id      Language  \\\n",
       "count  45174.000000  45174.000000  45174.000000  45174.000000  45174.000000   \n",
       "mean       0.000199    112.320494  22567.369283  22555.062425     23.579293   \n",
       "std        0.014114    273.157175  13034.221410  13031.018562     14.156463   \n",
       "min        0.000000      0.000000      0.000000      0.000000      0.000000   \n",
       "25%        0.000000      0.000000  11276.250000  11271.250000     18.000000   \n",
       "50%        0.000000      0.000000  22564.500000  22555.500000     18.000000   \n",
       "75%        0.000000      0.000000  33855.750000  33839.750000     18.000000   \n",
       "max        1.000000   1220.000000  45143.000000  45127.000000     89.000000   \n",
       "\n",
       "         Movie_Name      overview    Popularity  Production_Company  \\\n",
       "count  45174.000000  45174.000000  45174.000000        45174.000000   \n",
       "mean   21533.466795  22172.122969  21123.907469        14699.741577   \n",
       "std    12425.144563  12595.287509  12834.392681         7302.209577   \n",
       "min        0.000000      0.000000      0.000000            0.000000   \n",
       "25%    10739.250000  11280.250000   9896.250000         8457.250000   \n",
       "50%    21589.500000  22561.500000  21049.500000        15819.500000   \n",
       "75%    32308.750000  32745.750000  32237.750000        22564.000000   \n",
       "max    43129.000000  44023.000000  43483.000000        22564.000000   \n",
       "\n",
       "       Production_Country  Release_date  Revenue       Runtime        Status  \\\n",
       "count        45174.000000  45174.000000  45174.0  45174.000000  45174.000000   \n",
       "mean          1879.379754  10930.400385      0.0     95.649275      4.994687   \n",
       "std            665.919955   4760.537303      0.0     14.308879      0.182996   \n",
       "min              0.000000      0.000000      0.0     54.000000      0.000000   \n",
       "25%           1428.000000   7427.250000      0.0     89.000000      5.000000   \n",
       "50%           2356.000000  12097.000000      0.0     93.000000      5.000000   \n",
       "75%           2356.000000  15013.000000      0.0    104.000000      5.000000   \n",
       "max           2374.000000  17247.000000      0.0    137.000000      6.000000   \n",
       "\n",
       "              Video  Average Vote    Vote Count          year         month  \n",
       "count  45174.000000  45174.000000  45174.000000  45174.000000  45174.000000  \n",
       "mean       0.004007      5.556058     11.727011   1993.537583      6.015872  \n",
       "std        0.089057      1.969620     15.940222     22.065045      3.892882  \n",
       "min        0.000000      0.000000      0.000000   1930.000000      0.000000  \n",
       "25%        0.000000      5.000000      1.000000   1981.000000      3.000000  \n",
       "50%        0.000000      6.000000      5.000000   2002.000000      6.000000  \n",
       "75%        0.000000      6.800000     15.000000   2011.000000     10.000000  \n",
       "max        2.000000      9.500000     80.000000   2020.000000     12.000000  "
      ]
     },
     "execution_count": 148,
     "metadata": {},
     "output_type": "execute_result"
    }
   ],
   "source": [
    "X.describe()"
   ]
  },
  {
   "cell_type": "markdown",
   "id": "3747169c",
   "metadata": {},
   "source": [
    "###  5(2). Standardization/ Z - Score Approach :-"
   ]
  },
  {
   "cell_type": "markdown",
   "id": "90af50fb",
   "metadata": {},
   "source": [
    "######  Standard Scaler helps to get standardized distribution, with a zero mean and standard deviation of one (unit variance).\n",
    "\n",
    "\n",
    "###### It standardizes features by subtracting the mean value from the feature and then dividing the result by feature standard deviation. \n",
    "\n",
    "    \n",
    "                            \n",
    "                                    Z = (X - u)/ S\n",
    "                                 \n",
    "                    Where,\n",
    "\n",
    "                                z is scaled data.\n",
    "                                x is to be scaled data.\n",
    "                                u is the mean of the training samples\n",
    "                                s is the standard deviation of the training samples.             \n",
    "                 \n",
    "                 \n",
    "######   Sklearn preprocessing supports StandardScaler() method to achieve this directly in merely 2-3 steps."
   ]
  },
  {
   "attachments": {
    "image.png": {
     "image/png": "[encoded data removed]"
    }
   },
   "cell_type": "markdown",
   "id": "be9c87d7",
   "metadata": {},
   "source": [
    "![image.png](attachment:image.png)"
   ]
  },
  {
   "cell_type": "code",
   "execution_count": null,
   "id": "3ba708fc",
   "metadata": {},
   "outputs": [],
   "source": []
  },
  {
   "cell_type": "markdown",
   "id": "c138335c",
   "metadata": {},
   "source": [
    "Implementing Feature Scaling by Standardization in Python "
   ]
  },
  {
   "cell_type": "markdown",
   "id": "93b85989",
   "metadata": {},
   "source": [
    "from sklearn import preprocessing\n",
    "standardisation = preprocessing.StandardScaler()\n",
    "X = standardisation.fit_transform(X)\n",
    "X = pd.DataFrame(X)\n",
    "X.describe()"
   ]
  },
  {
   "cell_type": "markdown",
   "id": "0fa1a4e3",
   "metadata": {},
   "source": [
    "corrmatrix = dataset.corr()\n",
    "plt.subplots(figsize=(15,10))\n",
    "sns.heatmap(corrmatrix, vmin=-0.4, vmax=1, annot=True, linewidths=0.2, cmap='YlGnBu')"
   ]
  },
  {
   "cell_type": "code",
   "execution_count": 149,
   "id": "2ffdad9c",
   "metadata": {},
   "outputs": [],
   "source": [
    "# data standardization with  sklearn\n",
    "from sklearn.preprocessing import StandardScaler\n",
    "\n",
    "# copy of datasets\n",
    "X_train_stand = X_train.copy()\n",
    "X_test_stand = X_test.copy()\n",
    "\n",
    "# numerical features\n",
    "num_cols = ['Revenue','Runtime','Vote Count','Average Vote']\n",
    "\n",
    "# apply standardization on numerical features\n",
    "for i in num_cols:\n",
    "    \n",
    "    # fit on training data column\n",
    "    scale = StandardScaler().fit(X_train_stand[[i]])\n",
    "    \n",
    "    # transform the training data column\n",
    "    X_train_stand[i] = scale.transform(X_train_stand[[i]])\n",
    "    \n",
    "    # transform the testing data column\n",
    "    X_test_stand[i] = scale.transform(X_test_stand[[i]])"
   ]
  },
  {
   "cell_type": "code",
   "execution_count": 150,
   "id": "03f82428",
   "metadata": {},
   "outputs": [
    {
     "data": {
      "text/html": [
       "<div>\n",
       "<style scoped>\n",
       "    .dataframe tbody tr th:only-of-type {\n",
       "        vertical-align: middle;\n",
       "    }\n",
       "\n",
       "    .dataframe tbody tr th {\n",
       "        vertical-align: top;\n",
       "    }\n",
       "\n",
       "    .dataframe thead th {\n",
       "        text-align: right;\n",
       "    }\n",
       "</style>\n",
       "<table border=\"1\" class=\"dataframe\">\n",
       "  <thead>\n",
       "    <tr style=\"text-align: right;\">\n",
       "      <th></th>\n",
       "      <th>Adult</th>\n",
       "      <th>Budget</th>\n",
       "      <th>Id</th>\n",
       "      <th>imdb_id</th>\n",
       "      <th>Language</th>\n",
       "      <th>Movie_Name</th>\n",
       "      <th>overview</th>\n",
       "      <th>Popularity</th>\n",
       "      <th>Production_Company</th>\n",
       "      <th>Production_Country</th>\n",
       "      <th>Release_date</th>\n",
       "      <th>Revenue</th>\n",
       "      <th>Runtime</th>\n",
       "      <th>Status</th>\n",
       "      <th>Video</th>\n",
       "      <th>Average Vote</th>\n",
       "      <th>Vote Count</th>\n",
       "      <th>year</th>\n",
       "      <th>month</th>\n",
       "    </tr>\n",
       "  </thead>\n",
       "  <tbody>\n",
       "    <tr>\n",
       "      <th>count</th>\n",
       "      <td>36139.000000</td>\n",
       "      <td>36139.000000</td>\n",
       "      <td>36139.000000</td>\n",
       "      <td>36139.000000</td>\n",
       "      <td>36139.000000</td>\n",
       "      <td>36139.000000</td>\n",
       "      <td>36139.000000</td>\n",
       "      <td>36139.000000</td>\n",
       "      <td>36139.000000</td>\n",
       "      <td>36139.000000</td>\n",
       "      <td>36139.000000</td>\n",
       "      <td>36139.0</td>\n",
       "      <td>3.613900e+04</td>\n",
       "      <td>36139.000000</td>\n",
       "      <td>36139.000000</td>\n",
       "      <td>3.613900e+04</td>\n",
       "      <td>3.613900e+04</td>\n",
       "      <td>36139.000000</td>\n",
       "      <td>36139.000000</td>\n",
       "    </tr>\n",
       "    <tr>\n",
       "      <th>mean</th>\n",
       "      <td>0.000221</td>\n",
       "      <td>112.038186</td>\n",
       "      <td>22601.658181</td>\n",
       "      <td>22533.345306</td>\n",
       "      <td>23.636957</td>\n",
       "      <td>21543.558123</td>\n",
       "      <td>22106.750270</td>\n",
       "      <td>21112.475802</td>\n",
       "      <td>14721.508647</td>\n",
       "      <td>1877.527187</td>\n",
       "      <td>10920.146324</td>\n",
       "      <td>0.0</td>\n",
       "      <td>5.426173e-16</td>\n",
       "      <td>4.994466</td>\n",
       "      <td>0.004123</td>\n",
       "      <td>5.081239e-18</td>\n",
       "      <td>1.923498e-16</td>\n",
       "      <td>1993.510540</td>\n",
       "      <td>6.016547</td>\n",
       "    </tr>\n",
       "    <tr>\n",
       "      <th>std</th>\n",
       "      <td>0.014877</td>\n",
       "      <td>272.716642</td>\n",
       "      <td>13013.721973</td>\n",
       "      <td>13039.874496</td>\n",
       "      <td>14.233139</td>\n",
       "      <td>12430.276808</td>\n",
       "      <td>12610.356947</td>\n",
       "      <td>12831.812771</td>\n",
       "      <td>7294.244744</td>\n",
       "      <td>667.146175</td>\n",
       "      <td>4766.216513</td>\n",
       "      <td>0.0</td>\n",
       "      <td>1.000014e+00</td>\n",
       "      <td>0.183503</td>\n",
       "      <td>0.090562</td>\n",
       "      <td>1.000014e+00</td>\n",
       "      <td>1.000014e+00</td>\n",
       "      <td>22.081313</td>\n",
       "      <td>3.900267</td>\n",
       "    </tr>\n",
       "    <tr>\n",
       "      <th>min</th>\n",
       "      <td>0.000000</td>\n",
       "      <td>0.000000</td>\n",
       "      <td>0.000000</td>\n",
       "      <td>0.000000</td>\n",
       "      <td>0.000000</td>\n",
       "      <td>0.000000</td>\n",
       "      <td>0.000000</td>\n",
       "      <td>0.000000</td>\n",
       "      <td>0.000000</td>\n",
       "      <td>0.000000</td>\n",
       "      <td>2.000000</td>\n",
       "      <td>0.0</td>\n",
       "      <td>-2.908136e+00</td>\n",
       "      <td>0.000000</td>\n",
       "      <td>0.000000</td>\n",
       "      <td>-2.823321e+00</td>\n",
       "      <td>-7.376621e-01</td>\n",
       "      <td>1930.000000</td>\n",
       "      <td>0.000000</td>\n",
       "    </tr>\n",
       "    <tr>\n",
       "      <th>25%</th>\n",
       "      <td>0.000000</td>\n",
       "      <td>0.000000</td>\n",
       "      <td>11317.500000</td>\n",
       "      <td>11201.500000</td>\n",
       "      <td>18.000000</td>\n",
       "      <td>10743.500000</td>\n",
       "      <td>11184.500000</td>\n",
       "      <td>9891.000000</td>\n",
       "      <td>8523.500000</td>\n",
       "      <td>1428.000000</td>\n",
       "      <td>7395.000000</td>\n",
       "      <td>0.0</td>\n",
       "      <td>-4.645098e-01</td>\n",
       "      <td>5.000000</td>\n",
       "      <td>0.000000</td>\n",
       "      <td>-2.810151e-01</td>\n",
       "      <td>-6.745234e-01</td>\n",
       "      <td>1980.000000</td>\n",
       "      <td>3.000000</td>\n",
       "    </tr>\n",
       "    <tr>\n",
       "      <th>50%</th>\n",
       "      <td>0.000000</td>\n",
       "      <td>0.000000</td>\n",
       "      <td>22671.000000</td>\n",
       "      <td>22520.000000</td>\n",
       "      <td>18.000000</td>\n",
       "      <td>21588.000000</td>\n",
       "      <td>22477.000000</td>\n",
       "      <td>20997.000000</td>\n",
       "      <td>15880.000000</td>\n",
       "      <td>2356.000000</td>\n",
       "      <td>12094.000000</td>\n",
       "      <td>0.0</td>\n",
       "      <td>-1.852383e-01</td>\n",
       "      <td>5.000000</td>\n",
       "      <td>0.000000</td>\n",
       "      <td>2.274460e-01</td>\n",
       "      <td>-4.219685e-01</td>\n",
       "      <td>2002.000000</td>\n",
       "      <td>6.000000</td>\n",
       "    </tr>\n",
       "    <tr>\n",
       "      <th>75%</th>\n",
       "      <td>0.000000</td>\n",
       "      <td>0.000000</td>\n",
       "      <td>33873.500000</td>\n",
       "      <td>33776.000000</td>\n",
       "      <td>18.000000</td>\n",
       "      <td>32332.500000</td>\n",
       "      <td>32671.500000</td>\n",
       "      <td>32260.500000</td>\n",
       "      <td>22564.000000</td>\n",
       "      <td>2356.000000</td>\n",
       "      <td>15013.000000</td>\n",
       "      <td>0.0</td>\n",
       "      <td>5.827586e-01</td>\n",
       "      <td>5.000000</td>\n",
       "      <td>0.000000</td>\n",
       "      <td>6.342150e-01</td>\n",
       "      <td>2.094188e-01</td>\n",
       "      <td>2011.000000</td>\n",
       "      <td>10.000000</td>\n",
       "    </tr>\n",
       "    <tr>\n",
       "      <th>max</th>\n",
       "      <td>1.000000</td>\n",
       "      <td>1220.000000</td>\n",
       "      <td>45143.000000</td>\n",
       "      <td>45127.000000</td>\n",
       "      <td>89.000000</td>\n",
       "      <td>43128.000000</td>\n",
       "      <td>44023.000000</td>\n",
       "      <td>43483.000000</td>\n",
       "      <td>22564.000000</td>\n",
       "      <td>2374.000000</td>\n",
       "      <td>17247.000000</td>\n",
       "      <td>0.0</td>\n",
       "      <td>2.886749e+00</td>\n",
       "      <td>6.000000</td>\n",
       "      <td>2.000000</td>\n",
       "      <td>2.007060e+00</td>\n",
       "      <td>4.313436e+00</td>\n",
       "      <td>2020.000000</td>\n",
       "      <td>12.000000</td>\n",
       "    </tr>\n",
       "  </tbody>\n",
       "</table>\n",
       "</div>"
      ],
      "text/plain": [
       "              Adult        Budget            Id       imdb_id      Language  \\\n",
       "count  36139.000000  36139.000000  36139.000000  36139.000000  36139.000000   \n",
       "mean       0.000221    112.038186  22601.658181  22533.345306     23.636957   \n",
       "std        0.014877    272.716642  13013.721973  13039.874496     14.233139   \n",
       "min        0.000000      0.000000      0.000000      0.000000      0.000000   \n",
       "25%        0.000000      0.000000  11317.500000  11201.500000     18.000000   \n",
       "50%        0.000000      0.000000  22671.000000  22520.000000     18.000000   \n",
       "75%        0.000000      0.000000  33873.500000  33776.000000     18.000000   \n",
       "max        1.000000   1220.000000  45143.000000  45127.000000     89.000000   \n",
       "\n",
       "         Movie_Name      overview    Popularity  Production_Company  \\\n",
       "count  36139.000000  36139.000000  36139.000000        36139.000000   \n",
       "mean   21543.558123  22106.750270  21112.475802        14721.508647   \n",
       "std    12430.276808  12610.356947  12831.812771         7294.244744   \n",
       "min        0.000000      0.000000      0.000000            0.000000   \n",
       "25%    10743.500000  11184.500000   9891.000000         8523.500000   \n",
       "50%    21588.000000  22477.000000  20997.000000        15880.000000   \n",
       "75%    32332.500000  32671.500000  32260.500000        22564.000000   \n",
       "max    43128.000000  44023.000000  43483.000000        22564.000000   \n",
       "\n",
       "       Production_Country  Release_date  Revenue       Runtime        Status  \\\n",
       "count        36139.000000  36139.000000  36139.0  3.613900e+04  36139.000000   \n",
       "mean          1877.527187  10920.146324      0.0  5.426173e-16      4.994466   \n",
       "std            667.146175   4766.216513      0.0  1.000014e+00      0.183503   \n",
       "min              0.000000      2.000000      0.0 -2.908136e+00      0.000000   \n",
       "25%           1428.000000   7395.000000      0.0 -4.645098e-01      5.000000   \n",
       "50%           2356.000000  12094.000000      0.0 -1.852383e-01      5.000000   \n",
       "75%           2356.000000  15013.000000      0.0  5.827586e-01      5.000000   \n",
       "max           2374.000000  17247.000000      0.0  2.886749e+00      6.000000   \n",
       "\n",
       "              Video  Average Vote    Vote Count          year         month  \n",
       "count  36139.000000  3.613900e+04  3.613900e+04  36139.000000  36139.000000  \n",
       "mean       0.004123  5.081239e-18  1.923498e-16   1993.510540      6.016547  \n",
       "std        0.090562  1.000014e+00  1.000014e+00     22.081313      3.900267  \n",
       "min        0.000000 -2.823321e+00 -7.376621e-01   1930.000000      0.000000  \n",
       "25%        0.000000 -2.810151e-01 -6.745234e-01   1980.000000      3.000000  \n",
       "50%        0.000000  2.274460e-01 -4.219685e-01   2002.000000      6.000000  \n",
       "75%        0.000000  6.342150e-01  2.094188e-01   2011.000000     10.000000  \n",
       "max        2.000000  2.007060e+00  4.313436e+00   2020.000000     12.000000  "
      ]
     },
     "execution_count": 150,
     "metadata": {},
     "output_type": "execute_result"
    }
   ],
   "source": [
    "X_train_stand.describe()"
   ]
  },
  {
   "cell_type": "code",
   "execution_count": null,
   "id": "e462ffae",
   "metadata": {},
   "outputs": [],
   "source": []
  },
  {
   "cell_type": "markdown",
   "id": "cdd738a1",
   "metadata": {},
   "source": [
    "##  Data Modelling :-"
   ]
  },
  {
   "cell_type": "code",
   "execution_count": 151,
   "id": "6280d2e8",
   "metadata": {},
   "outputs": [],
   "source": [
    "from sklearn.model_selection import train_test_split\n",
    "from sklearn import linear_model\n",
    "from sklearn.metrics import mean_squared_error\n",
    "from sklearn.metrics import r2_score"
   ]
  },
  {
   "cell_type": "code",
   "execution_count": 152,
   "id": "685d7622",
   "metadata": {},
   "outputs": [],
   "source": [
    "y = dataset['Genres']\n",
    "X = dataset.drop('Genres', axis=1)\n",
    "\n"
   ]
  },
  {
   "cell_type": "code",
   "execution_count": 153,
   "id": "4d9d900e",
   "metadata": {},
   "outputs": [],
   "source": [
    "y = le.fit_transform(y)"
   ]
  },
  {
   "cell_type": "markdown",
   "id": "e1d727f1",
   "metadata": {},
   "source": [
    "###  Splitting data into Train-Test sets :-\n",
    "\n",
    "This is usually the last step of data preprocessing just before training supervised machine learning model. \n",
    "\n",
    "In this step, given data set, after undergoing all cleaning and transformation is divided into two parts – \n",
    "               1. one for training of machine learning model and \n",
    "               2. second for testing the trained model.\n",
    "               \n",
    "               \n",
    "While splitting data set, care has to be taken that there is no loss of information in training data set.               "
   ]
  },
  {
   "cell_type": "code",
   "execution_count": 154,
   "id": "18ef26a5",
   "metadata": {},
   "outputs": [],
   "source": [
    "X_train, X_test, y_train, y_test = train_test_split(X, y, random_state=42, test_size=0.20)"
   ]
  },
  {
   "cell_type": "code",
   "execution_count": 155,
   "id": "f61e2a9c",
   "metadata": {},
   "outputs": [
    {
     "data": {
      "text/plain": [
       "(36139, 19)"
      ]
     },
     "execution_count": 155,
     "metadata": {},
     "output_type": "execute_result"
    }
   ],
   "source": [
    "X_train.shape"
   ]
  },
  {
   "cell_type": "markdown",
   "id": "36b0c22f",
   "metadata": {},
   "source": [
    "##  Classification Models :-"
   ]
  },
  {
   "cell_type": "markdown",
   "id": "de01113f",
   "metadata": {},
   "source": [
    "  ###  1. Logistic Regression Model:"
   ]
  },
  {
   "cell_type": "code",
   "execution_count": 156,
   "id": "bbd670a3",
   "metadata": {},
   "outputs": [],
   "source": [
    "log_reg = LogisticRegression()\n",
    "model = log_reg.fit(X_train, y_train)\n",
    "y_pred=log_reg.predict(X_test)\n"
   ]
  },
  {
   "cell_type": "code",
   "execution_count": 157,
   "id": "7e825f42",
   "metadata": {},
   "outputs": [
    {
     "name": "stdout",
     "output_type": "stream",
     "text": [
      "Accuracy of Logistic Regression model is : 14.089651355838406\n",
      "Precision is : 0.05185175983286693\n",
      "Recall is :  0.14089651355838406\n",
      "F1 Score is : 0.07064083658360572\n"
     ]
    }
   ],
   "source": [
    "print('Accuracy of Logistic Regression model is :',accuracy_score(y_test,y_pred)*100)\n",
    "print(\"Precision is :\",precision_score(y_test,y_pred,average='weighted'))\n",
    "print(\"Recall is : \",recall_score(y_test,y_pred,average='weighted'))\n",
    "print(\"F1 Score is :\",f1_score(y_test,y_pred,average='weighted'))"
   ]
  },
  {
   "cell_type": "code",
   "execution_count": null,
   "id": "a16246ca",
   "metadata": {},
   "outputs": [],
   "source": []
  },
  {
   "cell_type": "markdown",
   "id": "038ddcd3",
   "metadata": {},
   "source": [
    "## 2. Linear Regression Model"
   ]
  },
  {
   "cell_type": "code",
   "execution_count": 158,
   "id": "125ef8da",
   "metadata": {},
   "outputs": [
    {
     "name": "stdout",
     "output_type": "stream",
     "text": [
      "MSE is: 962701.0713053072\n",
      "R-squared value is: 0.0497070569390593\n"
     ]
    }
   ],
   "source": [
    "X_train,X_test,y_train,y_test=train_test_split(X,y,random_state=42,test_size=0.2)\n",
    "lr=linear_model.LinearRegression()\n",
    "model=lr.fit(X_train,y_train)\n",
    "predictions=model.predict(X_test) \n",
    "print('MSE is:', mean_squared_error(y_test,predictions)) \n",
    "print('R-squared value is:' ,r2_score(y_test,predictions))"
   ]
  },
  {
   "cell_type": "markdown",
   "id": "368b5134",
   "metadata": {},
   "source": [
    "### 3. K- Nearest Neighbor - (KNN)  Model"
   ]
  },
  {
   "cell_type": "code",
   "execution_count": 159,
   "id": "e15ad3d8",
   "metadata": {},
   "outputs": [],
   "source": [
    "#from sklearn.neighbors import KNeighborsClassifier\n",
    "acc_values=[]\n",
    "neighbors=np.arange(3,20)\n",
    "for k in neighbors:\n",
    "    classifier=KNeighborsClassifier(n_neighbors=k, metric='minkowski')\n",
    "    classifier.fit(X_train,y_train)\n",
    "    y_pred=classifier.predict(X_test)\n",
    "    acc=accuracy_score(y_test,y_pred)\n",
    "    acc_values.append(acc)"
   ]
  },
  {
   "cell_type": "code",
   "execution_count": 160,
   "id": "ef97fe88",
   "metadata": {},
   "outputs": [
    {
     "data": {
      "text/plain": [
       "[0.0509131156613171,\n",
       " 0.054122855561704486,\n",
       " 0.06463752075262867,\n",
       " 0.06884338682899833,\n",
       " 0.07548422800221362,\n",
       " 0.08323187603763144,\n",
       " 0.0884338682899834,\n",
       " 0.0945213060320974,\n",
       " 0.09839513004980631,\n",
       " 0.10105146651909241,\n",
       " 0.10381848367459878,\n",
       " 0.10514665190924184,\n",
       " 0.10913115661317101,\n",
       " 0.1089097952407305,\n",
       " 0.11123408965135584,\n",
       " 0.11267293857221915,\n",
       " 0.11455451023796348]"
      ]
     },
     "execution_count": 160,
     "metadata": {},
     "output_type": "execute_result"
    }
   ],
   "source": [
    "acc_values"
   ]
  },
  {
   "cell_type": "code",
   "execution_count": 161,
   "id": "81965fdc",
   "metadata": {},
   "outputs": [
    {
     "data": {
      "text/plain": [
       "[<matplotlib.lines.Line2D at 0x24703d6ac10>]"
      ]
     },
     "execution_count": 161,
     "metadata": {},
     "output_type": "execute_result"
    },
    {
     "data": {
      "image/png": "[encoded data removed]",
      "text/plain": [
       "<Figure size 432x288 with 1 Axes>"
      ]
     },
     "metadata": {
      "needs_background": "light"
     },
     "output_type": "display_data"
    }
   ],
   "source": [
    "plt.plot(neighbors, acc_values,'o-')     #graph showing accuracy against knn"
   ]
  },
  {
   "cell_type": "markdown",
   "id": "9df61347",
   "metadata": {},
   "source": [
    "#####   Accuacy of KNN model is seen maximum at 20."
   ]
  },
  {
   "cell_type": "markdown",
   "id": "15f5b2d4",
   "metadata": {},
   "source": [
    "classifier=KNeighborsClassifier(n_neighbors=20, metric='minkowski')\n",
    "classifier.fit(X_train,y_train.values.ravel())\n",
    "y_pred=classifier.predict(X_test)"
   ]
  },
  {
   "cell_type": "markdown",
   "id": "68ed202d",
   "metadata": {},
   "source": [
    "print('Accuracy is:', accuracy_score(y_test,y_pred))"
   ]
  },
  {
   "cell_type": "code",
   "execution_count": null,
   "id": "cac13aa8",
   "metadata": {},
   "outputs": [],
   "source": []
  },
  {
   "cell_type": "code",
   "execution_count": 162,
   "id": "3dd4e879",
   "metadata": {},
   "outputs": [
    {
     "data": {
      "text/html": [
       "<div>\n",
       "<style scoped>\n",
       "    .dataframe tbody tr th:only-of-type {\n",
       "        vertical-align: middle;\n",
       "    }\n",
       "\n",
       "    .dataframe tbody tr th {\n",
       "        vertical-align: top;\n",
       "    }\n",
       "\n",
       "    .dataframe thead th {\n",
       "        text-align: right;\n",
       "    }\n",
       "</style>\n",
       "<table border=\"1\" class=\"dataframe\">\n",
       "  <thead>\n",
       "    <tr style=\"text-align: right;\">\n",
       "      <th></th>\n",
       "      <th>RMSE</th>\n",
       "    </tr>\n",
       "  </thead>\n",
       "  <tbody>\n",
       "    <tr>\n",
       "      <th>Original</th>\n",
       "      <td>1028.901642</td>\n",
       "    </tr>\n",
       "    <tr>\n",
       "      <th>Normalized</th>\n",
       "      <td>1018.454044</td>\n",
       "    </tr>\n",
       "    <tr>\n",
       "      <th>Standardized</th>\n",
       "      <td>1028.901642</td>\n",
       "    </tr>\n",
       "  </tbody>\n",
       "</table>\n",
       "</div>"
      ],
      "text/plain": [
       "                     RMSE\n",
       "Original      1028.901642\n",
       "Normalized    1018.454044\n",
       "Standardized  1028.901642"
      ]
     },
     "execution_count": 162,
     "metadata": {},
     "output_type": "execute_result"
    }
   ],
   "source": [
    "# training a KNN model\n",
    "from sklearn.neighbors import KNeighborsRegressor\n",
    "# measuring RMSE score\n",
    "from sklearn.metrics import mean_squared_error\n",
    "\n",
    "# knn \n",
    "knn = KNeighborsRegressor(n_neighbors=7)\n",
    "\n",
    "rmse = []\n",
    "\n",
    "# raw, normalized and standardized training and testing data\n",
    "trainX = [X_train, X_train_norm, X_train_stand]\n",
    "testX = [X_test, X_test_norm, X_test_stand]\n",
    "\n",
    "# model fitting and measuring RMSE\n",
    "for i in range(len(trainX)):\n",
    "    \n",
    "    # fit\n",
    "    knn.fit(trainX[i],y_train)\n",
    "    # predict\n",
    "    pred = knn.predict(testX[i])\n",
    "    # RMSE\n",
    "    rmse.append(np.sqrt(mean_squared_error(y_test,pred)))\n",
    "\n",
    "# visualizing the result\n",
    "df_knn = pd.DataFrame({'RMSE':rmse},index=['Original','Normalized','Standardized'])\n",
    "df_knn"
   ]
  },
  {
   "cell_type": "code",
   "execution_count": null,
   "id": "7f326619",
   "metadata": {},
   "outputs": [],
   "source": []
  },
  {
   "cell_type": "code",
   "execution_count": 163,
   "id": "9e54ad0a",
   "metadata": {},
   "outputs": [],
   "source": [
    "from sklearn import svm \n",
    "from sklearn.svm import SVC"
   ]
  },
  {
   "cell_type": "markdown",
   "id": "35adf4dc",
   "metadata": {},
   "source": [
    "#### 4. Support Vector Machine Model  (SVC) :-"
   ]
  },
  {
   "cell_type": "code",
   "execution_count": 164,
   "id": "96589875",
   "metadata": {},
   "outputs": [
    {
     "data": {
      "text/html": [
       "<div>\n",
       "<style scoped>\n",
       "    .dataframe tbody tr th:only-of-type {\n",
       "        vertical-align: middle;\n",
       "    }\n",
       "\n",
       "    .dataframe tbody tr th {\n",
       "        vertical-align: top;\n",
       "    }\n",
       "\n",
       "    .dataframe thead th {\n",
       "        text-align: right;\n",
       "    }\n",
       "</style>\n",
       "<table border=\"1\" class=\"dataframe\">\n",
       "  <thead>\n",
       "    <tr style=\"text-align: right;\">\n",
       "      <th></th>\n",
       "      <th>RMSE</th>\n",
       "    </tr>\n",
       "  </thead>\n",
       "  <tbody>\n",
       "    <tr>\n",
       "      <th>Original</th>\n",
       "      <td>993.636888</td>\n",
       "    </tr>\n",
       "    <tr>\n",
       "      <th>Normalized</th>\n",
       "      <td>990.573322</td>\n",
       "    </tr>\n",
       "    <tr>\n",
       "      <th>Standardized</th>\n",
       "      <td>993.637270</td>\n",
       "    </tr>\n",
       "  </tbody>\n",
       "</table>\n",
       "</div>"
      ],
      "text/plain": [
       "                    RMSE\n",
       "Original      993.636888\n",
       "Normalized    990.573322\n",
       "Standardized  993.637270"
      ]
     },
     "execution_count": 164,
     "metadata": {},
     "output_type": "execute_result"
    }
   ],
   "source": [
    "# training an SVR model\n",
    "from  sklearn.svm import SVR\n",
    "# measuring RMSE score\n",
    "from sklearn.metrics import mean_squared_error\n",
    "\n",
    "# SVR\n",
    "svr = SVR(kernel='rbf',C=5)\n",
    "\n",
    "rmse = []\n",
    "\n",
    "# raw, normalized and standardized training and testing data\n",
    "trainX = [X_train, X_train_norm, X_train_stand]\n",
    "testX = [X_test, X_test_norm, X_test_stand]\n",
    "\n",
    "# model fitting and measuring RMSE\n",
    "for i in range(len(trainX)):\n",
    "    \n",
    "    # fit\n",
    "    svr.fit(trainX[i],y_train)\n",
    "    # predict\n",
    "    pred = svr.predict(testX[i])\n",
    "    # RMSE\n",
    "    rmse.append(np.sqrt(mean_squared_error(y_test,pred)))\n",
    "\n",
    "# visualizing the result    \n",
    "df_svr = pd.DataFrame({'RMSE':rmse},index=['Original','Normalized','Standardized'])\n",
    "df_svr"
   ]
  },
  {
   "cell_type": "code",
   "execution_count": null,
   "id": "cc9bbf6a",
   "metadata": {},
   "outputs": [],
   "source": []
  },
  {
   "cell_type": "markdown",
   "id": "306852fc",
   "metadata": {},
   "source": [
    "#### 5. Decision Tree Model :-"
   ]
  },
  {
   "cell_type": "code",
   "execution_count": 165,
   "id": "089cfb25",
   "metadata": {},
   "outputs": [
    {
     "data": {
      "text/html": [
       "<div>\n",
       "<style scoped>\n",
       "    .dataframe tbody tr th:only-of-type {\n",
       "        vertical-align: middle;\n",
       "    }\n",
       "\n",
       "    .dataframe tbody tr th {\n",
       "        vertical-align: top;\n",
       "    }\n",
       "\n",
       "    .dataframe thead th {\n",
       "        text-align: right;\n",
       "    }\n",
       "</style>\n",
       "<table border=\"1\" class=\"dataframe\">\n",
       "  <thead>\n",
       "    <tr style=\"text-align: right;\">\n",
       "      <th></th>\n",
       "      <th>RMSE</th>\n",
       "    </tr>\n",
       "  </thead>\n",
       "  <tbody>\n",
       "    <tr>\n",
       "      <th>Original</th>\n",
       "      <td>1007.493524</td>\n",
       "    </tr>\n",
       "    <tr>\n",
       "      <th>Normalized</th>\n",
       "      <td>1007.272031</td>\n",
       "    </tr>\n",
       "    <tr>\n",
       "      <th>Standardized</th>\n",
       "      <td>1007.657659</td>\n",
       "    </tr>\n",
       "  </tbody>\n",
       "</table>\n",
       "</div>"
      ],
      "text/plain": [
       "                     RMSE\n",
       "Original      1007.493524\n",
       "Normalized    1007.272031\n",
       "Standardized  1007.657659"
      ]
     },
     "execution_count": 165,
     "metadata": {},
     "output_type": "execute_result"
    }
   ],
   "source": [
    "# training a Decision Tree model\n",
    "from sklearn.tree import DecisionTreeRegressor\n",
    "# measuring RMSE score\n",
    "from sklearn.metrics import mean_squared_error\n",
    "\n",
    "# Decision tree\n",
    "dt = DecisionTreeRegressor(max_depth=10,random_state=27)\n",
    "\n",
    "rmse = []\n",
    "\n",
    "# raw, normalized and standardized training and testing data\n",
    "trainX = [X_train,X_train_norm,X_train_stand]\n",
    "testX = [X_test,X_test_norm,X_test_stand]\n",
    "\n",
    "# model fitting and measuring RMSE\n",
    "for i in range(len(trainX)):\n",
    "    \n",
    "    # fit\n",
    "    dt.fit(trainX[i],y_train)\n",
    "    # predict\n",
    "    pred = dt.predict(testX[i])\n",
    "    # RMSE\n",
    "    rmse.append(np.sqrt(mean_squared_error(y_test,pred)))\n",
    "\n",
    "# visualizing the result    \n",
    "df_dt = pd.DataFrame({'RMSE':rmse},index=['Original','Normalized','Standardized'])\n",
    "df_dt"
   ]
  },
  {
   "cell_type": "code",
   "execution_count": null,
   "id": "15535ffe",
   "metadata": {},
   "outputs": [],
   "source": []
  },
  {
   "cell_type": "markdown",
   "id": "684c062e",
   "metadata": {},
   "source": [
    "#### 6. Random Forest Regression Model :-"
   ]
  },
  {
   "cell_type": "code",
   "execution_count": null,
   "id": "2e9e08e1",
   "metadata": {},
   "outputs": [],
   "source": []
  },
  {
   "cell_type": "code",
   "execution_count": 166,
   "id": "f1cfa1d7",
   "metadata": {},
   "outputs": [
    {
     "data": {
      "text/html": [
       "<div>\n",
       "<style scoped>\n",
       "    .dataframe tbody tr th:only-of-type {\n",
       "        vertical-align: middle;\n",
       "    }\n",
       "\n",
       "    .dataframe tbody tr th {\n",
       "        vertical-align: top;\n",
       "    }\n",
       "\n",
       "    .dataframe thead th {\n",
       "        text-align: right;\n",
       "    }\n",
       "</style>\n",
       "<table border=\"1\" class=\"dataframe\">\n",
       "  <thead>\n",
       "    <tr style=\"text-align: right;\">\n",
       "      <th></th>\n",
       "      <th>RMSE</th>\n",
       "    </tr>\n",
       "  </thead>\n",
       "  <tbody>\n",
       "    <tr>\n",
       "      <th>Original</th>\n",
       "      <td>1120.694075</td>\n",
       "    </tr>\n",
       "    <tr>\n",
       "      <th>Normalized</th>\n",
       "      <td>1120.694075</td>\n",
       "    </tr>\n",
       "    <tr>\n",
       "      <th>Standardized</th>\n",
       "      <td>1120.694075</td>\n",
       "    </tr>\n",
       "  </tbody>\n",
       "</table>\n",
       "</div>"
      ],
      "text/plain": [
       "                     RMSE\n",
       "Original      1120.694075\n",
       "Normalized    1120.694075\n",
       "Standardized  1120.694075"
      ]
     },
     "execution_count": 166,
     "metadata": {},
     "output_type": "execute_result"
    }
   ],
   "source": [
    "# Training a Random Forest Regression Model\n",
    "from sklearn.ensemble import RandomForestClassifier\n",
    "\n",
    "# measuring RMSE score\n",
    "from sklearn.metrics import mean_squared_error\n",
    "\n",
    "# Random Forest Regression Model\n",
    "\n",
    "#rnf = RandomForestClassifier(n_estimators=100,random_state = 27)\n",
    "rnf = RandomForestClassifier(n_estimators = 300, max_features = 'sqrt', max_depth = 5, random_state = 18)\n",
    "\n",
    "rmse =[]\n",
    "\n",
    "# raw, normalized and standardized training and testing data\n",
    "trainX = [X_train,X_train_norm,X_train_stand]\n",
    "testX = [X_test,X_test_norm,X_test_stand]\n",
    "\n",
    "# model fitting and measuring RMSE\n",
    "for i in range(len(trainX)):\n",
    "    \n",
    "    # fit\n",
    "    rnf.fit(trainX[i],y_train)\n",
    "    # predict\n",
    "    pred = rnf.predict(testX[i])\n",
    "    # RMSE\n",
    "    rmse.append(np.sqrt(mean_squared_error(y_test,pred)))\n",
    "\n",
    "# visualizing the result    \n",
    "df_rnf = pd.DataFrame({'RMSE':rmse},index=['Original','Normalized','Standardized'])\n",
    "df_rnf\n",
    "\n"
   ]
  },
  {
   "cell_type": "code",
   "execution_count": 269,
   "id": "10e50b17",
   "metadata": {},
   "outputs": [
    {
     "data": {
      "text/html": [
       "<div>\n",
       "<style scoped>\n",
       "    .dataframe tbody tr th:only-of-type {\n",
       "        vertical-align: middle;\n",
       "    }\n",
       "\n",
       "    .dataframe tbody tr th {\n",
       "        vertical-align: top;\n",
       "    }\n",
       "\n",
       "    .dataframe thead th {\n",
       "        text-align: right;\n",
       "    }\n",
       "</style>\n",
       "<table border=\"1\" class=\"dataframe\">\n",
       "  <thead>\n",
       "    <tr style=\"text-align: right;\">\n",
       "      <th></th>\n",
       "      <th>Adult</th>\n",
       "      <th>Budget</th>\n",
       "      <th>Id</th>\n",
       "      <th>imdb_id</th>\n",
       "      <th>Language</th>\n",
       "      <th>Movie_Name</th>\n",
       "      <th>overview</th>\n",
       "      <th>Popularity</th>\n",
       "      <th>Production_Company</th>\n",
       "      <th>Production_Country</th>\n",
       "      <th>Release_date</th>\n",
       "      <th>Revenue</th>\n",
       "      <th>Runtime</th>\n",
       "      <th>Status</th>\n",
       "      <th>Video</th>\n",
       "      <th>Average Vote</th>\n",
       "      <th>Vote Count</th>\n",
       "      <th>year</th>\n",
       "      <th>month</th>\n",
       "    </tr>\n",
       "  </thead>\n",
       "  <tbody>\n",
       "    <tr>\n",
       "      <th>count</th>\n",
       "      <td>45174.000000</td>\n",
       "      <td>45174.000000</td>\n",
       "      <td>45174.000000</td>\n",
       "      <td>45174.000000</td>\n",
       "      <td>45174.000000</td>\n",
       "      <td>45174.000000</td>\n",
       "      <td>45174.000000</td>\n",
       "      <td>45174.000000</td>\n",
       "      <td>45174.000000</td>\n",
       "      <td>45174.000000</td>\n",
       "      <td>45174.000000</td>\n",
       "      <td>45174.0</td>\n",
       "      <td>45174.000000</td>\n",
       "      <td>45174.000000</td>\n",
       "      <td>45174.000000</td>\n",
       "      <td>45174.000000</td>\n",
       "      <td>45174.000000</td>\n",
       "      <td>45174.000000</td>\n",
       "      <td>45174.000000</td>\n",
       "    </tr>\n",
       "    <tr>\n",
       "      <th>mean</th>\n",
       "      <td>0.000199</td>\n",
       "      <td>112.320494</td>\n",
       "      <td>22567.369283</td>\n",
       "      <td>22555.062425</td>\n",
       "      <td>23.579293</td>\n",
       "      <td>21533.466795</td>\n",
       "      <td>22172.122969</td>\n",
       "      <td>21123.907469</td>\n",
       "      <td>14699.741577</td>\n",
       "      <td>1879.379754</td>\n",
       "      <td>10930.400385</td>\n",
       "      <td>0.0</td>\n",
       "      <td>95.649275</td>\n",
       "      <td>4.994687</td>\n",
       "      <td>0.004007</td>\n",
       "      <td>5.556058</td>\n",
       "      <td>11.727011</td>\n",
       "      <td>1993.537583</td>\n",
       "      <td>6.015872</td>\n",
       "    </tr>\n",
       "    <tr>\n",
       "      <th>std</th>\n",
       "      <td>0.014114</td>\n",
       "      <td>273.157175</td>\n",
       "      <td>13034.221410</td>\n",
       "      <td>13031.018562</td>\n",
       "      <td>14.156463</td>\n",
       "      <td>12425.144563</td>\n",
       "      <td>12595.287509</td>\n",
       "      <td>12834.392681</td>\n",
       "      <td>7302.209577</td>\n",
       "      <td>665.919955</td>\n",
       "      <td>4760.537303</td>\n",
       "      <td>0.0</td>\n",
       "      <td>14.308879</td>\n",
       "      <td>0.182996</td>\n",
       "      <td>0.089057</td>\n",
       "      <td>1.969620</td>\n",
       "      <td>15.940222</td>\n",
       "      <td>22.065045</td>\n",
       "      <td>3.892882</td>\n",
       "    </tr>\n",
       "    <tr>\n",
       "      <th>min</th>\n",
       "      <td>0.000000</td>\n",
       "      <td>0.000000</td>\n",
       "      <td>0.000000</td>\n",
       "      <td>0.000000</td>\n",
       "      <td>0.000000</td>\n",
       "      <td>0.000000</td>\n",
       "      <td>0.000000</td>\n",
       "      <td>0.000000</td>\n",
       "      <td>0.000000</td>\n",
       "      <td>0.000000</td>\n",
       "      <td>0.000000</td>\n",
       "      <td>0.0</td>\n",
       "      <td>54.000000</td>\n",
       "      <td>0.000000</td>\n",
       "      <td>0.000000</td>\n",
       "      <td>0.000000</td>\n",
       "      <td>0.000000</td>\n",
       "      <td>1930.000000</td>\n",
       "      <td>0.000000</td>\n",
       "    </tr>\n",
       "    <tr>\n",
       "      <th>25%</th>\n",
       "      <td>0.000000</td>\n",
       "      <td>0.000000</td>\n",
       "      <td>11276.250000</td>\n",
       "      <td>11271.250000</td>\n",
       "      <td>18.000000</td>\n",
       "      <td>10739.250000</td>\n",
       "      <td>11280.250000</td>\n",
       "      <td>9896.250000</td>\n",
       "      <td>8457.250000</td>\n",
       "      <td>1428.000000</td>\n",
       "      <td>7427.250000</td>\n",
       "      <td>0.0</td>\n",
       "      <td>89.000000</td>\n",
       "      <td>5.000000</td>\n",
       "      <td>0.000000</td>\n",
       "      <td>5.000000</td>\n",
       "      <td>1.000000</td>\n",
       "      <td>1981.000000</td>\n",
       "      <td>3.000000</td>\n",
       "    </tr>\n",
       "    <tr>\n",
       "      <th>50%</th>\n",
       "      <td>0.000000</td>\n",
       "      <td>0.000000</td>\n",
       "      <td>22564.500000</td>\n",
       "      <td>22555.500000</td>\n",
       "      <td>18.000000</td>\n",
       "      <td>21589.500000</td>\n",
       "      <td>22561.500000</td>\n",
       "      <td>21049.500000</td>\n",
       "      <td>15819.500000</td>\n",
       "      <td>2356.000000</td>\n",
       "      <td>12097.000000</td>\n",
       "      <td>0.0</td>\n",
       "      <td>93.000000</td>\n",
       "      <td>5.000000</td>\n",
       "      <td>0.000000</td>\n",
       "      <td>6.000000</td>\n",
       "      <td>5.000000</td>\n",
       "      <td>2002.000000</td>\n",
       "      <td>6.000000</td>\n",
       "    </tr>\n",
       "    <tr>\n",
       "      <th>75%</th>\n",
       "      <td>0.000000</td>\n",
       "      <td>0.000000</td>\n",
       "      <td>33855.750000</td>\n",
       "      <td>33839.750000</td>\n",
       "      <td>18.000000</td>\n",
       "      <td>32308.750000</td>\n",
       "      <td>32745.750000</td>\n",
       "      <td>32237.750000</td>\n",
       "      <td>22564.000000</td>\n",
       "      <td>2356.000000</td>\n",
       "      <td>15013.000000</td>\n",
       "      <td>0.0</td>\n",
       "      <td>104.000000</td>\n",
       "      <td>5.000000</td>\n",
       "      <td>0.000000</td>\n",
       "      <td>6.800000</td>\n",
       "      <td>15.000000</td>\n",
       "      <td>2011.000000</td>\n",
       "      <td>10.000000</td>\n",
       "    </tr>\n",
       "    <tr>\n",
       "      <th>max</th>\n",
       "      <td>1.000000</td>\n",
       "      <td>1220.000000</td>\n",
       "      <td>45143.000000</td>\n",
       "      <td>45127.000000</td>\n",
       "      <td>89.000000</td>\n",
       "      <td>43129.000000</td>\n",
       "      <td>44023.000000</td>\n",
       "      <td>43483.000000</td>\n",
       "      <td>22564.000000</td>\n",
       "      <td>2374.000000</td>\n",
       "      <td>17247.000000</td>\n",
       "      <td>0.0</td>\n",
       "      <td>137.000000</td>\n",
       "      <td>6.000000</td>\n",
       "      <td>2.000000</td>\n",
       "      <td>9.500000</td>\n",
       "      <td>80.000000</td>\n",
       "      <td>2020.000000</td>\n",
       "      <td>12.000000</td>\n",
       "    </tr>\n",
       "  </tbody>\n",
       "</table>\n",
       "</div>"
      ],
      "text/plain": [
       "              Adult        Budget            Id       imdb_id      Language  \\\n",
       "count  45174.000000  45174.000000  45174.000000  45174.000000  45174.000000   \n",
       "mean       0.000199    112.320494  22567.369283  22555.062425     23.579293   \n",
       "std        0.014114    273.157175  13034.221410  13031.018562     14.156463   \n",
       "min        0.000000      0.000000      0.000000      0.000000      0.000000   \n",
       "25%        0.000000      0.000000  11276.250000  11271.250000     18.000000   \n",
       "50%        0.000000      0.000000  22564.500000  22555.500000     18.000000   \n",
       "75%        0.000000      0.000000  33855.750000  33839.750000     18.000000   \n",
       "max        1.000000   1220.000000  45143.000000  45127.000000     89.000000   \n",
       "\n",
       "         Movie_Name      overview    Popularity  Production_Company  \\\n",
       "count  45174.000000  45174.000000  45174.000000        45174.000000   \n",
       "mean   21533.466795  22172.122969  21123.907469        14699.741577   \n",
       "std    12425.144563  12595.287509  12834.392681         7302.209577   \n",
       "min        0.000000      0.000000      0.000000            0.000000   \n",
       "25%    10739.250000  11280.250000   9896.250000         8457.250000   \n",
       "50%    21589.500000  22561.500000  21049.500000        15819.500000   \n",
       "75%    32308.750000  32745.750000  32237.750000        22564.000000   \n",
       "max    43129.000000  44023.000000  43483.000000        22564.000000   \n",
       "\n",
       "       Production_Country  Release_date  Revenue       Runtime        Status  \\\n",
       "count        45174.000000  45174.000000  45174.0  45174.000000  45174.000000   \n",
       "mean          1879.379754  10930.400385      0.0     95.649275      4.994687   \n",
       "std            665.919955   4760.537303      0.0     14.308879      0.182996   \n",
       "min              0.000000      0.000000      0.0     54.000000      0.000000   \n",
       "25%           1428.000000   7427.250000      0.0     89.000000      5.000000   \n",
       "50%           2356.000000  12097.000000      0.0     93.000000      5.000000   \n",
       "75%           2356.000000  15013.000000      0.0    104.000000      5.000000   \n",
       "max           2374.000000  17247.000000      0.0    137.000000      6.000000   \n",
       "\n",
       "              Video  Average Vote    Vote Count          year         month  \n",
       "count  45174.000000  45174.000000  45174.000000  45174.000000  45174.000000  \n",
       "mean       0.004007      5.556058     11.727011   1993.537583      6.015872  \n",
       "std        0.089057      1.969620     15.940222     22.065045      3.892882  \n",
       "min        0.000000      0.000000      0.000000   1930.000000      0.000000  \n",
       "25%        0.000000      5.000000      1.000000   1981.000000      3.000000  \n",
       "50%        0.000000      6.000000      5.000000   2002.000000      6.000000  \n",
       "75%        0.000000      6.800000     15.000000   2011.000000     10.000000  \n",
       "max        2.000000      9.500000     80.000000   2020.000000     12.000000  "
      ]
     },
     "execution_count": 269,
     "metadata": {},
     "output_type": "execute_result"
    }
   ],
   "source": [
    "X.describe()"
   ]
  },
  {
   "cell_type": "code",
   "execution_count": 270,
   "id": "28dc873a",
   "metadata": {},
   "outputs": [
    {
     "data": {
      "text/plain": [
       "Adult                   int32\n",
       "Budget                  int32\n",
       "Genres                  int32\n",
       "Id                      int32\n",
       "imdb_id                 int32\n",
       "Language                int32\n",
       "Movie_Name              int32\n",
       "overview                int32\n",
       "Popularity              int32\n",
       "Production_Company      int32\n",
       "Production_Country      int32\n",
       "Release_date            int32\n",
       "Revenue               float64\n",
       "Runtime               float64\n",
       "Status                  int32\n",
       "Video                   int32\n",
       "Average Vote          float64\n",
       "Vote Count            float64\n",
       "year                  float64\n",
       "month                   int32\n",
       "dtype: object"
      ]
     },
     "execution_count": 270,
     "metadata": {},
     "output_type": "execute_result"
    }
   ],
   "source": [
    "dataset.dtypes"
   ]
  },
  {
   "cell_type": "markdown",
   "id": "c8796661",
   "metadata": {},
   "source": [
    "#    Simple Recommendation System : -"
   ]
  },
  {
   "cell_type": "markdown",
   "id": "f2352348",
   "metadata": {},
   "source": [
    "The Simple Recommendation System offers generalized recommnendations to every user based on movie popularity and (sometimes) genre. The basic idea behind this recommender is that movies that are more popular and more critically acclaimed will have a higher probability of being liked by the average audience. This model does not give personalized recommendations based on the user.\n",
    "\n",
    "The implementation of this model is extremely trivial. All we have to do is sort our movies based on ratings and popularity and display the top movies of our list. As an added step, we can pass in a genre argument to get the top movies of a particular genre"
   ]
  },
  {
   "cell_type": "markdown",
   "id": "032cc5a9",
   "metadata": {},
   "source": [
    "I use the TMDB Ratings to come up with our Top Movies Chart. I will use IMDB's weighted rating formula to construct my chart. Mathematically, it is represented as follows:\n",
    "\n",
    "Weighted Rating (WR) = I use the TMDB Ratings to come up with our Top Movies Chart. I will use IMDB's weighted rating formula to construct my chart. Mathematically, it is represented as follows:\n",
    "\n",
    "Weighted Rating (WR) = ( (v/v + m) * R) + ((v/ v+ m) *C\n",
    " \n",
    " \n",
    " \n",
    "\n",
    "where,\n",
    "\n",
    "v is the number of votes for the movie\n",
    "m is the minimum votes required to be listed in the chart\n",
    "R is the average rating of the movie\n",
    "C is the mean vote across the whole report\n",
    "The next step is to determine an appropriate value for m, the minimum votes required to be listed in the chart. We will use 95th percentile as our cutoff. In other words, for a movie to feature in the charts, it must have more votes than at least 95% of the movies in the list.\n",
    "\n",
    "By building an overall Top 250 Chart and will define a function to build charts for a particular genre. Let's begin!"
   ]
  },
  {
   "cell_type": "code",
   "execution_count": 289,
   "id": "df388f0f",
   "metadata": {},
   "outputs": [
    {
     "data": {
      "text/plain": [
       "5.184265285341126"
      ]
     },
     "execution_count": 289,
     "metadata": {},
     "output_type": "execute_result"
    }
   ],
   "source": [
    "# votes counts column excluding the null values and casting it into integer\n",
    "Vote_Counts = dataset[dataset['Vote Count'].notnull()]['Vote Count'].astype('int')\n",
    "\n",
    "# vote averages column exlcuding the null values and casting into float\n",
    "vote_averages = dataset[dataset['Average Vote'].notnull()]['Average Vote'].astype('int')\n",
    "\n",
    "# Calculating average value\n",
    "C = vote_averages.mean()\n",
    "C"
   ]
  },
  {
   "cell_type": "code",
   "execution_count": 290,
   "id": "519064fc",
   "metadata": {},
   "outputs": [
    {
     "data": {
      "text/plain": [
       "Adult                   int32\n",
       "Budget                  int32\n",
       "Genres                  int32\n",
       "Id                      int32\n",
       "imdb_id                 int32\n",
       "Language                int32\n",
       "Movie_Name              int32\n",
       "overview                int32\n",
       "Popularity              int32\n",
       "Production_Company      int32\n",
       "Production_Country      int32\n",
       "Release_date            int32\n",
       "Revenue               float64\n",
       "Runtime               float64\n",
       "Status                  int32\n",
       "Video                   int32\n",
       "Average Vote          float64\n",
       "Vote Count            float64\n",
       "year                  float64\n",
       "month                   int32\n",
       "dtype: object"
      ]
     },
     "execution_count": 290,
     "metadata": {},
     "output_type": "execute_result"
    }
   ],
   "source": [
    "dataset.dtypes\n"
   ]
  },
  {
   "cell_type": "code",
   "execution_count": 291,
   "id": "bdff236e",
   "metadata": {},
   "outputs": [
    {
     "data": {
      "text/plain": [
       "49.0"
      ]
     },
     "execution_count": 291,
     "metadata": {},
     "output_type": "execute_result"
    }
   ],
   "source": [
    "#calculating minimum number of votes requirement for any entry using the 95th percentile\n",
    "\n",
    "m = Vote_Counts.quantile(0.95)\n",
    "m"
   ]
  },
  {
   "cell_type": "code",
   "execution_count": 292,
   "id": "1f3970f4",
   "metadata": {},
   "outputs": [
    {
     "data": {
      "text/plain": [
       "(2362, 6)"
      ]
     },
     "execution_count": 292,
     "metadata": {},
     "output_type": "execute_result"
    }
   ],
   "source": [
    "# Copying the appropriate columns of metadata to qualified movies with votes_counts >= m\n",
    "\n",
    "qualified_movies = dataset[(dataset['Vote Count'] >= m) & (dataset['Vote Count'].notnull()) & (dataset['Average Vote'].notnull())][['Movie_Name', 'year', 'Vote Count', 'Average Vote', 'Popularity', 'Genres']]\n",
    "qualified_movies['Vote Count'] = qualified_movies['Vote Count'].astype('int')\n",
    "qualified_movies['Average Vote'] = qualified_movies['Average Vote'].astype('int')\n",
    "qualified_movies.shape"
   ]
  },
  {
   "cell_type": "code",
   "execution_count": 293,
   "id": "b6466417",
   "metadata": {},
   "outputs": [
    {
     "data": {
      "text/plain": [
       "Adult                   int32\n",
       "Budget                  int32\n",
       "Genres                  int32\n",
       "Id                      int32\n",
       "imdb_id                 int32\n",
       "Language                int32\n",
       "Movie_Name              int32\n",
       "overview                int32\n",
       "Popularity              int32\n",
       "Production_Company      int32\n",
       "Production_Country      int32\n",
       "Release_date            int32\n",
       "Revenue               float64\n",
       "Runtime               float64\n",
       "Status                  int32\n",
       "Video                   int32\n",
       "Average Vote          float64\n",
       "Vote Count            float64\n",
       "year                  float64\n",
       "month                   int32\n",
       "dtype: object"
      ]
     },
     "execution_count": 293,
     "metadata": {},
     "output_type": "execute_result"
    }
   ],
   "source": [
    "dataset.dtypes"
   ]
  },
  {
   "cell_type": "markdown",
   "id": "bd58d309",
   "metadata": {},
   "source": [
    "Therefore, to qualify to be considered for the chart, a movie has to have at least 434 votes on TMDB. We also see that the average rating for a movie on TMDB is 5.244 on a scale of 10. 2362 Movies qualify to be on our chart"
   ]
  },
  {
   "cell_type": "code",
   "execution_count": 294,
   "id": "1460efc5",
   "metadata": {},
   "outputs": [],
   "source": [
    "# Function that computes the weighted rating of each movie'\n",
    "\n",
    "def weighted_rating(x):\n",
    "    v = x['Vote Count']\n",
    "    R = x['Average Vote']\n",
    "    \n",
    "    # Calculation based on the IMDB formula\n",
    "    return (v/(v+m) * R) + (m/(m+v) * C)"
   ]
  },
  {
   "cell_type": "code",
   "execution_count": 295,
   "id": "0a8900c0",
   "metadata": {},
   "outputs": [],
   "source": [
    "qualified_movies['wr'] = qualified_movies.apply(weighted_rating, axis=1)"
   ]
  },
  {
   "cell_type": "code",
   "execution_count": 296,
   "id": "5e6011aa",
   "metadata": {},
   "outputs": [
    {
     "data": {
      "text/html": [
       "<div>\n",
       "<style scoped>\n",
       "    .dataframe tbody tr th:only-of-type {\n",
       "        vertical-align: middle;\n",
       "    }\n",
       "\n",
       "    .dataframe tbody tr th {\n",
       "        vertical-align: top;\n",
       "    }\n",
       "\n",
       "    .dataframe thead th {\n",
       "        text-align: right;\n",
       "    }\n",
       "</style>\n",
       "<table border=\"1\" class=\"dataframe\">\n",
       "  <thead>\n",
       "    <tr style=\"text-align: right;\">\n",
       "      <th></th>\n",
       "      <th>Movie_Name</th>\n",
       "      <th>year</th>\n",
       "      <th>Vote Count</th>\n",
       "      <th>Average Vote</th>\n",
       "      <th>Popularity</th>\n",
       "      <th>Genres</th>\n",
       "      <th>wr</th>\n",
       "    </tr>\n",
       "  </thead>\n",
       "  <tbody>\n",
       "    <tr>\n",
       "      <th>13</th>\n",
       "      <td>22753</td>\n",
       "      <td>1995.0</td>\n",
       "      <td>72</td>\n",
       "      <td>7</td>\n",
       "      <td>37496</td>\n",
       "      <td>2819</td>\n",
       "      <td>6.264702</td>\n",
       "    </tr>\n",
       "    <tr>\n",
       "      <th>40</th>\n",
       "      <td>26113</td>\n",
       "      <td>1995.0</td>\n",
       "      <td>50</td>\n",
       "      <td>6</td>\n",
       "      <td>36615</td>\n",
       "      <td>2366</td>\n",
       "      <td>5.596253</td>\n",
       "    </tr>\n",
       "    <tr>\n",
       "      <th>41</th>\n",
       "      <td>7944</td>\n",
       "      <td>1995.0</td>\n",
       "      <td>80</td>\n",
       "      <td>6</td>\n",
       "      <td>43390</td>\n",
       "      <td>339</td>\n",
       "      <td>5.690147</td>\n",
       "    </tr>\n",
       "    <tr>\n",
       "      <th>60</th>\n",
       "      <td>10523</td>\n",
       "      <td>1996.0</td>\n",
       "      <td>65</td>\n",
       "      <td>5</td>\n",
       "      <td>36909</td>\n",
       "      <td>2351</td>\n",
       "      <td>5.079202</td>\n",
       "    </tr>\n",
       "    <tr>\n",
       "      <th>70</th>\n",
       "      <td>10603</td>\n",
       "      <td>1995.0</td>\n",
       "      <td>54</td>\n",
       "      <td>4</td>\n",
       "      <td>38778</td>\n",
       "      <td>606</td>\n",
       "      <td>4.563388</td>\n",
       "    </tr>\n",
       "  </tbody>\n",
       "</table>\n",
       "</div>"
      ],
      "text/plain": [
       "    Movie_Name    year  Vote Count  Average Vote  Popularity  Genres        wr\n",
       "13       22753  1995.0          72             7       37496    2819  6.264702\n",
       "40       26113  1995.0          50             6       36615    2366  5.596253\n",
       "41        7944  1995.0          80             6       43390     339  5.690147\n",
       "60       10523  1996.0          65             5       36909    2351  5.079202\n",
       "70       10603  1995.0          54             4       38778     606  4.563388"
      ]
     },
     "execution_count": 296,
     "metadata": {},
     "output_type": "execute_result"
    }
   ],
   "source": [
    "qualified_movies.head()"
   ]
  },
  {
   "cell_type": "code",
   "execution_count": 297,
   "id": "c57d3615",
   "metadata": {},
   "outputs": [],
   "source": [
    "qualified_movies = qualified_movies.sort_values('wr', ascending=False).head(250)"
   ]
  },
  {
   "cell_type": "code",
   "execution_count": 298,
   "id": "f9c55059",
   "metadata": {},
   "outputs": [
    {
     "data": {
      "text/html": [
       "<div>\n",
       "<style scoped>\n",
       "    .dataframe tbody tr th:only-of-type {\n",
       "        vertical-align: middle;\n",
       "    }\n",
       "\n",
       "    .dataframe tbody tr th {\n",
       "        vertical-align: top;\n",
       "    }\n",
       "\n",
       "    .dataframe thead th {\n",
       "        text-align: right;\n",
       "    }\n",
       "</style>\n",
       "<table border=\"1\" class=\"dataframe\">\n",
       "  <thead>\n",
       "    <tr style=\"text-align: right;\">\n",
       "      <th></th>\n",
       "      <th>Movie_Name</th>\n",
       "      <th>year</th>\n",
       "      <th>Vote Count</th>\n",
       "      <th>Average Vote</th>\n",
       "      <th>Popularity</th>\n",
       "      <th>Genres</th>\n",
       "      <th>wr</th>\n",
       "    </tr>\n",
       "  </thead>\n",
       "  <tbody>\n",
       "    <tr>\n",
       "      <th>18533</th>\n",
       "      <td>19687</td>\n",
       "      <td>2011.0</td>\n",
       "      <td>80</td>\n",
       "      <td>8</td>\n",
       "      <td>36153</td>\n",
       "      <td>1595</td>\n",
       "      <td>6.930457</td>\n",
       "    </tr>\n",
       "    <tr>\n",
       "      <th>24236</th>\n",
       "      <td>33482</td>\n",
       "      <td>2014.0</td>\n",
       "      <td>75</td>\n",
       "      <td>8</td>\n",
       "      <td>37241</td>\n",
       "      <td>2798</td>\n",
       "      <td>6.887331</td>\n",
       "    </tr>\n",
       "    <tr>\n",
       "      <th>25024</th>\n",
       "      <td>38136</td>\n",
       "      <td>2014.0</td>\n",
       "      <td>74</td>\n",
       "      <td>8</td>\n",
       "      <td>38008</td>\n",
       "      <td>1837</td>\n",
       "      <td>6.878285</td>\n",
       "    </tr>\n",
       "    <tr>\n",
       "      <th>9674</th>\n",
       "      <td>18473</td>\n",
       "      <td>1960.0</td>\n",
       "      <td>73</td>\n",
       "      <td>8</td>\n",
       "      <td>38659</td>\n",
       "      <td>1707</td>\n",
       "      <td>6.869090</td>\n",
       "    </tr>\n",
       "    <tr>\n",
       "      <th>7819</th>\n",
       "      <td>928</td>\n",
       "      <td>1946.0</td>\n",
       "      <td>73</td>\n",
       "      <td>8</td>\n",
       "      <td>39629</td>\n",
       "      <td>2639</td>\n",
       "      <td>6.869090</td>\n",
       "    </tr>\n",
       "    <tr>\n",
       "      <th>8860</th>\n",
       "      <td>2454</td>\n",
       "      <td>1985.0</td>\n",
       "      <td>71</td>\n",
       "      <td>8</td>\n",
       "      <td>40651</td>\n",
       "      <td>2054</td>\n",
       "      <td>6.850242</td>\n",
       "    </tr>\n",
       "    <tr>\n",
       "      <th>18697</th>\n",
       "      <td>30657</td>\n",
       "      <td>2011.0</td>\n",
       "      <td>70</td>\n",
       "      <td>8</td>\n",
       "      <td>33879</td>\n",
       "      <td>791</td>\n",
       "      <td>6.840580</td>\n",
       "    </tr>\n",
       "    <tr>\n",
       "      <th>16978</th>\n",
       "      <td>19685</td>\n",
       "      <td>2010.0</td>\n",
       "      <td>70</td>\n",
       "      <td>8</td>\n",
       "      <td>35418</td>\n",
       "      <td>1595</td>\n",
       "      <td>6.840580</td>\n",
       "    </tr>\n",
       "    <tr>\n",
       "      <th>10663</th>\n",
       "      <td>42126</td>\n",
       "      <td>1949.0</td>\n",
       "      <td>70</td>\n",
       "      <td>8</td>\n",
       "      <td>37844</td>\n",
       "      <td>2374</td>\n",
       "      <td>6.840580</td>\n",
       "    </tr>\n",
       "    <tr>\n",
       "      <th>7643</th>\n",
       "      <td>41945</td>\n",
       "      <td>1954.0</td>\n",
       "      <td>68</td>\n",
       "      <td>8</td>\n",
       "      <td>37509</td>\n",
       "      <td>2374</td>\n",
       "      <td>6.820761</td>\n",
       "    </tr>\n",
       "    <tr>\n",
       "      <th>1151</th>\n",
       "      <td>24069</td>\n",
       "      <td>1990.0</td>\n",
       "      <td>67</td>\n",
       "      <td>8</td>\n",
       "      <td>35834</td>\n",
       "      <td>1839</td>\n",
       "      <td>6.810595</td>\n",
       "    </tr>\n",
       "    <tr>\n",
       "      <th>34931</th>\n",
       "      <td>39098</td>\n",
       "      <td>2015.0</td>\n",
       "      <td>65</td>\n",
       "      <td>8</td>\n",
       "      <td>33262</td>\n",
       "      <td>1839</td>\n",
       "      <td>6.789728</td>\n",
       "    </tr>\n",
       "    <tr>\n",
       "      <th>5364</th>\n",
       "      <td>42498</td>\n",
       "      <td>1965.0</td>\n",
       "      <td>64</td>\n",
       "      <td>8</td>\n",
       "      <td>36073</td>\n",
       "      <td>2374</td>\n",
       "      <td>6.779018</td>\n",
       "    </tr>\n",
       "    <tr>\n",
       "      <th>13797</th>\n",
       "      <td>35144</td>\n",
       "      <td>2008.0</td>\n",
       "      <td>63</td>\n",
       "      <td>8</td>\n",
       "      <td>35075</td>\n",
       "      <td>1711</td>\n",
       "      <td>6.768116</td>\n",
       "    </tr>\n",
       "    <tr>\n",
       "      <th>8970</th>\n",
       "      <td>13301</td>\n",
       "      <td>1991.0</td>\n",
       "      <td>61</td>\n",
       "      <td>8</td>\n",
       "      <td>36708</td>\n",
       "      <td>1839</td>\n",
       "      <td>6.745718</td>\n",
       "    </tr>\n",
       "  </tbody>\n",
       "</table>\n",
       "</div>"
      ],
      "text/plain": [
       "       Movie_Name    year  Vote Count  Average Vote  Popularity  Genres  \\\n",
       "18533       19687  2011.0          80             8       36153    1595   \n",
       "24236       33482  2014.0          75             8       37241    2798   \n",
       "25024       38136  2014.0          74             8       38008    1837   \n",
       "9674        18473  1960.0          73             8       38659    1707   \n",
       "7819          928  1946.0          73             8       39629    2639   \n",
       "8860         2454  1985.0          71             8       40651    2054   \n",
       "18697       30657  2011.0          70             8       33879     791   \n",
       "16978       19685  2010.0          70             8       35418    1595   \n",
       "10663       42126  1949.0          70             8       37844    2374   \n",
       "7643        41945  1954.0          68             8       37509    2374   \n",
       "1151        24069  1990.0          67             8       35834    1839   \n",
       "34931       39098  2015.0          65             8       33262    1839   \n",
       "5364        42498  1965.0          64             8       36073    2374   \n",
       "13797       35144  2008.0          63             8       35075    1711   \n",
       "8970        13301  1991.0          61             8       36708    1839   \n",
       "\n",
       "             wr  \n",
       "18533  6.930457  \n",
       "24236  6.887331  \n",
       "25024  6.878285  \n",
       "9674   6.869090  \n",
       "7819   6.869090  \n",
       "8860   6.850242  \n",
       "18697  6.840580  \n",
       "16978  6.840580  \n",
       "10663  6.840580  \n",
       "7643   6.820761  \n",
       "1151   6.810595  \n",
       "34931  6.789728  \n",
       "5364   6.779018  \n",
       "13797  6.768116  \n",
       "8970   6.745718  "
      ]
     },
     "execution_count": 298,
     "metadata": {},
     "output_type": "execute_result"
    }
   ],
   "source": [
    "qualified_movies.head(15)"
   ]
  },
  {
   "cell_type": "markdown",
   "id": "8d495e43",
   "metadata": {},
   "source": [
    "From the above output we can say that the simple recommender does really well! We all have seen these top rated movies on IMDb top 250 movies list.¶\n",
    "We also happen to see that three Christopher Nolan Films, Inception, The Dark Knight and Interstellar occur at the very top of our chart. The chart also indicates a strong bias of TMDB Users towards particular genres and directors.\n",
    "Let us now construct our function that builds charts for particular genres. For this, we will use relax our default conditions to the 85th percentile instead of 9"
   ]
  },
  {
   "cell_type": "code",
   "execution_count": 299,
   "id": "21335fc6",
   "metadata": {},
   "outputs": [
    {
     "data": {
      "text/plain": [
       "Adult                   int32\n",
       "Budget                  int32\n",
       "Genres                  int32\n",
       "Id                      int32\n",
       "imdb_id                 int32\n",
       "Language                int32\n",
       "Movie_Name              int32\n",
       "overview                int32\n",
       "Popularity              int32\n",
       "Production_Company      int32\n",
       "Production_Country      int32\n",
       "Release_date            int32\n",
       "Revenue               float64\n",
       "Runtime               float64\n",
       "Status                  int32\n",
       "Video                   int32\n",
       "Average Vote          float64\n",
       "Vote Count            float64\n",
       "year                  float64\n",
       "month                   int32\n",
       "dtype: object"
      ]
     },
     "execution_count": 299,
     "metadata": {},
     "output_type": "execute_result"
    }
   ],
   "source": [
    "dataset.dtypes"
   ]
  },
  {
   "cell_type": "code",
   "execution_count": 305,
   "id": "225d694f",
   "metadata": {},
   "outputs": [
    {
     "data": {
      "text/html": [
       "<div>\n",
       "<style scoped>\n",
       "    .dataframe tbody tr th:only-of-type {\n",
       "        vertical-align: middle;\n",
       "    }\n",
       "\n",
       "    .dataframe tbody tr th {\n",
       "        vertical-align: top;\n",
       "    }\n",
       "\n",
       "    .dataframe thead th {\n",
       "        text-align: right;\n",
       "    }\n",
       "</style>\n",
       "<table border=\"1\" class=\"dataframe\">\n",
       "  <thead>\n",
       "    <tr style=\"text-align: right;\">\n",
       "      <th></th>\n",
       "      <th>Movie_Name</th>\n",
       "      <th>year</th>\n",
       "      <th>Vote Count</th>\n",
       "      <th>Average Vote</th>\n",
       "      <th>Popularity</th>\n",
       "      <th>wr</th>\n",
       "      <th>genre</th>\n",
       "    </tr>\n",
       "  </thead>\n",
       "  <tbody>\n",
       "    <tr>\n",
       "      <th>18533</th>\n",
       "      <td>19687</td>\n",
       "      <td>2011.0</td>\n",
       "      <td>80</td>\n",
       "      <td>8</td>\n",
       "      <td>36153</td>\n",
       "      <td>6.930457</td>\n",
       "      <td>1595.0</td>\n",
       "    </tr>\n",
       "    <tr>\n",
       "      <th>24236</th>\n",
       "      <td>33482</td>\n",
       "      <td>2014.0</td>\n",
       "      <td>75</td>\n",
       "      <td>8</td>\n",
       "      <td>37241</td>\n",
       "      <td>6.887331</td>\n",
       "      <td>2798.0</td>\n",
       "    </tr>\n",
       "    <tr>\n",
       "      <th>25024</th>\n",
       "      <td>38136</td>\n",
       "      <td>2014.0</td>\n",
       "      <td>74</td>\n",
       "      <td>8</td>\n",
       "      <td>38008</td>\n",
       "      <td>6.878285</td>\n",
       "      <td>1837.0</td>\n",
       "    </tr>\n",
       "    <tr>\n",
       "      <th>9674</th>\n",
       "      <td>18473</td>\n",
       "      <td>1960.0</td>\n",
       "      <td>73</td>\n",
       "      <td>8</td>\n",
       "      <td>38659</td>\n",
       "      <td>6.869090</td>\n",
       "      <td>1707.0</td>\n",
       "    </tr>\n",
       "    <tr>\n",
       "      <th>7819</th>\n",
       "      <td>928</td>\n",
       "      <td>1946.0</td>\n",
       "      <td>73</td>\n",
       "      <td>8</td>\n",
       "      <td>39629</td>\n",
       "      <td>6.869090</td>\n",
       "      <td>2639.0</td>\n",
       "    </tr>\n",
       "  </tbody>\n",
       "</table>\n",
       "</div>"
      ],
      "text/plain": [
       "       Movie_Name    year  Vote Count  Average Vote  Popularity        wr  \\\n",
       "18533       19687  2011.0          80             8       36153  6.930457   \n",
       "24236       33482  2014.0          75             8       37241  6.887331   \n",
       "25024       38136  2014.0          74             8       38008  6.878285   \n",
       "9674        18473  1960.0          73             8       38659  6.869090   \n",
       "7819          928  1946.0          73             8       39629  6.869090   \n",
       "\n",
       "        genre  \n",
       "18533  1595.0  \n",
       "24236  2798.0  \n",
       "25024  1837.0  \n",
       "9674   1707.0  \n",
       "7819   2639.0  "
      ]
     },
     "execution_count": 305,
     "metadata": {},
     "output_type": "execute_result"
    }
   ],
   "source": [
    "s = qualified_movies.apply(lambda x: pd.Series(x['Genres']),axis=1).stack().reset_index(level=1, drop=True)\n",
    "s.name = 'genre'\n",
    "gen_dataset = qualified_movies.drop('Genres', axis=1).join(s)\n",
    "gen_dataset.head()"
   ]
  },
  {
   "cell_type": "code",
   "execution_count": 306,
   "id": "e44b6d93",
   "metadata": {},
   "outputs": [
    {
     "data": {
      "text/plain": [
       "Movie_Name        int32\n",
       "year            float64\n",
       "Vote Count        int32\n",
       "Average Vote      int32\n",
       "Popularity        int32\n",
       "wr              float64\n",
       "genre           float64\n",
       "dtype: object"
      ]
     },
     "execution_count": 306,
     "metadata": {},
     "output_type": "execute_result"
    }
   ],
   "source": [
    "gen_dataset.dtypes"
   ]
  },
  {
   "cell_type": "markdown",
   "id": "6a4c75f8",
   "metadata": {},
   "source": [
    "##### Future Procedings: -\n",
    "\n",
    "###### On further Inverse Encoding, We are able to build the chart of the movies comes under particular genre selected as per the user's demand."
   ]
  },
  {
   "cell_type": "markdown",
   "id": "98e0cdcc",
   "metadata": {},
   "source": [
    "Let us see our method in action by displaying the Top 15 selected Genre based Movies."
   ]
  },
  {
   "cell_type": "markdown",
   "id": "cd4a1696",
   "metadata": {},
   "source": [
    "build_chart('Romance').head(15)"
   ]
  },
  {
   "cell_type": "markdown",
   "id": "5233f6cb",
   "metadata": {},
   "source": [
    "build_chart('Comedy').head(15)"
   ]
  },
  {
   "cell_type": "markdown",
   "id": "850bad8b",
   "metadata": {},
   "source": [
    "build_chart('Action').head(15)"
   ]
  },
  {
   "cell_type": "code",
   "execution_count": null,
   "id": "6909fcc9",
   "metadata": {},
   "outputs": [],
   "source": []
  }
 ],
 "metadata": {
  "kernelspec": {
   "display_name": "Python 3 (ipykernel)",
   "language": "python",
   "name": "python3"
  },
  "language_info": {
   "codemirror_mode": {
    "name": "ipython",
    "version": 3
   },
   "file_extension": ".py",
   "mimetype": "text/x-python",
   "name": "python",
   "nbconvert_exporter": "python",
   "pygments_lexer": "ipython3",
   "version": "3.9.7"
  }
 },
 "nbformat": 4,
 "nbformat_minor": 5
}
